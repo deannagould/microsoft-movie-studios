{
 "cells": [
  {
   "cell_type": "markdown",
   "metadata": {},
   "source": [
    "![movieset](movie_set.png)"
   ]
  },
  {
   "cell_type": "markdown",
   "metadata": {},
   "source": [
    "# Microsoft's Next Move\n",
    "\n",
    "**Deanna Gould**\n",
    "***"
   ]
  },
  {
   "cell_type": "markdown",
   "metadata": {},
   "source": [
    "## Overview\n",
    "\n",
    "This project is going to go help solve some questions for Microsoft as they start entering the realm of movie production. Since Microsoft hasn't been in the entertainment business in such a way before, Microsoft's executives need to know what is most important in creating a successful movie in order to properly allocate resources. \n",
    "\n",
    "The data that I use in this analysis is IMDB data in CSV files. In this analysis, I explore the DataFrames and learn what the DataFrame includes and what some limitations are. Afterward, I clean the data to make sure everything is in proper format, the data types necessary to perform the analysis, and when preparing the data, I start to merge the DataFrames into one. After I've merged everything, I remove anything that isn't needed, and I look at maximum and minimum correlation, as well as plotting some graphs. \n",
    "\n",
    "The results were very telling. When comparing genres to worldwide gross, Action earned the most revenue by a considerable amount, followed by Adventure. I then compared directors and sorted directors by worldwide gross as well as rating. This gave lots of insight into which directors have the highest gross, along with their average rating. In addition to that, I compared production budget to worldwide gross. In order to have a successful movie, I would recommend that the movie be an Action movie, with a production budget of at least 2 million, directed by Gail Cronauer or Neil Ruddock."
   ]
  },
  {
   "cell_type": "markdown",
   "metadata": {},
   "source": [
    "***"
   ]
  },
  {
   "cell_type": "markdown",
   "metadata": {},
   "source": [
    "## Business Problem\n",
    "\n",
    "Microsoft hasn't created any movies yet, and needs three solid recommendations of what to focus resources on. In my experience, some of the best movies had famous directors and extremely expensive budgets, but I also wanted to know if it mattered what genre a movie was. In this analysis, I'm measuring success by worldwide gross and average rating, because Microsoft should be concerned about their ROI along with what people think of the movie. From a business perspective, Microsoft's first movie will be remembered by many, an in order to be taken seriously in the entertainment industry, it will need to be known around the world, as well as having good ratings.\n"
   ]
  },
  {
   "cell_type": "markdown",
   "metadata": {},
   "source": [
    "***"
   ]
  },
  {
   "cell_type": "markdown",
   "metadata": {},
   "source": [
    "## Data Understanding"
   ]
  },
  {
   "cell_type": "code",
   "execution_count": 565,
   "metadata": {},
   "outputs": [],
   "source": [
    "# Importing standard packages needed for the notebook\n",
    "\n",
    "import pandas as pd\n",
    "import numpy as np\n",
    "import matplotlib.pyplot as plt\n",
    "import seaborn as sns\n",
    "import sqlite3\n",
    "from sklearn.preprocessing import OneHotEncoder\n",
    "\n",
    "\n",
    "%matplotlib inline"
   ]
  },
  {
   "cell_type": "code",
   "execution_count": 566,
   "metadata": {},
   "outputs": [],
   "source": [
    "# Here I'm importing the CSV's and creating dataframes for the files, and also establishing my connection for SQLite.\n",
    "\n",
    "mvs = pd.read_csv('zippedData/tmdb.movies.csv.gz', index_col=0)\n",
    "budg = pd.read_csv('zippedData/tn.movie_budgets.csv.gz', index_col=0)\n",
    "inf = pd.read_csv('zippedData/rt.movie_info.tsv.gz', delimiter='\\t', index_col=0)\n",
    "conn = sqlite3.connect('zippedData/im.db')\n",
    "basics = pd.read_sql(\"\"\"SELECT * FROM movie_basics;\"\"\", conn)\n",
    "ratings = pd.read_sql(\"\"\"SELECT * FROM movie_ratings;\"\"\", conn)\n",
    "mdir = pd.read_sql(\"\"\"SELECT * FROM directors;\"\"\", conn)\n",
    "ppl = pd.read_sql(\"\"\"SELECT * FROM persons;\"\"\", conn)"
   ]
  },
  {
   "cell_type": "markdown",
   "metadata": {},
   "source": [
    "### *Creating a function to recycle in Data Understanding*"
   ]
  },
  {
   "cell_type": "markdown",
   "metadata": {},
   "source": [
    "This function was found in one of the Github Repositories for this project written by Erin Hoffman which can be found here: [Repository Readability](https://github.com/learn-co-curriculum/dsc-repo-readability-v2-2)."
   ]
  },
  {
   "cell_type": "code",
   "execution_count": 567,
   "metadata": {},
   "outputs": [],
   "source": [
    "# This function will save some time when learning about the key features of the DataFrames\n",
    "\n",
    "def summarize_data(df):\n",
    "    summary = pd.DataFrame(df.dtypes,columns=['dtypes'])\n",
    "    summary = summary.reset_index()\n",
    "    summary['Name'] = summary['index']\n",
    "    summary = summary[['Name','dtypes']]\n",
    "    summary['Missing'] = df.isnull().sum().values    \n",
    "    summary['Uniques'] = df.nunique().values\n",
    "    summary['Duplicates'] = df.duplicated().sum()\n",
    "\n",
    "    return summary "
   ]
  },
  {
   "cell_type": "markdown",
   "metadata": {},
   "source": [
    "**Understanding the basics DataFrame**"
   ]
  },
  {
   "cell_type": "markdown",
   "metadata": {},
   "source": [
    "First I'm going to run this DataFrame through the function I created and see if anything stands out to me."
   ]
  },
  {
   "cell_type": "code",
   "execution_count": 568,
   "metadata": {},
   "outputs": [
    {
     "data": {
      "text/html": [
       "<div>\n",
       "<style scoped>\n",
       "    .dataframe tbody tr th:only-of-type {\n",
       "        vertical-align: middle;\n",
       "    }\n",
       "\n",
       "    .dataframe tbody tr th {\n",
       "        vertical-align: top;\n",
       "    }\n",
       "\n",
       "    .dataframe thead th {\n",
       "        text-align: right;\n",
       "    }\n",
       "</style>\n",
       "<table border=\"1\" class=\"dataframe\">\n",
       "  <thead>\n",
       "    <tr style=\"text-align: right;\">\n",
       "      <th></th>\n",
       "      <th>Name</th>\n",
       "      <th>dtypes</th>\n",
       "      <th>Missing</th>\n",
       "      <th>Uniques</th>\n",
       "      <th>Duplicates</th>\n",
       "    </tr>\n",
       "  </thead>\n",
       "  <tbody>\n",
       "    <tr>\n",
       "      <th>0</th>\n",
       "      <td>movie_id</td>\n",
       "      <td>object</td>\n",
       "      <td>0</td>\n",
       "      <td>146144</td>\n",
       "      <td>0</td>\n",
       "    </tr>\n",
       "    <tr>\n",
       "      <th>1</th>\n",
       "      <td>primary_title</td>\n",
       "      <td>object</td>\n",
       "      <td>0</td>\n",
       "      <td>136071</td>\n",
       "      <td>0</td>\n",
       "    </tr>\n",
       "    <tr>\n",
       "      <th>2</th>\n",
       "      <td>original_title</td>\n",
       "      <td>object</td>\n",
       "      <td>21</td>\n",
       "      <td>137773</td>\n",
       "      <td>0</td>\n",
       "    </tr>\n",
       "    <tr>\n",
       "      <th>3</th>\n",
       "      <td>start_year</td>\n",
       "      <td>int64</td>\n",
       "      <td>0</td>\n",
       "      <td>19</td>\n",
       "      <td>0</td>\n",
       "    </tr>\n",
       "    <tr>\n",
       "      <th>4</th>\n",
       "      <td>runtime_minutes</td>\n",
       "      <td>float64</td>\n",
       "      <td>31739</td>\n",
       "      <td>367</td>\n",
       "      <td>0</td>\n",
       "    </tr>\n",
       "    <tr>\n",
       "      <th>5</th>\n",
       "      <td>genres</td>\n",
       "      <td>object</td>\n",
       "      <td>5408</td>\n",
       "      <td>1085</td>\n",
       "      <td>0</td>\n",
       "    </tr>\n",
       "  </tbody>\n",
       "</table>\n",
       "</div>"
      ],
      "text/plain": [
       "              Name   dtypes  Missing  Uniques  Duplicates\n",
       "0         movie_id   object        0   146144           0\n",
       "1    primary_title   object        0   136071           0\n",
       "2   original_title   object       21   137773           0\n",
       "3       start_year    int64        0       19           0\n",
       "4  runtime_minutes  float64    31739      367           0\n",
       "5           genres   object     5408     1085           0"
      ]
     },
     "execution_count": 568,
     "metadata": {},
     "output_type": "execute_result"
    }
   ],
   "source": [
    "summarize_data(basics)"
   ]
  },
  {
   "cell_type": "markdown",
   "metadata": {},
   "source": [
    "In the basics DataFrame, movie_id is going to be my primary key. I might need to join on the movie name later on in the analysis, so it's important to note that original_title has null values while primary_title does not. Since ethere are no missing values, and all are unique, I know I can use this for a primary key."
   ]
  },
  {
   "cell_type": "markdown",
   "metadata": {},
   "source": [
    "I'm also going to pay attention to genre and look into the genres field more in depth later. Running `basics.head()` below will give me an idea of what the values will look like."
   ]
  },
  {
   "cell_type": "code",
   "execution_count": 569,
   "metadata": {
    "scrolled": true
   },
   "outputs": [
    {
     "data": {
      "text/html": [
       "<div>\n",
       "<style scoped>\n",
       "    .dataframe tbody tr th:only-of-type {\n",
       "        vertical-align: middle;\n",
       "    }\n",
       "\n",
       "    .dataframe tbody tr th {\n",
       "        vertical-align: top;\n",
       "    }\n",
       "\n",
       "    .dataframe thead th {\n",
       "        text-align: right;\n",
       "    }\n",
       "</style>\n",
       "<table border=\"1\" class=\"dataframe\">\n",
       "  <thead>\n",
       "    <tr style=\"text-align: right;\">\n",
       "      <th></th>\n",
       "      <th>movie_id</th>\n",
       "      <th>primary_title</th>\n",
       "      <th>original_title</th>\n",
       "      <th>start_year</th>\n",
       "      <th>runtime_minutes</th>\n",
       "      <th>genres</th>\n",
       "    </tr>\n",
       "  </thead>\n",
       "  <tbody>\n",
       "    <tr>\n",
       "      <th>0</th>\n",
       "      <td>tt0063540</td>\n",
       "      <td>Sunghursh</td>\n",
       "      <td>Sunghursh</td>\n",
       "      <td>2013</td>\n",
       "      <td>175.0</td>\n",
       "      <td>Action,Crime,Drama</td>\n",
       "    </tr>\n",
       "    <tr>\n",
       "      <th>1</th>\n",
       "      <td>tt0066787</td>\n",
       "      <td>One Day Before the Rainy Season</td>\n",
       "      <td>Ashad Ka Ek Din</td>\n",
       "      <td>2019</td>\n",
       "      <td>114.0</td>\n",
       "      <td>Biography,Drama</td>\n",
       "    </tr>\n",
       "    <tr>\n",
       "      <th>2</th>\n",
       "      <td>tt0069049</td>\n",
       "      <td>The Other Side of the Wind</td>\n",
       "      <td>The Other Side of the Wind</td>\n",
       "      <td>2018</td>\n",
       "      <td>122.0</td>\n",
       "      <td>Drama</td>\n",
       "    </tr>\n",
       "    <tr>\n",
       "      <th>3</th>\n",
       "      <td>tt0069204</td>\n",
       "      <td>Sabse Bada Sukh</td>\n",
       "      <td>Sabse Bada Sukh</td>\n",
       "      <td>2018</td>\n",
       "      <td>NaN</td>\n",
       "      <td>Comedy,Drama</td>\n",
       "    </tr>\n",
       "    <tr>\n",
       "      <th>4</th>\n",
       "      <td>tt0100275</td>\n",
       "      <td>The Wandering Soap Opera</td>\n",
       "      <td>La Telenovela Errante</td>\n",
       "      <td>2017</td>\n",
       "      <td>80.0</td>\n",
       "      <td>Comedy,Drama,Fantasy</td>\n",
       "    </tr>\n",
       "  </tbody>\n",
       "</table>\n",
       "</div>"
      ],
      "text/plain": [
       "    movie_id                    primary_title              original_title  \\\n",
       "0  tt0063540                        Sunghursh                   Sunghursh   \n",
       "1  tt0066787  One Day Before the Rainy Season             Ashad Ka Ek Din   \n",
       "2  tt0069049       The Other Side of the Wind  The Other Side of the Wind   \n",
       "3  tt0069204                  Sabse Bada Sukh             Sabse Bada Sukh   \n",
       "4  tt0100275         The Wandering Soap Opera       La Telenovela Errante   \n",
       "\n",
       "   start_year  runtime_minutes                genres  \n",
       "0        2013            175.0    Action,Crime,Drama  \n",
       "1        2019            114.0       Biography,Drama  \n",
       "2        2018            122.0                 Drama  \n",
       "3        2018              NaN          Comedy,Drama  \n",
       "4        2017             80.0  Comedy,Drama,Fantasy  "
      ]
     },
     "execution_count": 569,
     "metadata": {},
     "output_type": "execute_result"
    }
   ],
   "source": [
    "basics.head()"
   ]
  },
  {
   "cell_type": "markdown",
   "metadata": {},
   "source": [
    "Now that I know what some of the values look like, I know why genres might have been appearing with so many unique values in my original summary. I will have to separate the genres later, but will do that after I merge my DataFrames."
   ]
  },
  {
   "cell_type": "markdown",
   "metadata": {},
   "source": [
    "**Understanding the ratings DataFrame**"
   ]
  },
  {
   "cell_type": "markdown",
   "metadata": {},
   "source": [
    "To start, I'm also going to run the ratings DataFrame through my summarize function."
   ]
  },
  {
   "cell_type": "code",
   "execution_count": 570,
   "metadata": {},
   "outputs": [
    {
     "data": {
      "text/html": [
       "<div>\n",
       "<style scoped>\n",
       "    .dataframe tbody tr th:only-of-type {\n",
       "        vertical-align: middle;\n",
       "    }\n",
       "\n",
       "    .dataframe tbody tr th {\n",
       "        vertical-align: top;\n",
       "    }\n",
       "\n",
       "    .dataframe thead th {\n",
       "        text-align: right;\n",
       "    }\n",
       "</style>\n",
       "<table border=\"1\" class=\"dataframe\">\n",
       "  <thead>\n",
       "    <tr style=\"text-align: right;\">\n",
       "      <th></th>\n",
       "      <th>Name</th>\n",
       "      <th>dtypes</th>\n",
       "      <th>Missing</th>\n",
       "      <th>Uniques</th>\n",
       "      <th>Duplicates</th>\n",
       "    </tr>\n",
       "  </thead>\n",
       "  <tbody>\n",
       "    <tr>\n",
       "      <th>0</th>\n",
       "      <td>movie_id</td>\n",
       "      <td>object</td>\n",
       "      <td>0</td>\n",
       "      <td>73856</td>\n",
       "      <td>0</td>\n",
       "    </tr>\n",
       "    <tr>\n",
       "      <th>1</th>\n",
       "      <td>averagerating</td>\n",
       "      <td>float64</td>\n",
       "      <td>0</td>\n",
       "      <td>91</td>\n",
       "      <td>0</td>\n",
       "    </tr>\n",
       "    <tr>\n",
       "      <th>2</th>\n",
       "      <td>numvotes</td>\n",
       "      <td>int64</td>\n",
       "      <td>0</td>\n",
       "      <td>7349</td>\n",
       "      <td>0</td>\n",
       "    </tr>\n",
       "  </tbody>\n",
       "</table>\n",
       "</div>"
      ],
      "text/plain": [
       "            Name   dtypes  Missing  Uniques  Duplicates\n",
       "0       movie_id   object        0    73856           0\n",
       "1  averagerating  float64        0       91           0\n",
       "2       numvotes    int64        0     7349           0"
      ]
     },
     "execution_count": 570,
     "metadata": {},
     "output_type": "execute_result"
    }
   ],
   "source": [
    "summarize_data(ratings)"
   ]
  },
  {
   "cell_type": "markdown",
   "metadata": {},
   "source": [
    "In this DataFrame, I'm looking to use averagerating in my analysis, and I will need to join on movie_id, but I won't need the numvotes column. As expected, averagerating and numvotes are float64 and int64, while movie_id is a string and can't be aggregated."
   ]
  },
  {
   "cell_type": "markdown",
   "metadata": {},
   "source": [
    "Since there's no missing values, I can use movie_id as a primary key for this DataFrame as well. It's not necessary for me to use `df.describe` for every DataFrame, but I am going to use it for the ratings DataFrame because I'm using the numerical values within this DataFrame. "
   ]
  },
  {
   "cell_type": "code",
   "execution_count": 571,
   "metadata": {},
   "outputs": [
    {
     "data": {
      "text/html": [
       "<div>\n",
       "<style scoped>\n",
       "    .dataframe tbody tr th:only-of-type {\n",
       "        vertical-align: middle;\n",
       "    }\n",
       "\n",
       "    .dataframe tbody tr th {\n",
       "        vertical-align: top;\n",
       "    }\n",
       "\n",
       "    .dataframe thead th {\n",
       "        text-align: right;\n",
       "    }\n",
       "</style>\n",
       "<table border=\"1\" class=\"dataframe\">\n",
       "  <thead>\n",
       "    <tr style=\"text-align: right;\">\n",
       "      <th></th>\n",
       "      <th>averagerating</th>\n",
       "      <th>numvotes</th>\n",
       "    </tr>\n",
       "  </thead>\n",
       "  <tbody>\n",
       "    <tr>\n",
       "      <th>count</th>\n",
       "      <td>73856.000000</td>\n",
       "      <td>7.385600e+04</td>\n",
       "    </tr>\n",
       "    <tr>\n",
       "      <th>mean</th>\n",
       "      <td>6.332729</td>\n",
       "      <td>3.523662e+03</td>\n",
       "    </tr>\n",
       "    <tr>\n",
       "      <th>std</th>\n",
       "      <td>1.474978</td>\n",
       "      <td>3.029402e+04</td>\n",
       "    </tr>\n",
       "    <tr>\n",
       "      <th>min</th>\n",
       "      <td>1.000000</td>\n",
       "      <td>5.000000e+00</td>\n",
       "    </tr>\n",
       "    <tr>\n",
       "      <th>25%</th>\n",
       "      <td>5.500000</td>\n",
       "      <td>1.400000e+01</td>\n",
       "    </tr>\n",
       "    <tr>\n",
       "      <th>50%</th>\n",
       "      <td>6.500000</td>\n",
       "      <td>4.900000e+01</td>\n",
       "    </tr>\n",
       "    <tr>\n",
       "      <th>75%</th>\n",
       "      <td>7.400000</td>\n",
       "      <td>2.820000e+02</td>\n",
       "    </tr>\n",
       "    <tr>\n",
       "      <th>max</th>\n",
       "      <td>10.000000</td>\n",
       "      <td>1.841066e+06</td>\n",
       "    </tr>\n",
       "  </tbody>\n",
       "</table>\n",
       "</div>"
      ],
      "text/plain": [
       "       averagerating      numvotes\n",
       "count   73856.000000  7.385600e+04\n",
       "mean        6.332729  3.523662e+03\n",
       "std         1.474978  3.029402e+04\n",
       "min         1.000000  5.000000e+00\n",
       "25%         5.500000  1.400000e+01\n",
       "50%         6.500000  4.900000e+01\n",
       "75%         7.400000  2.820000e+02\n",
       "max        10.000000  1.841066e+06"
      ]
     },
     "execution_count": 571,
     "metadata": {},
     "output_type": "execute_result"
    }
   ],
   "source": [
    "ratings.describe()"
   ]
  },
  {
   "cell_type": "markdown",
   "metadata": {},
   "source": [
    "It's interesting that numvotes is appearing in scientific notation, but I'm not going to worry about it since I won't be using it in my analysis. Based on running `ratings.describe`, I can tell that the median is 6.5 and the mean is 6.33. The top quartile is 7.4 and above, which I think is what Microsoft should be aiming for."
   ]
  },
  {
   "cell_type": "markdown",
   "metadata": {},
   "source": [
    "**Understanding the mdir DataFrame**"
   ]
  },
  {
   "cell_type": "markdown",
   "metadata": {},
   "source": [
    "Similar to what I did before, I'm going to run this mdir DataFrame through the summarize function created in the beginning."
   ]
  },
  {
   "cell_type": "code",
   "execution_count": 572,
   "metadata": {},
   "outputs": [
    {
     "data": {
      "text/html": [
       "<div>\n",
       "<style scoped>\n",
       "    .dataframe tbody tr th:only-of-type {\n",
       "        vertical-align: middle;\n",
       "    }\n",
       "\n",
       "    .dataframe tbody tr th {\n",
       "        vertical-align: top;\n",
       "    }\n",
       "\n",
       "    .dataframe thead th {\n",
       "        text-align: right;\n",
       "    }\n",
       "</style>\n",
       "<table border=\"1\" class=\"dataframe\">\n",
       "  <thead>\n",
       "    <tr style=\"text-align: right;\">\n",
       "      <th></th>\n",
       "      <th>Name</th>\n",
       "      <th>dtypes</th>\n",
       "      <th>Missing</th>\n",
       "      <th>Uniques</th>\n",
       "      <th>Duplicates</th>\n",
       "    </tr>\n",
       "  </thead>\n",
       "  <tbody>\n",
       "    <tr>\n",
       "      <th>0</th>\n",
       "      <td>movie_id</td>\n",
       "      <td>object</td>\n",
       "      <td>0</td>\n",
       "      <td>140417</td>\n",
       "      <td>127639</td>\n",
       "    </tr>\n",
       "    <tr>\n",
       "      <th>1</th>\n",
       "      <td>person_id</td>\n",
       "      <td>object</td>\n",
       "      <td>0</td>\n",
       "      <td>109253</td>\n",
       "      <td>127639</td>\n",
       "    </tr>\n",
       "  </tbody>\n",
       "</table>\n",
       "</div>"
      ],
      "text/plain": [
       "        Name  dtypes  Missing  Uniques  Duplicates\n",
       "0   movie_id  object        0   140417      127639\n",
       "1  person_id  object        0   109253      127639"
      ]
     },
     "execution_count": 572,
     "metadata": {},
     "output_type": "execute_result"
    }
   ],
   "source": [
    "summarize_data(mdir)"
   ]
  },
  {
   "cell_type": "markdown",
   "metadata": {},
   "source": [
    "Both movie_id and person_id should be unique identifiers because they're id's, but there are duplicates, so I'm going to remove them now."
   ]
  },
  {
   "cell_type": "code",
   "execution_count": 573,
   "metadata": {},
   "outputs": [],
   "source": [
    "mdir.drop_duplicates(inplace=True)"
   ]
  },
  {
   "cell_type": "markdown",
   "metadata": {},
   "source": [
    "Now I'm going to make sure that applied to my DataFrame."
   ]
  },
  {
   "cell_type": "code",
   "execution_count": 574,
   "metadata": {},
   "outputs": [
    {
     "name": "stdout",
     "output_type": "stream",
     "text": [
      "0\n"
     ]
    }
   ],
   "source": [
    "print(mdir.duplicated().sum())"
   ]
  },
  {
   "cell_type": "markdown",
   "metadata": {},
   "source": [
    "I typically like to look at each the head of each DataFrame to have a visual understanding, but it's not necessary with this DataFrame because of what it consists of."
   ]
  },
  {
   "cell_type": "markdown",
   "metadata": {},
   "source": [
    "**Understanding the ppl DataFrame**"
   ]
  },
  {
   "cell_type": "markdown",
   "metadata": {},
   "source": [
    "I'm going to run this DataFrame through the summarize function as well."
   ]
  },
  {
   "cell_type": "code",
   "execution_count": 575,
   "metadata": {},
   "outputs": [
    {
     "data": {
      "text/html": [
       "<div>\n",
       "<style scoped>\n",
       "    .dataframe tbody tr th:only-of-type {\n",
       "        vertical-align: middle;\n",
       "    }\n",
       "\n",
       "    .dataframe tbody tr th {\n",
       "        vertical-align: top;\n",
       "    }\n",
       "\n",
       "    .dataframe thead th {\n",
       "        text-align: right;\n",
       "    }\n",
       "</style>\n",
       "<table border=\"1\" class=\"dataframe\">\n",
       "  <thead>\n",
       "    <tr style=\"text-align: right;\">\n",
       "      <th></th>\n",
       "      <th>Name</th>\n",
       "      <th>dtypes</th>\n",
       "      <th>Missing</th>\n",
       "      <th>Uniques</th>\n",
       "      <th>Duplicates</th>\n",
       "    </tr>\n",
       "  </thead>\n",
       "  <tbody>\n",
       "    <tr>\n",
       "      <th>0</th>\n",
       "      <td>person_id</td>\n",
       "      <td>object</td>\n",
       "      <td>0</td>\n",
       "      <td>606648</td>\n",
       "      <td>0</td>\n",
       "    </tr>\n",
       "    <tr>\n",
       "      <th>1</th>\n",
       "      <td>primary_name</td>\n",
       "      <td>object</td>\n",
       "      <td>0</td>\n",
       "      <td>577203</td>\n",
       "      <td>0</td>\n",
       "    </tr>\n",
       "    <tr>\n",
       "      <th>2</th>\n",
       "      <td>birth_year</td>\n",
       "      <td>float64</td>\n",
       "      <td>523912</td>\n",
       "      <td>267</td>\n",
       "      <td>0</td>\n",
       "    </tr>\n",
       "    <tr>\n",
       "      <th>3</th>\n",
       "      <td>death_year</td>\n",
       "      <td>float64</td>\n",
       "      <td>599865</td>\n",
       "      <td>214</td>\n",
       "      <td>0</td>\n",
       "    </tr>\n",
       "    <tr>\n",
       "      <th>4</th>\n",
       "      <td>primary_profession</td>\n",
       "      <td>object</td>\n",
       "      <td>51340</td>\n",
       "      <td>8647</td>\n",
       "      <td>0</td>\n",
       "    </tr>\n",
       "  </tbody>\n",
       "</table>\n",
       "</div>"
      ],
      "text/plain": [
       "                 Name   dtypes  Missing  Uniques  Duplicates\n",
       "0           person_id   object        0   606648           0\n",
       "1        primary_name   object        0   577203           0\n",
       "2          birth_year  float64   523912      267           0\n",
       "3          death_year  float64   599865      214           0\n",
       "4  primary_profession   object    51340     8647           0"
      ]
     },
     "execution_count": 575,
     "metadata": {},
     "output_type": "execute_result"
    }
   ],
   "source": [
    "summarize_data(ppl)"
   ]
  },
  {
   "cell_type": "markdown",
   "metadata": {},
   "source": [
    "In this DataFrame, I'm going to need person_id which I will use as a primary key to join on later. I won't need birth_year or death_year, so I'm not concerned about the missing values in those columns. I'm also not concerned about the missing values in primary_profession, because I already know which person_id's are directors."
   ]
  },
  {
   "cell_type": "markdown",
   "metadata": {},
   "source": [
    "I'm going to continue going through some of the basics to explore this DataFrame, and look at `ppl.head()` so I know what the DataFrame looks like."
   ]
  },
  {
   "cell_type": "code",
   "execution_count": 576,
   "metadata": {},
   "outputs": [
    {
     "data": {
      "text/html": [
       "<div>\n",
       "<style scoped>\n",
       "    .dataframe tbody tr th:only-of-type {\n",
       "        vertical-align: middle;\n",
       "    }\n",
       "\n",
       "    .dataframe tbody tr th {\n",
       "        vertical-align: top;\n",
       "    }\n",
       "\n",
       "    .dataframe thead th {\n",
       "        text-align: right;\n",
       "    }\n",
       "</style>\n",
       "<table border=\"1\" class=\"dataframe\">\n",
       "  <thead>\n",
       "    <tr style=\"text-align: right;\">\n",
       "      <th></th>\n",
       "      <th>person_id</th>\n",
       "      <th>primary_name</th>\n",
       "      <th>birth_year</th>\n",
       "      <th>death_year</th>\n",
       "      <th>primary_profession</th>\n",
       "    </tr>\n",
       "  </thead>\n",
       "  <tbody>\n",
       "    <tr>\n",
       "      <th>0</th>\n",
       "      <td>nm0061671</td>\n",
       "      <td>Mary Ellen Bauder</td>\n",
       "      <td>NaN</td>\n",
       "      <td>NaN</td>\n",
       "      <td>miscellaneous,production_manager,producer</td>\n",
       "    </tr>\n",
       "    <tr>\n",
       "      <th>1</th>\n",
       "      <td>nm0061865</td>\n",
       "      <td>Joseph Bauer</td>\n",
       "      <td>NaN</td>\n",
       "      <td>NaN</td>\n",
       "      <td>composer,music_department,sound_department</td>\n",
       "    </tr>\n",
       "    <tr>\n",
       "      <th>2</th>\n",
       "      <td>nm0062070</td>\n",
       "      <td>Bruce Baum</td>\n",
       "      <td>NaN</td>\n",
       "      <td>NaN</td>\n",
       "      <td>miscellaneous,actor,writer</td>\n",
       "    </tr>\n",
       "    <tr>\n",
       "      <th>3</th>\n",
       "      <td>nm0062195</td>\n",
       "      <td>Axel Baumann</td>\n",
       "      <td>NaN</td>\n",
       "      <td>NaN</td>\n",
       "      <td>camera_department,cinematographer,art_department</td>\n",
       "    </tr>\n",
       "    <tr>\n",
       "      <th>4</th>\n",
       "      <td>nm0062798</td>\n",
       "      <td>Pete Baxter</td>\n",
       "      <td>NaN</td>\n",
       "      <td>NaN</td>\n",
       "      <td>production_designer,art_department,set_decorator</td>\n",
       "    </tr>\n",
       "  </tbody>\n",
       "</table>\n",
       "</div>"
      ],
      "text/plain": [
       "   person_id       primary_name  birth_year  death_year  \\\n",
       "0  nm0061671  Mary Ellen Bauder         NaN         NaN   \n",
       "1  nm0061865       Joseph Bauer         NaN         NaN   \n",
       "2  nm0062070         Bruce Baum         NaN         NaN   \n",
       "3  nm0062195       Axel Baumann         NaN         NaN   \n",
       "4  nm0062798        Pete Baxter         NaN         NaN   \n",
       "\n",
       "                                 primary_profession  \n",
       "0         miscellaneous,production_manager,producer  \n",
       "1        composer,music_department,sound_department  \n",
       "2                        miscellaneous,actor,writer  \n",
       "3  camera_department,cinematographer,art_department  \n",
       "4  production_designer,art_department,set_decorator  "
      ]
     },
     "execution_count": 576,
     "metadata": {},
     "output_type": "execute_result"
    }
   ],
   "source": [
    "ppl.head()"
   ]
  },
  {
   "cell_type": "markdown",
   "metadata": {},
   "source": [
    "As a reminder, I'm only going to be using person_id and primary_name from this DataFrame."
   ]
  },
  {
   "cell_type": "markdown",
   "metadata": {},
   "source": [
    "**Understanding the budg DataFrame**"
   ]
  },
  {
   "cell_type": "markdown",
   "metadata": {},
   "source": [
    "Like the other DataFrames, I'm going to run this through the summarize function to get a quick look about all the necessary information."
   ]
  },
  {
   "cell_type": "code",
   "execution_count": 577,
   "metadata": {},
   "outputs": [
    {
     "data": {
      "text/html": [
       "<div>\n",
       "<style scoped>\n",
       "    .dataframe tbody tr th:only-of-type {\n",
       "        vertical-align: middle;\n",
       "    }\n",
       "\n",
       "    .dataframe tbody tr th {\n",
       "        vertical-align: top;\n",
       "    }\n",
       "\n",
       "    .dataframe thead th {\n",
       "        text-align: right;\n",
       "    }\n",
       "</style>\n",
       "<table border=\"1\" class=\"dataframe\">\n",
       "  <thead>\n",
       "    <tr style=\"text-align: right;\">\n",
       "      <th></th>\n",
       "      <th>Name</th>\n",
       "      <th>dtypes</th>\n",
       "      <th>Missing</th>\n",
       "      <th>Uniques</th>\n",
       "      <th>Duplicates</th>\n",
       "    </tr>\n",
       "  </thead>\n",
       "  <tbody>\n",
       "    <tr>\n",
       "      <th>0</th>\n",
       "      <td>release_date</td>\n",
       "      <td>object</td>\n",
       "      <td>0</td>\n",
       "      <td>2418</td>\n",
       "      <td>0</td>\n",
       "    </tr>\n",
       "    <tr>\n",
       "      <th>1</th>\n",
       "      <td>movie</td>\n",
       "      <td>object</td>\n",
       "      <td>0</td>\n",
       "      <td>5698</td>\n",
       "      <td>0</td>\n",
       "    </tr>\n",
       "    <tr>\n",
       "      <th>2</th>\n",
       "      <td>production_budget</td>\n",
       "      <td>object</td>\n",
       "      <td>0</td>\n",
       "      <td>509</td>\n",
       "      <td>0</td>\n",
       "    </tr>\n",
       "    <tr>\n",
       "      <th>3</th>\n",
       "      <td>domestic_gross</td>\n",
       "      <td>object</td>\n",
       "      <td>0</td>\n",
       "      <td>5164</td>\n",
       "      <td>0</td>\n",
       "    </tr>\n",
       "    <tr>\n",
       "      <th>4</th>\n",
       "      <td>worldwide_gross</td>\n",
       "      <td>object</td>\n",
       "      <td>0</td>\n",
       "      <td>5356</td>\n",
       "      <td>0</td>\n",
       "    </tr>\n",
       "  </tbody>\n",
       "</table>\n",
       "</div>"
      ],
      "text/plain": [
       "                Name  dtypes  Missing  Uniques  Duplicates\n",
       "0       release_date  object        0     2418           0\n",
       "1              movie  object        0     5698           0\n",
       "2  production_budget  object        0      509           0\n",
       "3     domestic_gross  object        0     5164           0\n",
       "4    worldwide_gross  object        0     5356           0"
      ]
     },
     "execution_count": 577,
     "metadata": {},
     "output_type": "execute_result"
    }
   ],
   "source": [
    "summarize_data(budg)"
   ]
  },
  {
   "cell_type": "markdown",
   "metadata": {},
   "source": [
    "It's great to see that there aren't any null values in the DataFrame, but I wasn't expecting production_budget, domestic_gross, or worldwide_gross to be objects instead of a float or an int datatype. It's also surprising release_date isn't a datetime datatype, but I won't be needing that in my analysis."
   ]
  },
  {
   "cell_type": "markdown",
   "metadata": {},
   "source": [
    "Taking a look at the first few rows of the budg DataFrame to get an understanding of what it looks like. "
   ]
  },
  {
   "cell_type": "code",
   "execution_count": 578,
   "metadata": {},
   "outputs": [
    {
     "data": {
      "text/html": [
       "<div>\n",
       "<style scoped>\n",
       "    .dataframe tbody tr th:only-of-type {\n",
       "        vertical-align: middle;\n",
       "    }\n",
       "\n",
       "    .dataframe tbody tr th {\n",
       "        vertical-align: top;\n",
       "    }\n",
       "\n",
       "    .dataframe thead th {\n",
       "        text-align: right;\n",
       "    }\n",
       "</style>\n",
       "<table border=\"1\" class=\"dataframe\">\n",
       "  <thead>\n",
       "    <tr style=\"text-align: right;\">\n",
       "      <th></th>\n",
       "      <th>release_date</th>\n",
       "      <th>movie</th>\n",
       "      <th>production_budget</th>\n",
       "      <th>domestic_gross</th>\n",
       "      <th>worldwide_gross</th>\n",
       "    </tr>\n",
       "    <tr>\n",
       "      <th>id</th>\n",
       "      <th></th>\n",
       "      <th></th>\n",
       "      <th></th>\n",
       "      <th></th>\n",
       "      <th></th>\n",
       "    </tr>\n",
       "  </thead>\n",
       "  <tbody>\n",
       "    <tr>\n",
       "      <th>1</th>\n",
       "      <td>Dec 18, 2009</td>\n",
       "      <td>Avatar</td>\n",
       "      <td>$425,000,000</td>\n",
       "      <td>$760,507,625</td>\n",
       "      <td>$2,776,345,279</td>\n",
       "    </tr>\n",
       "    <tr>\n",
       "      <th>2</th>\n",
       "      <td>May 20, 2011</td>\n",
       "      <td>Pirates of the Caribbean: On Stranger Tides</td>\n",
       "      <td>$410,600,000</td>\n",
       "      <td>$241,063,875</td>\n",
       "      <td>$1,045,663,875</td>\n",
       "    </tr>\n",
       "    <tr>\n",
       "      <th>3</th>\n",
       "      <td>Jun 7, 2019</td>\n",
       "      <td>Dark Phoenix</td>\n",
       "      <td>$350,000,000</td>\n",
       "      <td>$42,762,350</td>\n",
       "      <td>$149,762,350</td>\n",
       "    </tr>\n",
       "    <tr>\n",
       "      <th>4</th>\n",
       "      <td>May 1, 2015</td>\n",
       "      <td>Avengers: Age of Ultron</td>\n",
       "      <td>$330,600,000</td>\n",
       "      <td>$459,005,868</td>\n",
       "      <td>$1,403,013,963</td>\n",
       "    </tr>\n",
       "    <tr>\n",
       "      <th>5</th>\n",
       "      <td>Dec 15, 2017</td>\n",
       "      <td>Star Wars Ep. VIII: The Last Jedi</td>\n",
       "      <td>$317,000,000</td>\n",
       "      <td>$620,181,382</td>\n",
       "      <td>$1,316,721,747</td>\n",
       "    </tr>\n",
       "  </tbody>\n",
       "</table>\n",
       "</div>"
      ],
      "text/plain": [
       "    release_date                                        movie  \\\n",
       "id                                                              \n",
       "1   Dec 18, 2009                                       Avatar   \n",
       "2   May 20, 2011  Pirates of the Caribbean: On Stranger Tides   \n",
       "3    Jun 7, 2019                                 Dark Phoenix   \n",
       "4    May 1, 2015                      Avengers: Age of Ultron   \n",
       "5   Dec 15, 2017            Star Wars Ep. VIII: The Last Jedi   \n",
       "\n",
       "   production_budget domestic_gross worldwide_gross  \n",
       "id                                                   \n",
       "1       $425,000,000   $760,507,625  $2,776,345,279  \n",
       "2       $410,600,000   $241,063,875  $1,045,663,875  \n",
       "3       $350,000,000    $42,762,350    $149,762,350  \n",
       "4       $330,600,000   $459,005,868  $1,403,013,963  \n",
       "5       $317,000,000   $620,181,382  $1,316,721,747  "
      ]
     },
     "execution_count": 578,
     "metadata": {},
     "output_type": "execute_result"
    }
   ],
   "source": [
    "budg.head()"
   ]
  },
  {
   "cell_type": "markdown",
   "metadata": {},
   "source": [
    "Normally I would want to run `budg.describe` to get a greater statistical understanding of the DataFrame, but since none of the fields are int or floats yet, it won't work the way I want it to."
   ]
  },
  {
   "cell_type": "markdown",
   "metadata": {},
   "source": [
    "***"
   ]
  },
  {
   "cell_type": "markdown",
   "metadata": {},
   "source": [
    "## Data Preparation"
   ]
  },
  {
   "cell_type": "markdown",
   "metadata": {},
   "source": [
    "**Cleaning and Merging DataFrames**"
   ]
  },
  {
   "cell_type": "markdown",
   "metadata": {},
   "source": [
    "I'm going to continue moving through my data in the same way that I imported it. For the first few DataFrames (basics, ratings, mdir, and ppl) I'm going to merge them first, and then clean what is needed. There aren't a lot of columns, and the unique identifiers are very clear."
   ]
  },
  {
   "cell_type": "markdown",
   "metadata": {},
   "source": [
    "First, I want to merge mdir and ppl together. I'd like to have a primary_name for every person_id. Before I make any joins, I'm going to run `mdir.shape` and `ppl.shape` to remind myself how much data is in each DataFrame, and compare it to the shape after I merge the DataFrame."
   ]
  },
  {
   "cell_type": "code",
   "execution_count": 579,
   "metadata": {},
   "outputs": [
    {
     "data": {
      "text/plain": [
       "(163535, 2)"
      ]
     },
     "execution_count": 579,
     "metadata": {},
     "output_type": "execute_result"
    }
   ],
   "source": [
    "mdir.shape"
   ]
  },
  {
   "cell_type": "code",
   "execution_count": 580,
   "metadata": {},
   "outputs": [
    {
     "data": {
      "text/plain": [
       "(606648, 5)"
      ]
     },
     "execution_count": 580,
     "metadata": {},
     "output_type": "execute_result"
    }
   ],
   "source": [
    "ppl.shape"
   ]
  },
  {
   "cell_type": "markdown",
   "metadata": {},
   "source": [
    "That is a lot of data in both of these DataFrames, and I'm not going to need all of it."
   ]
  },
  {
   "cell_type": "code",
   "execution_count": 581,
   "metadata": {},
   "outputs": [
    {
     "data": {
      "text/html": [
       "<div>\n",
       "<style scoped>\n",
       "    .dataframe tbody tr th:only-of-type {\n",
       "        vertical-align: middle;\n",
       "    }\n",
       "\n",
       "    .dataframe tbody tr th {\n",
       "        vertical-align: top;\n",
       "    }\n",
       "\n",
       "    .dataframe thead th {\n",
       "        text-align: right;\n",
       "    }\n",
       "</style>\n",
       "<table border=\"1\" class=\"dataframe\">\n",
       "  <thead>\n",
       "    <tr style=\"text-align: right;\">\n",
       "      <th></th>\n",
       "      <th>movie_id</th>\n",
       "      <th>person_id</th>\n",
       "      <th>primary_name</th>\n",
       "      <th>birth_year</th>\n",
       "      <th>death_year</th>\n",
       "      <th>primary_profession</th>\n",
       "    </tr>\n",
       "  </thead>\n",
       "  <tbody>\n",
       "    <tr>\n",
       "      <th>0</th>\n",
       "      <td>tt0285252</td>\n",
       "      <td>nm0899854</td>\n",
       "      <td>Tony Vitale</td>\n",
       "      <td>1964.0</td>\n",
       "      <td>NaN</td>\n",
       "      <td>producer,director,writer</td>\n",
       "    </tr>\n",
       "    <tr>\n",
       "      <th>1</th>\n",
       "      <td>tt0462036</td>\n",
       "      <td>nm1940585</td>\n",
       "      <td>Bill Haley</td>\n",
       "      <td>NaN</td>\n",
       "      <td>NaN</td>\n",
       "      <td>director,writer,producer</td>\n",
       "    </tr>\n",
       "    <tr>\n",
       "      <th>2</th>\n",
       "      <td>tt0835418</td>\n",
       "      <td>nm0151540</td>\n",
       "      <td>Jay Chandrasekhar</td>\n",
       "      <td>1968.0</td>\n",
       "      <td>NaN</td>\n",
       "      <td>director,actor,writer</td>\n",
       "    </tr>\n",
       "    <tr>\n",
       "      <th>3</th>\n",
       "      <td>tt0878654</td>\n",
       "      <td>nm0089502</td>\n",
       "      <td>Albert Pyun</td>\n",
       "      <td>1954.0</td>\n",
       "      <td>NaN</td>\n",
       "      <td>director,writer,producer</td>\n",
       "    </tr>\n",
       "    <tr>\n",
       "      <th>4</th>\n",
       "      <td>tt0878654</td>\n",
       "      <td>nm2291498</td>\n",
       "      <td>Joe Baile</td>\n",
       "      <td>NaN</td>\n",
       "      <td>NaN</td>\n",
       "      <td>producer,director,camera_department</td>\n",
       "    </tr>\n",
       "    <tr>\n",
       "      <th>...</th>\n",
       "      <td>...</td>\n",
       "      <td>...</td>\n",
       "      <td>...</td>\n",
       "      <td>...</td>\n",
       "      <td>...</td>\n",
       "      <td>...</td>\n",
       "    </tr>\n",
       "    <tr>\n",
       "      <th>163530</th>\n",
       "      <td>tt8999974</td>\n",
       "      <td>nm10122357</td>\n",
       "      <td>Daysi Burbano</td>\n",
       "      <td>NaN</td>\n",
       "      <td>NaN</td>\n",
       "      <td>director,writer,cinematographer</td>\n",
       "    </tr>\n",
       "    <tr>\n",
       "      <th>163531</th>\n",
       "      <td>tt9001390</td>\n",
       "      <td>nm6711477</td>\n",
       "      <td>Bernard Lessa</td>\n",
       "      <td>NaN</td>\n",
       "      <td>NaN</td>\n",
       "      <td>director,writer,cinematographer</td>\n",
       "    </tr>\n",
       "    <tr>\n",
       "      <th>163532</th>\n",
       "      <td>tt9001494</td>\n",
       "      <td>nm10123242</td>\n",
       "      <td>Tate Nova</td>\n",
       "      <td>NaN</td>\n",
       "      <td>NaN</td>\n",
       "      <td>director,producer</td>\n",
       "    </tr>\n",
       "    <tr>\n",
       "      <th>163533</th>\n",
       "      <td>tt9001494</td>\n",
       "      <td>nm10123248</td>\n",
       "      <td>Courtney Faye Powell</td>\n",
       "      <td>NaN</td>\n",
       "      <td>NaN</td>\n",
       "      <td>director,producer</td>\n",
       "    </tr>\n",
       "    <tr>\n",
       "      <th>163534</th>\n",
       "      <td>tt9004986</td>\n",
       "      <td>nm4993825</td>\n",
       "      <td>Fredrik Horn Akselsen</td>\n",
       "      <td>NaN</td>\n",
       "      <td>NaN</td>\n",
       "      <td>director,writer,assistant_director</td>\n",
       "    </tr>\n",
       "  </tbody>\n",
       "</table>\n",
       "<p>163535 rows × 6 columns</p>\n",
       "</div>"
      ],
      "text/plain": [
       "         movie_id   person_id           primary_name  birth_year  death_year  \\\n",
       "0       tt0285252   nm0899854            Tony Vitale      1964.0         NaN   \n",
       "1       tt0462036   nm1940585             Bill Haley         NaN         NaN   \n",
       "2       tt0835418   nm0151540      Jay Chandrasekhar      1968.0         NaN   \n",
       "3       tt0878654   nm0089502            Albert Pyun      1954.0         NaN   \n",
       "4       tt0878654   nm2291498              Joe Baile         NaN         NaN   \n",
       "...           ...         ...                    ...         ...         ...   \n",
       "163530  tt8999974  nm10122357          Daysi Burbano         NaN         NaN   \n",
       "163531  tt9001390   nm6711477          Bernard Lessa         NaN         NaN   \n",
       "163532  tt9001494  nm10123242              Tate Nova         NaN         NaN   \n",
       "163533  tt9001494  nm10123248   Courtney Faye Powell         NaN         NaN   \n",
       "163534  tt9004986   nm4993825  Fredrik Horn Akselsen         NaN         NaN   \n",
       "\n",
       "                         primary_profession  \n",
       "0                  producer,director,writer  \n",
       "1                  director,writer,producer  \n",
       "2                     director,actor,writer  \n",
       "3                  director,writer,producer  \n",
       "4       producer,director,camera_department  \n",
       "...                                     ...  \n",
       "163530      director,writer,cinematographer  \n",
       "163531      director,writer,cinematographer  \n",
       "163532                    director,producer  \n",
       "163533                    director,producer  \n",
       "163534   director,writer,assistant_director  \n",
       "\n",
       "[163535 rows x 6 columns]"
      ]
     },
     "execution_count": 581,
     "metadata": {},
     "output_type": "execute_result"
    }
   ],
   "source": [
    "# I want to make sure I'm joining on person_id and I'm doing a left join so I get primary_name for person_id's in\n",
    "# the mdir DataFrame\n",
    "dirppl = mdir.merge(ppl, how=\"left\", on='person_id')\n",
    "dirppl"
   ]
  },
  {
   "cell_type": "code",
   "execution_count": 582,
   "metadata": {},
   "outputs": [
    {
     "name": "stdout",
     "output_type": "stream",
     "text": [
      "0  duplicates\n"
     ]
    }
   ],
   "source": [
    "# Checking for duplicates after the merge\n",
    "print(dirppl.duplicated().sum(),' duplicates')"
   ]
  },
  {
   "cell_type": "code",
   "execution_count": 583,
   "metadata": {},
   "outputs": [
    {
     "data": {
      "text/plain": [
       "movie_id              False\n",
       "person_id             False\n",
       "primary_name           True\n",
       "birth_year             True\n",
       "death_year             True\n",
       "primary_profession     True\n",
       "dtype: bool"
      ]
     },
     "execution_count": 583,
     "metadata": {},
     "output_type": "execute_result"
    }
   ],
   "source": [
    "# Checking for null values after the merge\n",
    "dirppl.isna().any()"
   ]
  },
  {
   "cell_type": "markdown",
   "metadata": {},
   "source": [
    "There are some null values in the DataFrame, but nothing that is surprising."
   ]
  },
  {
   "cell_type": "markdown",
   "metadata": {},
   "source": [
    "Since I only want some of these columns, specifically movie_id, person_id, and primary_name, I'm going to drop some of the other columns that I don't need for my analysis."
   ]
  },
  {
   "cell_type": "code",
   "execution_count": 584,
   "metadata": {},
   "outputs": [],
   "source": [
    "dirppl.drop(['death_year', 'birth_year'], axis=1, inplace=True)"
   ]
  },
  {
   "cell_type": "markdown",
   "metadata": {},
   "source": [
    "Checking the DataFrame with `dirppl.head` after I've dropped the unnecessary columns to see what it looks like."
   ]
  },
  {
   "cell_type": "code",
   "execution_count": 585,
   "metadata": {},
   "outputs": [
    {
     "data": {
      "text/html": [
       "<div>\n",
       "<style scoped>\n",
       "    .dataframe tbody tr th:only-of-type {\n",
       "        vertical-align: middle;\n",
       "    }\n",
       "\n",
       "    .dataframe tbody tr th {\n",
       "        vertical-align: top;\n",
       "    }\n",
       "\n",
       "    .dataframe thead th {\n",
       "        text-align: right;\n",
       "    }\n",
       "</style>\n",
       "<table border=\"1\" class=\"dataframe\">\n",
       "  <thead>\n",
       "    <tr style=\"text-align: right;\">\n",
       "      <th></th>\n",
       "      <th>movie_id</th>\n",
       "      <th>person_id</th>\n",
       "      <th>primary_name</th>\n",
       "      <th>primary_profession</th>\n",
       "    </tr>\n",
       "  </thead>\n",
       "  <tbody>\n",
       "    <tr>\n",
       "      <th>0</th>\n",
       "      <td>tt0285252</td>\n",
       "      <td>nm0899854</td>\n",
       "      <td>Tony Vitale</td>\n",
       "      <td>producer,director,writer</td>\n",
       "    </tr>\n",
       "    <tr>\n",
       "      <th>1</th>\n",
       "      <td>tt0462036</td>\n",
       "      <td>nm1940585</td>\n",
       "      <td>Bill Haley</td>\n",
       "      <td>director,writer,producer</td>\n",
       "    </tr>\n",
       "    <tr>\n",
       "      <th>2</th>\n",
       "      <td>tt0835418</td>\n",
       "      <td>nm0151540</td>\n",
       "      <td>Jay Chandrasekhar</td>\n",
       "      <td>director,actor,writer</td>\n",
       "    </tr>\n",
       "    <tr>\n",
       "      <th>3</th>\n",
       "      <td>tt0878654</td>\n",
       "      <td>nm0089502</td>\n",
       "      <td>Albert Pyun</td>\n",
       "      <td>director,writer,producer</td>\n",
       "    </tr>\n",
       "    <tr>\n",
       "      <th>4</th>\n",
       "      <td>tt0878654</td>\n",
       "      <td>nm2291498</td>\n",
       "      <td>Joe Baile</td>\n",
       "      <td>producer,director,camera_department</td>\n",
       "    </tr>\n",
       "  </tbody>\n",
       "</table>\n",
       "</div>"
      ],
      "text/plain": [
       "    movie_id  person_id       primary_name  \\\n",
       "0  tt0285252  nm0899854        Tony Vitale   \n",
       "1  tt0462036  nm1940585         Bill Haley   \n",
       "2  tt0835418  nm0151540  Jay Chandrasekhar   \n",
       "3  tt0878654  nm0089502        Albert Pyun   \n",
       "4  tt0878654  nm2291498          Joe Baile   \n",
       "\n",
       "                    primary_profession  \n",
       "0             producer,director,writer  \n",
       "1             director,writer,producer  \n",
       "2                director,actor,writer  \n",
       "3             director,writer,producer  \n",
       "4  producer,director,camera_department  "
      ]
     },
     "execution_count": 585,
     "metadata": {},
     "output_type": "execute_result"
    }
   ],
   "source": [
    "dirppl.head()"
   ]
  },
  {
   "cell_type": "markdown",
   "metadata": {},
   "source": [
    "Now that this DataFrame looks good, I'm going to join the basics DataFrame with the ratings DataFrame. Before I make the join, I'm going to check the shape of each DataFrame first with `basics.shape` and `ratings.shape`."
   ]
  },
  {
   "cell_type": "code",
   "execution_count": 586,
   "metadata": {},
   "outputs": [
    {
     "data": {
      "text/plain": [
       "(146144, 6)"
      ]
     },
     "execution_count": 586,
     "metadata": {},
     "output_type": "execute_result"
    }
   ],
   "source": [
    "basics.shape"
   ]
  },
  {
   "cell_type": "code",
   "execution_count": 587,
   "metadata": {},
   "outputs": [
    {
     "data": {
      "text/plain": [
       "(73856, 3)"
      ]
     },
     "execution_count": 587,
     "metadata": {},
     "output_type": "execute_result"
    }
   ],
   "source": [
    "ratings.shape"
   ]
  },
  {
   "cell_type": "code",
   "execution_count": 588,
   "metadata": {},
   "outputs": [
    {
     "data": {
      "text/html": [
       "<div>\n",
       "<style scoped>\n",
       "    .dataframe tbody tr th:only-of-type {\n",
       "        vertical-align: middle;\n",
       "    }\n",
       "\n",
       "    .dataframe tbody tr th {\n",
       "        vertical-align: top;\n",
       "    }\n",
       "\n",
       "    .dataframe thead th {\n",
       "        text-align: right;\n",
       "    }\n",
       "</style>\n",
       "<table border=\"1\" class=\"dataframe\">\n",
       "  <thead>\n",
       "    <tr style=\"text-align: right;\">\n",
       "      <th></th>\n",
       "      <th>movie_id</th>\n",
       "      <th>primary_title</th>\n",
       "      <th>original_title</th>\n",
       "      <th>start_year</th>\n",
       "      <th>runtime_minutes</th>\n",
       "      <th>genres</th>\n",
       "      <th>averagerating</th>\n",
       "      <th>numvotes</th>\n",
       "    </tr>\n",
       "  </thead>\n",
       "  <tbody>\n",
       "    <tr>\n",
       "      <th>0</th>\n",
       "      <td>tt0063540</td>\n",
       "      <td>Sunghursh</td>\n",
       "      <td>Sunghursh</td>\n",
       "      <td>2013</td>\n",
       "      <td>175.0</td>\n",
       "      <td>Action,Crime,Drama</td>\n",
       "      <td>7.0</td>\n",
       "      <td>77</td>\n",
       "    </tr>\n",
       "    <tr>\n",
       "      <th>1</th>\n",
       "      <td>tt0066787</td>\n",
       "      <td>One Day Before the Rainy Season</td>\n",
       "      <td>Ashad Ka Ek Din</td>\n",
       "      <td>2019</td>\n",
       "      <td>114.0</td>\n",
       "      <td>Biography,Drama</td>\n",
       "      <td>7.2</td>\n",
       "      <td>43</td>\n",
       "    </tr>\n",
       "    <tr>\n",
       "      <th>2</th>\n",
       "      <td>tt0069049</td>\n",
       "      <td>The Other Side of the Wind</td>\n",
       "      <td>The Other Side of the Wind</td>\n",
       "      <td>2018</td>\n",
       "      <td>122.0</td>\n",
       "      <td>Drama</td>\n",
       "      <td>6.9</td>\n",
       "      <td>4517</td>\n",
       "    </tr>\n",
       "    <tr>\n",
       "      <th>3</th>\n",
       "      <td>tt0069204</td>\n",
       "      <td>Sabse Bada Sukh</td>\n",
       "      <td>Sabse Bada Sukh</td>\n",
       "      <td>2018</td>\n",
       "      <td>NaN</td>\n",
       "      <td>Comedy,Drama</td>\n",
       "      <td>6.1</td>\n",
       "      <td>13</td>\n",
       "    </tr>\n",
       "    <tr>\n",
       "      <th>4</th>\n",
       "      <td>tt0100275</td>\n",
       "      <td>The Wandering Soap Opera</td>\n",
       "      <td>La Telenovela Errante</td>\n",
       "      <td>2017</td>\n",
       "      <td>80.0</td>\n",
       "      <td>Comedy,Drama,Fantasy</td>\n",
       "      <td>6.5</td>\n",
       "      <td>119</td>\n",
       "    </tr>\n",
       "    <tr>\n",
       "      <th>...</th>\n",
       "      <td>...</td>\n",
       "      <td>...</td>\n",
       "      <td>...</td>\n",
       "      <td>...</td>\n",
       "      <td>...</td>\n",
       "      <td>...</td>\n",
       "      <td>...</td>\n",
       "      <td>...</td>\n",
       "    </tr>\n",
       "    <tr>\n",
       "      <th>73851</th>\n",
       "      <td>tt9913084</td>\n",
       "      <td>Diabolik sono io</td>\n",
       "      <td>Diabolik sono io</td>\n",
       "      <td>2019</td>\n",
       "      <td>75.0</td>\n",
       "      <td>Documentary</td>\n",
       "      <td>6.2</td>\n",
       "      <td>6</td>\n",
       "    </tr>\n",
       "    <tr>\n",
       "      <th>73852</th>\n",
       "      <td>tt9914286</td>\n",
       "      <td>Sokagin Çocuklari</td>\n",
       "      <td>Sokagin Çocuklari</td>\n",
       "      <td>2019</td>\n",
       "      <td>98.0</td>\n",
       "      <td>Drama,Family</td>\n",
       "      <td>8.7</td>\n",
       "      <td>136</td>\n",
       "    </tr>\n",
       "    <tr>\n",
       "      <th>73853</th>\n",
       "      <td>tt9914642</td>\n",
       "      <td>Albatross</td>\n",
       "      <td>Albatross</td>\n",
       "      <td>2017</td>\n",
       "      <td>NaN</td>\n",
       "      <td>Documentary</td>\n",
       "      <td>8.5</td>\n",
       "      <td>8</td>\n",
       "    </tr>\n",
       "    <tr>\n",
       "      <th>73854</th>\n",
       "      <td>tt9914942</td>\n",
       "      <td>La vida sense la Sara Amat</td>\n",
       "      <td>La vida sense la Sara Amat</td>\n",
       "      <td>2019</td>\n",
       "      <td>NaN</td>\n",
       "      <td>None</td>\n",
       "      <td>6.6</td>\n",
       "      <td>5</td>\n",
       "    </tr>\n",
       "    <tr>\n",
       "      <th>73855</th>\n",
       "      <td>tt9916160</td>\n",
       "      <td>Drømmeland</td>\n",
       "      <td>Drømmeland</td>\n",
       "      <td>2019</td>\n",
       "      <td>72.0</td>\n",
       "      <td>Documentary</td>\n",
       "      <td>6.5</td>\n",
       "      <td>11</td>\n",
       "    </tr>\n",
       "  </tbody>\n",
       "</table>\n",
       "<p>73856 rows × 8 columns</p>\n",
       "</div>"
      ],
      "text/plain": [
       "        movie_id                    primary_title              original_title  \\\n",
       "0      tt0063540                        Sunghursh                   Sunghursh   \n",
       "1      tt0066787  One Day Before the Rainy Season             Ashad Ka Ek Din   \n",
       "2      tt0069049       The Other Side of the Wind  The Other Side of the Wind   \n",
       "3      tt0069204                  Sabse Bada Sukh             Sabse Bada Sukh   \n",
       "4      tt0100275         The Wandering Soap Opera       La Telenovela Errante   \n",
       "...          ...                              ...                         ...   \n",
       "73851  tt9913084                 Diabolik sono io            Diabolik sono io   \n",
       "73852  tt9914286                Sokagin Çocuklari           Sokagin Çocuklari   \n",
       "73853  tt9914642                        Albatross                   Albatross   \n",
       "73854  tt9914942       La vida sense la Sara Amat  La vida sense la Sara Amat   \n",
       "73855  tt9916160                       Drømmeland                  Drømmeland   \n",
       "\n",
       "       start_year  runtime_minutes                genres  averagerating  \\\n",
       "0            2013            175.0    Action,Crime,Drama            7.0   \n",
       "1            2019            114.0       Biography,Drama            7.2   \n",
       "2            2018            122.0                 Drama            6.9   \n",
       "3            2018              NaN          Comedy,Drama            6.1   \n",
       "4            2017             80.0  Comedy,Drama,Fantasy            6.5   \n",
       "...           ...              ...                   ...            ...   \n",
       "73851        2019             75.0           Documentary            6.2   \n",
       "73852        2019             98.0          Drama,Family            8.7   \n",
       "73853        2017              NaN           Documentary            8.5   \n",
       "73854        2019              NaN                  None            6.6   \n",
       "73855        2019             72.0           Documentary            6.5   \n",
       "\n",
       "       numvotes  \n",
       "0            77  \n",
       "1            43  \n",
       "2          4517  \n",
       "3            13  \n",
       "4           119  \n",
       "...         ...  \n",
       "73851         6  \n",
       "73852       136  \n",
       "73853         8  \n",
       "73854         5  \n",
       "73855        11  \n",
       "\n",
       "[73856 rows x 8 columns]"
      ]
     },
     "execution_count": 588,
     "metadata": {},
     "output_type": "execute_result"
    }
   ],
   "source": [
    "# This merge is going to be an inner join because I want to get only data that exists in both DataFrames.\n",
    "basrat = basics.merge(ratings, how=\"inner\", on=\"movie_id\")\n",
    "basrat"
   ]
  },
  {
   "cell_type": "code",
   "execution_count": 589,
   "metadata": {},
   "outputs": [
    {
     "name": "stdout",
     "output_type": "stream",
     "text": [
      "0\n"
     ]
    }
   ],
   "source": [
    "# Checking if any duplicates were created during the merge\n",
    "print(basrat.duplicated().sum())"
   ]
  },
  {
   "cell_type": "code",
   "execution_count": 590,
   "metadata": {},
   "outputs": [
    {
     "data": {
      "text/plain": [
       "movie_id           False\n",
       "primary_title      False\n",
       "original_title     False\n",
       "start_year         False\n",
       "runtime_minutes     True\n",
       "genres              True\n",
       "averagerating      False\n",
       "numvotes           False\n",
       "dtype: bool"
      ]
     },
     "execution_count": 590,
     "metadata": {},
     "output_type": "execute_result"
    }
   ],
   "source": [
    "# Checking which columns have null values\n",
    "basrat.isna().any()"
   ]
  },
  {
   "cell_type": "markdown",
   "metadata": {},
   "source": [
    "With this joined, I'm going to drop some of the columns that I don't need for my analysis."
   ]
  },
  {
   "cell_type": "code",
   "execution_count": 591,
   "metadata": {},
   "outputs": [
    {
     "data": {
      "text/html": [
       "<div>\n",
       "<style scoped>\n",
       "    .dataframe tbody tr th:only-of-type {\n",
       "        vertical-align: middle;\n",
       "    }\n",
       "\n",
       "    .dataframe tbody tr th {\n",
       "        vertical-align: top;\n",
       "    }\n",
       "\n",
       "    .dataframe thead th {\n",
       "        text-align: right;\n",
       "    }\n",
       "</style>\n",
       "<table border=\"1\" class=\"dataframe\">\n",
       "  <thead>\n",
       "    <tr style=\"text-align: right;\">\n",
       "      <th></th>\n",
       "      <th>movie_id</th>\n",
       "      <th>primary_title</th>\n",
       "      <th>original_title</th>\n",
       "      <th>genres</th>\n",
       "      <th>averagerating</th>\n",
       "    </tr>\n",
       "  </thead>\n",
       "  <tbody>\n",
       "    <tr>\n",
       "      <th>0</th>\n",
       "      <td>tt0063540</td>\n",
       "      <td>Sunghursh</td>\n",
       "      <td>Sunghursh</td>\n",
       "      <td>Action,Crime,Drama</td>\n",
       "      <td>7.0</td>\n",
       "    </tr>\n",
       "    <tr>\n",
       "      <th>1</th>\n",
       "      <td>tt0066787</td>\n",
       "      <td>One Day Before the Rainy Season</td>\n",
       "      <td>Ashad Ka Ek Din</td>\n",
       "      <td>Biography,Drama</td>\n",
       "      <td>7.2</td>\n",
       "    </tr>\n",
       "    <tr>\n",
       "      <th>2</th>\n",
       "      <td>tt0069049</td>\n",
       "      <td>The Other Side of the Wind</td>\n",
       "      <td>The Other Side of the Wind</td>\n",
       "      <td>Drama</td>\n",
       "      <td>6.9</td>\n",
       "    </tr>\n",
       "    <tr>\n",
       "      <th>3</th>\n",
       "      <td>tt0069204</td>\n",
       "      <td>Sabse Bada Sukh</td>\n",
       "      <td>Sabse Bada Sukh</td>\n",
       "      <td>Comedy,Drama</td>\n",
       "      <td>6.1</td>\n",
       "    </tr>\n",
       "    <tr>\n",
       "      <th>4</th>\n",
       "      <td>tt0100275</td>\n",
       "      <td>The Wandering Soap Opera</td>\n",
       "      <td>La Telenovela Errante</td>\n",
       "      <td>Comedy,Drama,Fantasy</td>\n",
       "      <td>6.5</td>\n",
       "    </tr>\n",
       "    <tr>\n",
       "      <th>...</th>\n",
       "      <td>...</td>\n",
       "      <td>...</td>\n",
       "      <td>...</td>\n",
       "      <td>...</td>\n",
       "      <td>...</td>\n",
       "    </tr>\n",
       "    <tr>\n",
       "      <th>73851</th>\n",
       "      <td>tt9913084</td>\n",
       "      <td>Diabolik sono io</td>\n",
       "      <td>Diabolik sono io</td>\n",
       "      <td>Documentary</td>\n",
       "      <td>6.2</td>\n",
       "    </tr>\n",
       "    <tr>\n",
       "      <th>73852</th>\n",
       "      <td>tt9914286</td>\n",
       "      <td>Sokagin Çocuklari</td>\n",
       "      <td>Sokagin Çocuklari</td>\n",
       "      <td>Drama,Family</td>\n",
       "      <td>8.7</td>\n",
       "    </tr>\n",
       "    <tr>\n",
       "      <th>73853</th>\n",
       "      <td>tt9914642</td>\n",
       "      <td>Albatross</td>\n",
       "      <td>Albatross</td>\n",
       "      <td>Documentary</td>\n",
       "      <td>8.5</td>\n",
       "    </tr>\n",
       "    <tr>\n",
       "      <th>73854</th>\n",
       "      <td>tt9914942</td>\n",
       "      <td>La vida sense la Sara Amat</td>\n",
       "      <td>La vida sense la Sara Amat</td>\n",
       "      <td>None</td>\n",
       "      <td>6.6</td>\n",
       "    </tr>\n",
       "    <tr>\n",
       "      <th>73855</th>\n",
       "      <td>tt9916160</td>\n",
       "      <td>Drømmeland</td>\n",
       "      <td>Drømmeland</td>\n",
       "      <td>Documentary</td>\n",
       "      <td>6.5</td>\n",
       "    </tr>\n",
       "  </tbody>\n",
       "</table>\n",
       "<p>73856 rows × 5 columns</p>\n",
       "</div>"
      ],
      "text/plain": [
       "        movie_id                    primary_title              original_title  \\\n",
       "0      tt0063540                        Sunghursh                   Sunghursh   \n",
       "1      tt0066787  One Day Before the Rainy Season             Ashad Ka Ek Din   \n",
       "2      tt0069049       The Other Side of the Wind  The Other Side of the Wind   \n",
       "3      tt0069204                  Sabse Bada Sukh             Sabse Bada Sukh   \n",
       "4      tt0100275         The Wandering Soap Opera       La Telenovela Errante   \n",
       "...          ...                              ...                         ...   \n",
       "73851  tt9913084                 Diabolik sono io            Diabolik sono io   \n",
       "73852  tt9914286                Sokagin Çocuklari           Sokagin Çocuklari   \n",
       "73853  tt9914642                        Albatross                   Albatross   \n",
       "73854  tt9914942       La vida sense la Sara Amat  La vida sense la Sara Amat   \n",
       "73855  tt9916160                       Drømmeland                  Drømmeland   \n",
       "\n",
       "                     genres  averagerating  \n",
       "0        Action,Crime,Drama            7.0  \n",
       "1           Biography,Drama            7.2  \n",
       "2                     Drama            6.9  \n",
       "3              Comedy,Drama            6.1  \n",
       "4      Comedy,Drama,Fantasy            6.5  \n",
       "...                     ...            ...  \n",
       "73851           Documentary            6.2  \n",
       "73852          Drama,Family            8.7  \n",
       "73853           Documentary            8.5  \n",
       "73854                  None            6.6  \n",
       "73855           Documentary            6.5  \n",
       "\n",
       "[73856 rows x 5 columns]"
      ]
     },
     "execution_count": 591,
     "metadata": {},
     "output_type": "execute_result"
    }
   ],
   "source": [
    "basrat.drop(['start_year', 'runtime_minutes', 'numvotes'], axis=1, inplace=True)\n",
    "basrat"
   ]
  },
  {
   "cell_type": "markdown",
   "metadata": {},
   "source": [
    "There are 73856 rows in my new basrat DataFrame, so I know that the merge was done properly."
   ]
  },
  {
   "cell_type": "markdown",
   "metadata": {},
   "source": [
    "Now, I can join these two DataFrames together that I just created (dirppl and basrat), and then create a new variable for that DataFrame as well. Before I join, I want to remind myself how big the basrat DataFrame is with `dirppl.shape` again."
   ]
  },
  {
   "cell_type": "code",
   "execution_count": 592,
   "metadata": {},
   "outputs": [
    {
     "data": {
      "text/html": [
       "<div>\n",
       "<style scoped>\n",
       "    .dataframe tbody tr th:only-of-type {\n",
       "        vertical-align: middle;\n",
       "    }\n",
       "\n",
       "    .dataframe tbody tr th {\n",
       "        vertical-align: top;\n",
       "    }\n",
       "\n",
       "    .dataframe thead th {\n",
       "        text-align: right;\n",
       "    }\n",
       "</style>\n",
       "<table border=\"1\" class=\"dataframe\">\n",
       "  <thead>\n",
       "    <tr style=\"text-align: right;\">\n",
       "      <th></th>\n",
       "      <th>movie_id</th>\n",
       "      <th>primary_title</th>\n",
       "      <th>original_title</th>\n",
       "      <th>genres</th>\n",
       "      <th>averagerating</th>\n",
       "    </tr>\n",
       "  </thead>\n",
       "  <tbody>\n",
       "    <tr>\n",
       "      <th>0</th>\n",
       "      <td>tt0063540</td>\n",
       "      <td>Sunghursh</td>\n",
       "      <td>Sunghursh</td>\n",
       "      <td>Action,Crime,Drama</td>\n",
       "      <td>7.0</td>\n",
       "    </tr>\n",
       "    <tr>\n",
       "      <th>1</th>\n",
       "      <td>tt0066787</td>\n",
       "      <td>One Day Before the Rainy Season</td>\n",
       "      <td>Ashad Ka Ek Din</td>\n",
       "      <td>Biography,Drama</td>\n",
       "      <td>7.2</td>\n",
       "    </tr>\n",
       "    <tr>\n",
       "      <th>2</th>\n",
       "      <td>tt0069049</td>\n",
       "      <td>The Other Side of the Wind</td>\n",
       "      <td>The Other Side of the Wind</td>\n",
       "      <td>Drama</td>\n",
       "      <td>6.9</td>\n",
       "    </tr>\n",
       "    <tr>\n",
       "      <th>3</th>\n",
       "      <td>tt0069204</td>\n",
       "      <td>Sabse Bada Sukh</td>\n",
       "      <td>Sabse Bada Sukh</td>\n",
       "      <td>Comedy,Drama</td>\n",
       "      <td>6.1</td>\n",
       "    </tr>\n",
       "    <tr>\n",
       "      <th>4</th>\n",
       "      <td>tt0100275</td>\n",
       "      <td>The Wandering Soap Opera</td>\n",
       "      <td>La Telenovela Errante</td>\n",
       "      <td>Comedy,Drama,Fantasy</td>\n",
       "      <td>6.5</td>\n",
       "    </tr>\n",
       "  </tbody>\n",
       "</table>\n",
       "</div>"
      ],
      "text/plain": [
       "    movie_id                    primary_title              original_title  \\\n",
       "0  tt0063540                        Sunghursh                   Sunghursh   \n",
       "1  tt0066787  One Day Before the Rainy Season             Ashad Ka Ek Din   \n",
       "2  tt0069049       The Other Side of the Wind  The Other Side of the Wind   \n",
       "3  tt0069204                  Sabse Bada Sukh             Sabse Bada Sukh   \n",
       "4  tt0100275         The Wandering Soap Opera       La Telenovela Errante   \n",
       "\n",
       "                 genres  averagerating  \n",
       "0    Action,Crime,Drama            7.0  \n",
       "1       Biography,Drama            7.2  \n",
       "2                 Drama            6.9  \n",
       "3          Comedy,Drama            6.1  \n",
       "4  Comedy,Drama,Fantasy            6.5  "
      ]
     },
     "execution_count": 592,
     "metadata": {},
     "output_type": "execute_result"
    }
   ],
   "source": [
    "basrat.head()"
   ]
  },
  {
   "cell_type": "code",
   "execution_count": 593,
   "metadata": {},
   "outputs": [
    {
     "data": {
      "text/plain": [
       "(163535, 4)"
      ]
     },
     "execution_count": 593,
     "metadata": {},
     "output_type": "execute_result"
    }
   ],
   "source": [
    "dirppl.shape"
   ]
  },
  {
   "cell_type": "code",
   "execution_count": 594,
   "metadata": {},
   "outputs": [
    {
     "data": {
      "text/plain": [
       "movie_id              False\n",
       "person_id             False\n",
       "primary_name           True\n",
       "primary_profession     True\n",
       "dtype: bool"
      ]
     },
     "execution_count": 594,
     "metadata": {},
     "output_type": "execute_result"
    }
   ],
   "source": [
    "dirppl.isna().any()"
   ]
  },
  {
   "cell_type": "code",
   "execution_count": 595,
   "metadata": {},
   "outputs": [
    {
     "data": {
      "text/html": [
       "<div>\n",
       "<style scoped>\n",
       "    .dataframe tbody tr th:only-of-type {\n",
       "        vertical-align: middle;\n",
       "    }\n",
       "\n",
       "    .dataframe tbody tr th {\n",
       "        vertical-align: top;\n",
       "    }\n",
       "\n",
       "    .dataframe thead th {\n",
       "        text-align: right;\n",
       "    }\n",
       "</style>\n",
       "<table border=\"1\" class=\"dataframe\">\n",
       "  <thead>\n",
       "    <tr style=\"text-align: right;\">\n",
       "      <th></th>\n",
       "      <th>movie_id</th>\n",
       "      <th>person_id</th>\n",
       "      <th>primary_name</th>\n",
       "      <th>primary_profession</th>\n",
       "    </tr>\n",
       "  </thead>\n",
       "  <tbody>\n",
       "    <tr>\n",
       "      <th>0</th>\n",
       "      <td>tt0285252</td>\n",
       "      <td>nm0899854</td>\n",
       "      <td>Tony Vitale</td>\n",
       "      <td>producer,director,writer</td>\n",
       "    </tr>\n",
       "    <tr>\n",
       "      <th>1</th>\n",
       "      <td>tt0462036</td>\n",
       "      <td>nm1940585</td>\n",
       "      <td>Bill Haley</td>\n",
       "      <td>director,writer,producer</td>\n",
       "    </tr>\n",
       "    <tr>\n",
       "      <th>2</th>\n",
       "      <td>tt0835418</td>\n",
       "      <td>nm0151540</td>\n",
       "      <td>Jay Chandrasekhar</td>\n",
       "      <td>director,actor,writer</td>\n",
       "    </tr>\n",
       "    <tr>\n",
       "      <th>3</th>\n",
       "      <td>tt0878654</td>\n",
       "      <td>nm0089502</td>\n",
       "      <td>Albert Pyun</td>\n",
       "      <td>director,writer,producer</td>\n",
       "    </tr>\n",
       "    <tr>\n",
       "      <th>4</th>\n",
       "      <td>tt0878654</td>\n",
       "      <td>nm2291498</td>\n",
       "      <td>Joe Baile</td>\n",
       "      <td>producer,director,camera_department</td>\n",
       "    </tr>\n",
       "  </tbody>\n",
       "</table>\n",
       "</div>"
      ],
      "text/plain": [
       "    movie_id  person_id       primary_name  \\\n",
       "0  tt0285252  nm0899854        Tony Vitale   \n",
       "1  tt0462036  nm1940585         Bill Haley   \n",
       "2  tt0835418  nm0151540  Jay Chandrasekhar   \n",
       "3  tt0878654  nm0089502        Albert Pyun   \n",
       "4  tt0878654  nm2291498          Joe Baile   \n",
       "\n",
       "                    primary_profession  \n",
       "0             producer,director,writer  \n",
       "1             director,writer,producer  \n",
       "2                director,actor,writer  \n",
       "3             director,writer,producer  \n",
       "4  producer,director,camera_department  "
      ]
     },
     "execution_count": 595,
     "metadata": {},
     "output_type": "execute_result"
    }
   ],
   "source": [
    "dirppl.head()"
   ]
  },
  {
   "cell_type": "code",
   "execution_count": 596,
   "metadata": {
    "scrolled": true
   },
   "outputs": [
    {
     "data": {
      "text/html": [
       "<div>\n",
       "<style scoped>\n",
       "    .dataframe tbody tr th:only-of-type {\n",
       "        vertical-align: middle;\n",
       "    }\n",
       "\n",
       "    .dataframe tbody tr th {\n",
       "        vertical-align: top;\n",
       "    }\n",
       "\n",
       "    .dataframe thead th {\n",
       "        text-align: right;\n",
       "    }\n",
       "</style>\n",
       "<table border=\"1\" class=\"dataframe\">\n",
       "  <thead>\n",
       "    <tr style=\"text-align: right;\">\n",
       "      <th></th>\n",
       "      <th>movie_id</th>\n",
       "      <th>primary_title</th>\n",
       "      <th>original_title</th>\n",
       "      <th>genres</th>\n",
       "      <th>averagerating</th>\n",
       "    </tr>\n",
       "  </thead>\n",
       "  <tbody>\n",
       "    <tr>\n",
       "      <th>9944</th>\n",
       "      <td>tt1775309</td>\n",
       "      <td>Avatar</td>\n",
       "      <td>Abatâ</td>\n",
       "      <td>Horror</td>\n",
       "      <td>6.1</td>\n",
       "    </tr>\n",
       "  </tbody>\n",
       "</table>\n",
       "</div>"
      ],
      "text/plain": [
       "       movie_id primary_title original_title  genres  averagerating\n",
       "9944  tt1775309        Avatar          Abatâ  Horror            6.1"
      ]
     },
     "execution_count": 596,
     "metadata": {},
     "output_type": "execute_result"
    }
   ],
   "source": [
    "# Delete this later, this is showing that there are a few different titles named Avatar\n",
    "basrat.loc[basrat['primary_title']==\"Avatar\"]"
   ]
  },
  {
   "cell_type": "code",
   "execution_count": 597,
   "metadata": {},
   "outputs": [
    {
     "data": {
      "text/html": [
       "<div>\n",
       "<style scoped>\n",
       "    .dataframe tbody tr th:only-of-type {\n",
       "        vertical-align: middle;\n",
       "    }\n",
       "\n",
       "    .dataframe tbody tr th {\n",
       "        vertical-align: top;\n",
       "    }\n",
       "\n",
       "    .dataframe thead th {\n",
       "        text-align: right;\n",
       "    }\n",
       "</style>\n",
       "<table border=\"1\" class=\"dataframe\">\n",
       "  <thead>\n",
       "    <tr style=\"text-align: right;\">\n",
       "      <th></th>\n",
       "      <th>movie_id</th>\n",
       "      <th>primary_title</th>\n",
       "      <th>original_title</th>\n",
       "      <th>genres</th>\n",
       "      <th>averagerating</th>\n",
       "      <th>person_id</th>\n",
       "      <th>primary_name</th>\n",
       "      <th>primary_profession</th>\n",
       "    </tr>\n",
       "  </thead>\n",
       "  <tbody>\n",
       "    <tr>\n",
       "      <th>0</th>\n",
       "      <td>tt0063540</td>\n",
       "      <td>Sunghursh</td>\n",
       "      <td>Sunghursh</td>\n",
       "      <td>Action,Crime,Drama</td>\n",
       "      <td>7.0</td>\n",
       "      <td>nm0712540</td>\n",
       "      <td>Harnam Singh Rawail</td>\n",
       "      <td>director,writer,producer</td>\n",
       "    </tr>\n",
       "    <tr>\n",
       "      <th>1</th>\n",
       "      <td>tt0066787</td>\n",
       "      <td>One Day Before the Rainy Season</td>\n",
       "      <td>Ashad Ka Ek Din</td>\n",
       "      <td>Biography,Drama</td>\n",
       "      <td>7.2</td>\n",
       "      <td>nm0002411</td>\n",
       "      <td>Mani Kaul</td>\n",
       "      <td>director,writer,actor</td>\n",
       "    </tr>\n",
       "    <tr>\n",
       "      <th>2</th>\n",
       "      <td>tt0069049</td>\n",
       "      <td>The Other Side of the Wind</td>\n",
       "      <td>The Other Side of the Wind</td>\n",
       "      <td>Drama</td>\n",
       "      <td>6.9</td>\n",
       "      <td>nm0000080</td>\n",
       "      <td>Orson Welles</td>\n",
       "      <td>actor,director,writer</td>\n",
       "    </tr>\n",
       "    <tr>\n",
       "      <th>3</th>\n",
       "      <td>tt0069204</td>\n",
       "      <td>Sabse Bada Sukh</td>\n",
       "      <td>Sabse Bada Sukh</td>\n",
       "      <td>Comedy,Drama</td>\n",
       "      <td>6.1</td>\n",
       "      <td>nm0611531</td>\n",
       "      <td>Hrishikesh Mukherjee</td>\n",
       "      <td>director,editor,writer</td>\n",
       "    </tr>\n",
       "    <tr>\n",
       "      <th>4</th>\n",
       "      <td>tt0100275</td>\n",
       "      <td>The Wandering Soap Opera</td>\n",
       "      <td>La Telenovela Errante</td>\n",
       "      <td>Comedy,Drama,Fantasy</td>\n",
       "      <td>6.5</td>\n",
       "      <td>nm0765384</td>\n",
       "      <td>Valeria Sarmiento</td>\n",
       "      <td>editor,director,writer</td>\n",
       "    </tr>\n",
       "    <tr>\n",
       "      <th>...</th>\n",
       "      <td>...</td>\n",
       "      <td>...</td>\n",
       "      <td>...</td>\n",
       "      <td>...</td>\n",
       "      <td>...</td>\n",
       "      <td>...</td>\n",
       "      <td>...</td>\n",
       "      <td>...</td>\n",
       "    </tr>\n",
       "    <tr>\n",
       "      <th>86026</th>\n",
       "      <td>tt9913084</td>\n",
       "      <td>Diabolik sono io</td>\n",
       "      <td>Diabolik sono io</td>\n",
       "      <td>Documentary</td>\n",
       "      <td>6.2</td>\n",
       "      <td>nm0812850</td>\n",
       "      <td>Giancarlo Soldi</td>\n",
       "      <td>director,writer,producer</td>\n",
       "    </tr>\n",
       "    <tr>\n",
       "      <th>86027</th>\n",
       "      <td>tt9914286</td>\n",
       "      <td>Sokagin Çocuklari</td>\n",
       "      <td>Sokagin Çocuklari</td>\n",
       "      <td>Drama,Family</td>\n",
       "      <td>8.7</td>\n",
       "      <td>nm4394529</td>\n",
       "      <td>Ahmet Faik Akinci</td>\n",
       "      <td>director,writer</td>\n",
       "    </tr>\n",
       "    <tr>\n",
       "      <th>86028</th>\n",
       "      <td>tt9914642</td>\n",
       "      <td>Albatross</td>\n",
       "      <td>Albatross</td>\n",
       "      <td>Documentary</td>\n",
       "      <td>8.5</td>\n",
       "      <td>nm5300859</td>\n",
       "      <td>Chris Jordan</td>\n",
       "      <td>director,writer,editor</td>\n",
       "    </tr>\n",
       "    <tr>\n",
       "      <th>86029</th>\n",
       "      <td>tt9914942</td>\n",
       "      <td>La vida sense la Sara Amat</td>\n",
       "      <td>La vida sense la Sara Amat</td>\n",
       "      <td>None</td>\n",
       "      <td>6.6</td>\n",
       "      <td>nm1716653</td>\n",
       "      <td>Laura Jou</td>\n",
       "      <td>miscellaneous,actress,director</td>\n",
       "    </tr>\n",
       "    <tr>\n",
       "      <th>86030</th>\n",
       "      <td>tt9916160</td>\n",
       "      <td>Drømmeland</td>\n",
       "      <td>Drømmeland</td>\n",
       "      <td>Documentary</td>\n",
       "      <td>6.5</td>\n",
       "      <td>nm5684093</td>\n",
       "      <td>Joost van der Wiel</td>\n",
       "      <td>director,cinematographer,writer</td>\n",
       "    </tr>\n",
       "  </tbody>\n",
       "</table>\n",
       "<p>86031 rows × 8 columns</p>\n",
       "</div>"
      ],
      "text/plain": [
       "        movie_id                    primary_title              original_title  \\\n",
       "0      tt0063540                        Sunghursh                   Sunghursh   \n",
       "1      tt0066787  One Day Before the Rainy Season             Ashad Ka Ek Din   \n",
       "2      tt0069049       The Other Side of the Wind  The Other Side of the Wind   \n",
       "3      tt0069204                  Sabse Bada Sukh             Sabse Bada Sukh   \n",
       "4      tt0100275         The Wandering Soap Opera       La Telenovela Errante   \n",
       "...          ...                              ...                         ...   \n",
       "86026  tt9913084                 Diabolik sono io            Diabolik sono io   \n",
       "86027  tt9914286                Sokagin Çocuklari           Sokagin Çocuklari   \n",
       "86028  tt9914642                        Albatross                   Albatross   \n",
       "86029  tt9914942       La vida sense la Sara Amat  La vida sense la Sara Amat   \n",
       "86030  tt9916160                       Drømmeland                  Drømmeland   \n",
       "\n",
       "                     genres  averagerating  person_id          primary_name  \\\n",
       "0        Action,Crime,Drama            7.0  nm0712540   Harnam Singh Rawail   \n",
       "1           Biography,Drama            7.2  nm0002411             Mani Kaul   \n",
       "2                     Drama            6.9  nm0000080          Orson Welles   \n",
       "3              Comedy,Drama            6.1  nm0611531  Hrishikesh Mukherjee   \n",
       "4      Comedy,Drama,Fantasy            6.5  nm0765384     Valeria Sarmiento   \n",
       "...                     ...            ...        ...                   ...   \n",
       "86026           Documentary            6.2  nm0812850       Giancarlo Soldi   \n",
       "86027          Drama,Family            8.7  nm4394529     Ahmet Faik Akinci   \n",
       "86028           Documentary            8.5  nm5300859          Chris Jordan   \n",
       "86029                  None            6.6  nm1716653             Laura Jou   \n",
       "86030           Documentary            6.5  nm5684093    Joost van der Wiel   \n",
       "\n",
       "                    primary_profession  \n",
       "0             director,writer,producer  \n",
       "1                director,writer,actor  \n",
       "2                actor,director,writer  \n",
       "3               director,editor,writer  \n",
       "4               editor,director,writer  \n",
       "...                                ...  \n",
       "86026         director,writer,producer  \n",
       "86027                  director,writer  \n",
       "86028           director,writer,editor  \n",
       "86029   miscellaneous,actress,director  \n",
       "86030  director,cinematographer,writer  \n",
       "\n",
       "[86031 rows x 8 columns]"
      ]
     },
     "execution_count": 597,
     "metadata": {},
     "output_type": "execute_result"
    }
   ],
   "source": [
    "df1 = basrat.merge(dirppl, how=\"inner\", on=\"movie_id\")\n",
    "df1"
   ]
  },
  {
   "cell_type": "markdown",
   "metadata": {},
   "source": [
    "I was expecting there to be 73856 rows in the df1 DataFrame, and since there are more, I'm going to check for null values and duplicates that could've occurred due to the merge."
   ]
  },
  {
   "cell_type": "code",
   "execution_count": 598,
   "metadata": {},
   "outputs": [
    {
     "data": {
      "text/plain": [
       "0"
      ]
     },
     "execution_count": 598,
     "metadata": {},
     "output_type": "execute_result"
    }
   ],
   "source": [
    "df1.duplicated().sum()"
   ]
  },
  {
   "cell_type": "markdown",
   "metadata": {},
   "source": [
    "No duplicates, but maybe there are some more null values."
   ]
  },
  {
   "cell_type": "code",
   "execution_count": 599,
   "metadata": {},
   "outputs": [
    {
     "data": {
      "text/plain": [
       "movie_id                0\n",
       "primary_title           0\n",
       "original_title          0\n",
       "genres                798\n",
       "averagerating           0\n",
       "person_id               0\n",
       "primary_name            1\n",
       "primary_profession     90\n",
       "dtype: int64"
      ]
     },
     "execution_count": 599,
     "metadata": {},
     "output_type": "execute_result"
    }
   ],
   "source": [
    "df1.isna().sum()"
   ]
  },
  {
   "cell_type": "markdown",
   "metadata": {},
   "source": [
    "There aren't as many null values as I was expecting, but I'm glad to know there aren't as many nulls or any duplicates."
   ]
  },
  {
   "cell_type": "markdown",
   "metadata": {},
   "source": [
    "**Cleaning the Budget DataFrame**"
   ]
  },
  {
   "cell_type": "markdown",
   "metadata": {},
   "source": [
    "Taking a quick look at what the Budget DataFrame looks like again to see what the data looks like."
   ]
  },
  {
   "cell_type": "code",
   "execution_count": 600,
   "metadata": {},
   "outputs": [
    {
     "data": {
      "text/html": [
       "<div>\n",
       "<style scoped>\n",
       "    .dataframe tbody tr th:only-of-type {\n",
       "        vertical-align: middle;\n",
       "    }\n",
       "\n",
       "    .dataframe tbody tr th {\n",
       "        vertical-align: top;\n",
       "    }\n",
       "\n",
       "    .dataframe thead th {\n",
       "        text-align: right;\n",
       "    }\n",
       "</style>\n",
       "<table border=\"1\" class=\"dataframe\">\n",
       "  <thead>\n",
       "    <tr style=\"text-align: right;\">\n",
       "      <th></th>\n",
       "      <th>release_date</th>\n",
       "      <th>movie</th>\n",
       "      <th>production_budget</th>\n",
       "      <th>domestic_gross</th>\n",
       "      <th>worldwide_gross</th>\n",
       "    </tr>\n",
       "    <tr>\n",
       "      <th>id</th>\n",
       "      <th></th>\n",
       "      <th></th>\n",
       "      <th></th>\n",
       "      <th></th>\n",
       "      <th></th>\n",
       "    </tr>\n",
       "  </thead>\n",
       "  <tbody>\n",
       "    <tr>\n",
       "      <th>1</th>\n",
       "      <td>Dec 18, 2009</td>\n",
       "      <td>Avatar</td>\n",
       "      <td>$425,000,000</td>\n",
       "      <td>$760,507,625</td>\n",
       "      <td>$2,776,345,279</td>\n",
       "    </tr>\n",
       "  </tbody>\n",
       "</table>\n",
       "</div>"
      ],
      "text/plain": [
       "    release_date   movie production_budget domestic_gross worldwide_gross\n",
       "id                                                                       \n",
       "1   Dec 18, 2009  Avatar      $425,000,000   $760,507,625  $2,776,345,279"
      ]
     },
     "execution_count": 600,
     "metadata": {},
     "output_type": "execute_result"
    }
   ],
   "source": [
    "budg.head(1)"
   ]
  },
  {
   "cell_type": "markdown",
   "metadata": {},
   "source": [
    "Since all of the columns are object data type, I will need to clean the data and change the data type in order to use production_budget or worldwide_gross in my analysis. First I will remove the dollar signs."
   ]
  },
  {
   "cell_type": "code",
   "execution_count": 601,
   "metadata": {},
   "outputs": [],
   "source": [
    "# Removing $ signs\n",
    "budg['production_budget'] = budg['production_budget'].str.replace('$', '')"
   ]
  },
  {
   "cell_type": "markdown",
   "metadata": {},
   "source": [
    "Now that the dollar signs have been removed, I'm also going to remove the commas from the column."
   ]
  },
  {
   "cell_type": "code",
   "execution_count": 602,
   "metadata": {},
   "outputs": [],
   "source": [
    "# Using replace to get rid of commas\n",
    "budg['production_budget'] = budg['production_budget'].str.replace(',','')"
   ]
  },
  {
   "cell_type": "markdown",
   "metadata": {},
   "source": [
    "Now that the dollar signs and commas have been removed, I'm able to change the object data type to int."
   ]
  },
  {
   "cell_type": "code",
   "execution_count": 603,
   "metadata": {},
   "outputs": [],
   "source": [
    "#Changing the data type to int\n",
    "budg['production_budget'] = budg['production_budget'].astype(int)"
   ]
  },
  {
   "cell_type": "markdown",
   "metadata": {},
   "source": [
    "With those steps done, I'm going to take another look at what the column looks like now."
   ]
  },
  {
   "cell_type": "code",
   "execution_count": 604,
   "metadata": {},
   "outputs": [
    {
     "data": {
      "text/plain": [
       "id\n",
       "1    425000000\n",
       "1    175000000\n",
       "1    145000000\n",
       "1    120000000\n",
       "1    100000000\n",
       "Name: production_budget, dtype: int64"
      ]
     },
     "execution_count": 604,
     "metadata": {},
     "output_type": "execute_result"
    }
   ],
   "source": [
    "budg['production_budget'][1].head()"
   ]
  },
  {
   "cell_type": "markdown",
   "metadata": {},
   "source": [
    "Since I'm using the worldwide_gross column to measure the success of a movie, I will need to clean up that column as well."
   ]
  },
  {
   "cell_type": "code",
   "execution_count": 605,
   "metadata": {},
   "outputs": [],
   "source": [
    "# Removing $ signs\n",
    "budg['worldwide_gross'] = budg['worldwide_gross'].str.replace('$','')"
   ]
  },
  {
   "cell_type": "markdown",
   "metadata": {},
   "source": [
    "Now that I've removed the dollar sign, I'm also going to remove the commas."
   ]
  },
  {
   "cell_type": "code",
   "execution_count": 606,
   "metadata": {},
   "outputs": [],
   "source": [
    "# Following same method to remove commas\n",
    "budg['worldwide_gross'] = budg['worldwide_gross'].str.replace(',','')"
   ]
  },
  {
   "cell_type": "markdown",
   "metadata": {},
   "source": [
    "Now that I've removed those, I can now change the object data type to int data type for further analysis."
   ]
  },
  {
   "cell_type": "code",
   "execution_count": 607,
   "metadata": {},
   "outputs": [],
   "source": [
    "# Changing data type to int\n",
    "budg['worldwide_gross'] = budg['worldwide_gross'].astype(int)"
   ]
  },
  {
   "cell_type": "markdown",
   "metadata": {},
   "source": [
    "Since we're already here, I'm going to clean up the domestic_gross column as well just in case I would like to use it in my analysis."
   ]
  },
  {
   "cell_type": "code",
   "execution_count": 608,
   "metadata": {},
   "outputs": [],
   "source": [
    "# Replacing the $ signs\n",
    "budg['domestic_gross'] = budg['domestic_gross'].str.replace('$', '')"
   ]
  },
  {
   "cell_type": "code",
   "execution_count": 609,
   "metadata": {},
   "outputs": [],
   "source": [
    "# Replacing the commas\n",
    "budg['domestic_gross'] = budg['domestic_gross'].str.replace(',','')"
   ]
  },
  {
   "cell_type": "code",
   "execution_count": 610,
   "metadata": {},
   "outputs": [],
   "source": [
    "# Changing the data type to an int\n",
    "budg['domestic_gross'] = budg['domestic_gross'].astype(int)"
   ]
  },
  {
   "cell_type": "code",
   "execution_count": 611,
   "metadata": {},
   "outputs": [],
   "source": [
    "# Creating a new column with net profit for each film\n",
    "budg['net_profit'] = budg['worldwide_gross'] - budg['production_budget']"
   ]
  },
  {
   "cell_type": "code",
   "execution_count": 612,
   "metadata": {},
   "outputs": [],
   "source": [
    "# Changing the datatype to int\n",
    "budg['net_profit'] = budg['net_profit'].astype(int)"
   ]
  },
  {
   "cell_type": "markdown",
   "metadata": {},
   "source": [
    "A quick look at what the budg DataFrame looks like now with those changes made."
   ]
  },
  {
   "cell_type": "code",
   "execution_count": 613,
   "metadata": {},
   "outputs": [
    {
     "data": {
      "text/html": [
       "<div>\n",
       "<style scoped>\n",
       "    .dataframe tbody tr th:only-of-type {\n",
       "        vertical-align: middle;\n",
       "    }\n",
       "\n",
       "    .dataframe tbody tr th {\n",
       "        vertical-align: top;\n",
       "    }\n",
       "\n",
       "    .dataframe thead th {\n",
       "        text-align: right;\n",
       "    }\n",
       "</style>\n",
       "<table border=\"1\" class=\"dataframe\">\n",
       "  <thead>\n",
       "    <tr style=\"text-align: right;\">\n",
       "      <th></th>\n",
       "      <th>release_date</th>\n",
       "      <th>movie</th>\n",
       "      <th>production_budget</th>\n",
       "      <th>domestic_gross</th>\n",
       "      <th>worldwide_gross</th>\n",
       "      <th>net_profit</th>\n",
       "    </tr>\n",
       "    <tr>\n",
       "      <th>id</th>\n",
       "      <th></th>\n",
       "      <th></th>\n",
       "      <th></th>\n",
       "      <th></th>\n",
       "      <th></th>\n",
       "      <th></th>\n",
       "    </tr>\n",
       "  </thead>\n",
       "  <tbody>\n",
       "    <tr>\n",
       "      <th>1</th>\n",
       "      <td>Dec 18, 2009</td>\n",
       "      <td>Avatar</td>\n",
       "      <td>425000000</td>\n",
       "      <td>760507625</td>\n",
       "      <td>2776345279</td>\n",
       "      <td>2351345279</td>\n",
       "    </tr>\n",
       "    <tr>\n",
       "      <th>2</th>\n",
       "      <td>May 20, 2011</td>\n",
       "      <td>Pirates of the Caribbean: On Stranger Tides</td>\n",
       "      <td>410600000</td>\n",
       "      <td>241063875</td>\n",
       "      <td>1045663875</td>\n",
       "      <td>635063875</td>\n",
       "    </tr>\n",
       "    <tr>\n",
       "      <th>3</th>\n",
       "      <td>Jun 7, 2019</td>\n",
       "      <td>Dark Phoenix</td>\n",
       "      <td>350000000</td>\n",
       "      <td>42762350</td>\n",
       "      <td>149762350</td>\n",
       "      <td>-200237650</td>\n",
       "    </tr>\n",
       "    <tr>\n",
       "      <th>4</th>\n",
       "      <td>May 1, 2015</td>\n",
       "      <td>Avengers: Age of Ultron</td>\n",
       "      <td>330600000</td>\n",
       "      <td>459005868</td>\n",
       "      <td>1403013963</td>\n",
       "      <td>1072413963</td>\n",
       "    </tr>\n",
       "    <tr>\n",
       "      <th>5</th>\n",
       "      <td>Dec 15, 2017</td>\n",
       "      <td>Star Wars Ep. VIII: The Last Jedi</td>\n",
       "      <td>317000000</td>\n",
       "      <td>620181382</td>\n",
       "      <td>1316721747</td>\n",
       "      <td>999721747</td>\n",
       "    </tr>\n",
       "  </tbody>\n",
       "</table>\n",
       "</div>"
      ],
      "text/plain": [
       "    release_date                                        movie  \\\n",
       "id                                                              \n",
       "1   Dec 18, 2009                                       Avatar   \n",
       "2   May 20, 2011  Pirates of the Caribbean: On Stranger Tides   \n",
       "3    Jun 7, 2019                                 Dark Phoenix   \n",
       "4    May 1, 2015                      Avengers: Age of Ultron   \n",
       "5   Dec 15, 2017            Star Wars Ep. VIII: The Last Jedi   \n",
       "\n",
       "    production_budget  domestic_gross  worldwide_gross  net_profit  \n",
       "id                                                                  \n",
       "1           425000000       760507625       2776345279  2351345279  \n",
       "2           410600000       241063875       1045663875   635063875  \n",
       "3           350000000        42762350        149762350  -200237650  \n",
       "4           330600000       459005868       1403013963  1072413963  \n",
       "5           317000000       620181382       1316721747   999721747  "
      ]
     },
     "execution_count": 613,
     "metadata": {},
     "output_type": "execute_result"
    }
   ],
   "source": [
    "budg.head()"
   ]
  },
  {
   "cell_type": "markdown",
   "metadata": {},
   "source": [
    "Now that the budg DataFrame is cleaned and looks good, I'm going to merge it into df1."
   ]
  },
  {
   "cell_type": "markdown",
   "metadata": {},
   "source": [
    "**Merging DataFrames Again**"
   ]
  },
  {
   "cell_type": "markdown",
   "metadata": {},
   "source": [
    "To do my analysis, I'm going to need to join budg to the df1 DataFrame, and then I will clean up the genre column. I'm going to take another look at how many rows are in each DataFrame, so I know can verify how much data I lost or gained due to my join. "
   ]
  },
  {
   "cell_type": "code",
   "execution_count": 614,
   "metadata": {},
   "outputs": [
    {
     "data": {
      "text/plain": [
       "(5782, 6)"
      ]
     },
     "execution_count": 614,
     "metadata": {},
     "output_type": "execute_result"
    }
   ],
   "source": [
    "budg.shape"
   ]
  },
  {
   "cell_type": "code",
   "execution_count": 615,
   "metadata": {},
   "outputs": [
    {
     "data": {
      "text/plain": [
       "(86031, 8)"
      ]
     },
     "execution_count": 615,
     "metadata": {},
     "output_type": "execute_result"
    }
   ],
   "source": [
    "df1.shape"
   ]
  },
  {
   "cell_type": "markdown",
   "metadata": {},
   "source": [
    "The df1 DataFrame is significantly larger than the budg DataFrame. I would like to only keep data where budg and df1 match on original_title"
   ]
  },
  {
   "cell_type": "code",
   "execution_count": 616,
   "metadata": {},
   "outputs": [],
   "source": [
    "df1.rename(columns={'original_title':'movie'}, inplace=True)"
   ]
  },
  {
   "cell_type": "markdown",
   "metadata": {},
   "source": [
    "I renamed the original_title column to movie, because I'm going to need to use the movie column in budg to merge the two DataFrames. Now I'm going to look at the DataFrame and make sure that change was made."
   ]
  },
  {
   "cell_type": "code",
   "execution_count": 617,
   "metadata": {},
   "outputs": [
    {
     "data": {
      "text/html": [
       "<div>\n",
       "<style scoped>\n",
       "    .dataframe tbody tr th:only-of-type {\n",
       "        vertical-align: middle;\n",
       "    }\n",
       "\n",
       "    .dataframe tbody tr th {\n",
       "        vertical-align: top;\n",
       "    }\n",
       "\n",
       "    .dataframe thead th {\n",
       "        text-align: right;\n",
       "    }\n",
       "</style>\n",
       "<table border=\"1\" class=\"dataframe\">\n",
       "  <thead>\n",
       "    <tr style=\"text-align: right;\">\n",
       "      <th></th>\n",
       "      <th>movie_id</th>\n",
       "      <th>primary_title</th>\n",
       "      <th>movie</th>\n",
       "      <th>genres</th>\n",
       "      <th>averagerating</th>\n",
       "      <th>person_id</th>\n",
       "      <th>primary_name</th>\n",
       "      <th>primary_profession</th>\n",
       "    </tr>\n",
       "  </thead>\n",
       "  <tbody>\n",
       "    <tr>\n",
       "      <th>0</th>\n",
       "      <td>tt0063540</td>\n",
       "      <td>Sunghursh</td>\n",
       "      <td>Sunghursh</td>\n",
       "      <td>Action,Crime,Drama</td>\n",
       "      <td>7.0</td>\n",
       "      <td>nm0712540</td>\n",
       "      <td>Harnam Singh Rawail</td>\n",
       "      <td>director,writer,producer</td>\n",
       "    </tr>\n",
       "    <tr>\n",
       "      <th>1</th>\n",
       "      <td>tt0066787</td>\n",
       "      <td>One Day Before the Rainy Season</td>\n",
       "      <td>Ashad Ka Ek Din</td>\n",
       "      <td>Biography,Drama</td>\n",
       "      <td>7.2</td>\n",
       "      <td>nm0002411</td>\n",
       "      <td>Mani Kaul</td>\n",
       "      <td>director,writer,actor</td>\n",
       "    </tr>\n",
       "    <tr>\n",
       "      <th>2</th>\n",
       "      <td>tt0069049</td>\n",
       "      <td>The Other Side of the Wind</td>\n",
       "      <td>The Other Side of the Wind</td>\n",
       "      <td>Drama</td>\n",
       "      <td>6.9</td>\n",
       "      <td>nm0000080</td>\n",
       "      <td>Orson Welles</td>\n",
       "      <td>actor,director,writer</td>\n",
       "    </tr>\n",
       "    <tr>\n",
       "      <th>3</th>\n",
       "      <td>tt0069204</td>\n",
       "      <td>Sabse Bada Sukh</td>\n",
       "      <td>Sabse Bada Sukh</td>\n",
       "      <td>Comedy,Drama</td>\n",
       "      <td>6.1</td>\n",
       "      <td>nm0611531</td>\n",
       "      <td>Hrishikesh Mukherjee</td>\n",
       "      <td>director,editor,writer</td>\n",
       "    </tr>\n",
       "    <tr>\n",
       "      <th>4</th>\n",
       "      <td>tt0100275</td>\n",
       "      <td>The Wandering Soap Opera</td>\n",
       "      <td>La Telenovela Errante</td>\n",
       "      <td>Comedy,Drama,Fantasy</td>\n",
       "      <td>6.5</td>\n",
       "      <td>nm0765384</td>\n",
       "      <td>Valeria Sarmiento</td>\n",
       "      <td>editor,director,writer</td>\n",
       "    </tr>\n",
       "  </tbody>\n",
       "</table>\n",
       "</div>"
      ],
      "text/plain": [
       "    movie_id                    primary_title                       movie  \\\n",
       "0  tt0063540                        Sunghursh                   Sunghursh   \n",
       "1  tt0066787  One Day Before the Rainy Season             Ashad Ka Ek Din   \n",
       "2  tt0069049       The Other Side of the Wind  The Other Side of the Wind   \n",
       "3  tt0069204                  Sabse Bada Sukh             Sabse Bada Sukh   \n",
       "4  tt0100275         The Wandering Soap Opera       La Telenovela Errante   \n",
       "\n",
       "                 genres  averagerating  person_id          primary_name  \\\n",
       "0    Action,Crime,Drama            7.0  nm0712540   Harnam Singh Rawail   \n",
       "1       Biography,Drama            7.2  nm0002411             Mani Kaul   \n",
       "2                 Drama            6.9  nm0000080          Orson Welles   \n",
       "3          Comedy,Drama            6.1  nm0611531  Hrishikesh Mukherjee   \n",
       "4  Comedy,Drama,Fantasy            6.5  nm0765384     Valeria Sarmiento   \n",
       "\n",
       "         primary_profession  \n",
       "0  director,writer,producer  \n",
       "1     director,writer,actor  \n",
       "2     actor,director,writer  \n",
       "3    director,editor,writer  \n",
       "4    editor,director,writer  "
      ]
     },
     "execution_count": 617,
     "metadata": {},
     "output_type": "execute_result"
    }
   ],
   "source": [
    "df1.head()"
   ]
  },
  {
   "cell_type": "code",
   "execution_count": 618,
   "metadata": {},
   "outputs": [
    {
     "data": {
      "text/plain": [
       "movie_id                0\n",
       "primary_title           0\n",
       "movie                   0\n",
       "genres                798\n",
       "averagerating           0\n",
       "person_id               0\n",
       "primary_name            1\n",
       "primary_profession     90\n",
       "dtype: int64"
      ]
     },
     "execution_count": 618,
     "metadata": {},
     "output_type": "execute_result"
    }
   ],
   "source": [
    "# Double checking how many null values there are in df1\n",
    "df1.isna().sum()"
   ]
  },
  {
   "cell_type": "code",
   "execution_count": 619,
   "metadata": {},
   "outputs": [],
   "source": [
    "all_df = budg.merge(df1, how=\"inner\", on=\"movie\")"
   ]
  },
  {
   "cell_type": "code",
   "execution_count": 620,
   "metadata": {},
   "outputs": [
    {
     "data": {
      "text/plain": [
       "(2926, 13)"
      ]
     },
     "execution_count": 620,
     "metadata": {},
     "output_type": "execute_result"
    }
   ],
   "source": [
    "all_df.shape"
   ]
  },
  {
   "cell_type": "code",
   "execution_count": 621,
   "metadata": {},
   "outputs": [
    {
     "data": {
      "text/html": [
       "<div>\n",
       "<style scoped>\n",
       "    .dataframe tbody tr th:only-of-type {\n",
       "        vertical-align: middle;\n",
       "    }\n",
       "\n",
       "    .dataframe tbody tr th {\n",
       "        vertical-align: top;\n",
       "    }\n",
       "\n",
       "    .dataframe thead th {\n",
       "        text-align: right;\n",
       "    }\n",
       "</style>\n",
       "<table border=\"1\" class=\"dataframe\">\n",
       "  <thead>\n",
       "    <tr style=\"text-align: right;\">\n",
       "      <th></th>\n",
       "      <th>movie_id</th>\n",
       "      <th>primary_title</th>\n",
       "      <th>movie</th>\n",
       "      <th>genres</th>\n",
       "      <th>averagerating</th>\n",
       "      <th>person_id</th>\n",
       "      <th>primary_name</th>\n",
       "      <th>primary_profession</th>\n",
       "    </tr>\n",
       "  </thead>\n",
       "  <tbody>\n",
       "  </tbody>\n",
       "</table>\n",
       "</div>"
      ],
      "text/plain": [
       "Empty DataFrame\n",
       "Columns: [movie_id, primary_title, movie, genres, averagerating, person_id, primary_name, primary_profession]\n",
       "Index: []"
      ]
     },
     "execution_count": 621,
     "metadata": {},
     "output_type": "execute_result"
    }
   ],
   "source": [
    "# Checking to see if Avatar is in df1 because it's the first row in budg\n",
    "df1.loc[df1['movie']==\"Avatar\"]"
   ]
  },
  {
   "cell_type": "markdown",
   "metadata": {},
   "source": [
    "It's crucial to note that Avatar isn't in my DataFrame, because it was one of the biggest movies that broke lots of records at the time, so I'll have to note in my next steps that I'd like to gather different data."
   ]
  },
  {
   "cell_type": "code",
   "execution_count": 622,
   "metadata": {},
   "outputs": [
    {
     "name": "stdout",
     "output_type": "stream",
     "text": [
      "0 duplicates\n",
      "release_date          0\n",
      "movie                 0\n",
      "production_budget     0\n",
      "domestic_gross        0\n",
      "worldwide_gross       0\n",
      "net_profit            0\n",
      "movie_id              0\n",
      "primary_title         0\n",
      "genres                5\n",
      "averagerating         0\n",
      "person_id             0\n",
      "primary_name          0\n",
      "primary_profession    1\n",
      "dtype: int64\n"
     ]
    }
   ],
   "source": [
    "# Checking for any duplicates or null value after merging the two DataFrames\n",
    "\n",
    "print(all_df.duplicated().sum(), \"duplicates\")\n",
    "print(all_df.isna().sum())"
   ]
  },
  {
   "cell_type": "markdown",
   "metadata": {},
   "source": [
    "Now that all of my DataFrames have been merged completely, I'm going to clean the genres column. I knew that I would need to explode the column."
   ]
  },
  {
   "cell_type": "code",
   "execution_count": 623,
   "metadata": {},
   "outputs": [
    {
     "data": {
      "text/html": [
       "<div>\n",
       "<style scoped>\n",
       "    .dataframe tbody tr th:only-of-type {\n",
       "        vertical-align: middle;\n",
       "    }\n",
       "\n",
       "    .dataframe tbody tr th {\n",
       "        vertical-align: top;\n",
       "    }\n",
       "\n",
       "    .dataframe thead th {\n",
       "        text-align: right;\n",
       "    }\n",
       "</style>\n",
       "<table border=\"1\" class=\"dataframe\">\n",
       "  <thead>\n",
       "    <tr style=\"text-align: right;\">\n",
       "      <th></th>\n",
       "      <th>release_date</th>\n",
       "      <th>movie</th>\n",
       "      <th>production_budget</th>\n",
       "      <th>domestic_gross</th>\n",
       "      <th>worldwide_gross</th>\n",
       "      <th>net_profit</th>\n",
       "      <th>movie_id</th>\n",
       "      <th>primary_title</th>\n",
       "      <th>genres</th>\n",
       "      <th>averagerating</th>\n",
       "      <th>person_id</th>\n",
       "      <th>primary_name</th>\n",
       "      <th>primary_profession</th>\n",
       "      <th>genre_list</th>\n",
       "    </tr>\n",
       "  </thead>\n",
       "  <tbody>\n",
       "    <tr>\n",
       "      <th>0</th>\n",
       "      <td>May 20, 2011</td>\n",
       "      <td>Pirates of the Caribbean: On Stranger Tides</td>\n",
       "      <td>410600000</td>\n",
       "      <td>241063875</td>\n",
       "      <td>1045663875</td>\n",
       "      <td>635063875</td>\n",
       "      <td>tt1298650</td>\n",
       "      <td>Pirates of the Caribbean: On Stranger Tides</td>\n",
       "      <td>Action,Adventure,Fantasy</td>\n",
       "      <td>6.6</td>\n",
       "      <td>nm0551128</td>\n",
       "      <td>Rob Marshall</td>\n",
       "      <td>director,miscellaneous,producer</td>\n",
       "      <td>[Action, Adventure, Fantasy]</td>\n",
       "    </tr>\n",
       "    <tr>\n",
       "      <th>1</th>\n",
       "      <td>Jun 7, 2019</td>\n",
       "      <td>Dark Phoenix</td>\n",
       "      <td>350000000</td>\n",
       "      <td>42762350</td>\n",
       "      <td>149762350</td>\n",
       "      <td>-200237650</td>\n",
       "      <td>tt6565702</td>\n",
       "      <td>Dark Phoenix</td>\n",
       "      <td>Action,Adventure,Sci-Fi</td>\n",
       "      <td>6.0</td>\n",
       "      <td>nm1334526</td>\n",
       "      <td>Simon Kinberg</td>\n",
       "      <td>producer,writer,director</td>\n",
       "      <td>[Action, Adventure, Sci-Fi]</td>\n",
       "    </tr>\n",
       "    <tr>\n",
       "      <th>2</th>\n",
       "      <td>May 1, 2015</td>\n",
       "      <td>Avengers: Age of Ultron</td>\n",
       "      <td>330600000</td>\n",
       "      <td>459005868</td>\n",
       "      <td>1403013963</td>\n",
       "      <td>1072413963</td>\n",
       "      <td>tt2395427</td>\n",
       "      <td>Avengers: Age of Ultron</td>\n",
       "      <td>Action,Adventure,Sci-Fi</td>\n",
       "      <td>7.3</td>\n",
       "      <td>nm0923736</td>\n",
       "      <td>Joss Whedon</td>\n",
       "      <td>writer,producer,director</td>\n",
       "      <td>[Action, Adventure, Sci-Fi]</td>\n",
       "    </tr>\n",
       "    <tr>\n",
       "      <th>3</th>\n",
       "      <td>Apr 27, 2018</td>\n",
       "      <td>Avengers: Infinity War</td>\n",
       "      <td>300000000</td>\n",
       "      <td>678815482</td>\n",
       "      <td>2048134200</td>\n",
       "      <td>1748134200</td>\n",
       "      <td>tt4154756</td>\n",
       "      <td>Avengers: Infinity War</td>\n",
       "      <td>Action,Adventure,Sci-Fi</td>\n",
       "      <td>8.5</td>\n",
       "      <td>nm0751577</td>\n",
       "      <td>Anthony Russo</td>\n",
       "      <td>producer,director,writer</td>\n",
       "      <td>[Action, Adventure, Sci-Fi]</td>\n",
       "    </tr>\n",
       "    <tr>\n",
       "      <th>4</th>\n",
       "      <td>Apr 27, 2018</td>\n",
       "      <td>Avengers: Infinity War</td>\n",
       "      <td>300000000</td>\n",
       "      <td>678815482</td>\n",
       "      <td>2048134200</td>\n",
       "      <td>1748134200</td>\n",
       "      <td>tt4154756</td>\n",
       "      <td>Avengers: Infinity War</td>\n",
       "      <td>Action,Adventure,Sci-Fi</td>\n",
       "      <td>8.5</td>\n",
       "      <td>nm0751648</td>\n",
       "      <td>Joe Russo</td>\n",
       "      <td>producer,director,writer</td>\n",
       "      <td>[Action, Adventure, Sci-Fi]</td>\n",
       "    </tr>\n",
       "    <tr>\n",
       "      <th>...</th>\n",
       "      <td>...</td>\n",
       "      <td>...</td>\n",
       "      <td>...</td>\n",
       "      <td>...</td>\n",
       "      <td>...</td>\n",
       "      <td>...</td>\n",
       "      <td>...</td>\n",
       "      <td>...</td>\n",
       "      <td>...</td>\n",
       "      <td>...</td>\n",
       "      <td>...</td>\n",
       "      <td>...</td>\n",
       "      <td>...</td>\n",
       "      <td>...</td>\n",
       "    </tr>\n",
       "    <tr>\n",
       "      <th>2921</th>\n",
       "      <td>Jul 6, 2001</td>\n",
       "      <td>Cure</td>\n",
       "      <td>10000</td>\n",
       "      <td>94596</td>\n",
       "      <td>94596</td>\n",
       "      <td>84596</td>\n",
       "      <td>tt1872026</td>\n",
       "      <td>Cure</td>\n",
       "      <td>Drama</td>\n",
       "      <td>4.9</td>\n",
       "      <td>nm0948107</td>\n",
       "      <td>Bill Yip</td>\n",
       "      <td>assistant_director,producer,actor</td>\n",
       "      <td>[Drama]</td>\n",
       "    </tr>\n",
       "    <tr>\n",
       "      <th>2922</th>\n",
       "      <td>Jan 13, 2012</td>\n",
       "      <td>Newlyweds</td>\n",
       "      <td>9000</td>\n",
       "      <td>4584</td>\n",
       "      <td>4584</td>\n",
       "      <td>-4416</td>\n",
       "      <td>tt1880418</td>\n",
       "      <td>Newlyweds</td>\n",
       "      <td>Comedy,Drama</td>\n",
       "      <td>6.4</td>\n",
       "      <td>nm0122653</td>\n",
       "      <td>Edward Burns</td>\n",
       "      <td>actor,writer,producer</td>\n",
       "      <td>[Comedy, Drama]</td>\n",
       "    </tr>\n",
       "    <tr>\n",
       "      <th>2923</th>\n",
       "      <td>Dec 31, 2018</td>\n",
       "      <td>Red 11</td>\n",
       "      <td>7000</td>\n",
       "      <td>0</td>\n",
       "      <td>0</td>\n",
       "      <td>-7000</td>\n",
       "      <td>tt7837402</td>\n",
       "      <td>Red 11</td>\n",
       "      <td>Horror,Sci-Fi,Thriller</td>\n",
       "      <td>5.6</td>\n",
       "      <td>nm0001675</td>\n",
       "      <td>Robert Rodriguez</td>\n",
       "      <td>producer,writer,director</td>\n",
       "      <td>[Horror, Sci-Fi, Thriller]</td>\n",
       "    </tr>\n",
       "    <tr>\n",
       "      <th>2924</th>\n",
       "      <td>Sep 29, 2015</td>\n",
       "      <td>A Plague So Pleasant</td>\n",
       "      <td>1400</td>\n",
       "      <td>0</td>\n",
       "      <td>0</td>\n",
       "      <td>-1400</td>\n",
       "      <td>tt2107644</td>\n",
       "      <td>A Plague So Pleasant</td>\n",
       "      <td>Drama,Horror,Thriller</td>\n",
       "      <td>5.4</td>\n",
       "      <td>nm4766951</td>\n",
       "      <td>Benjamin Roberds</td>\n",
       "      <td>camera_department,director,writer</td>\n",
       "      <td>[Drama, Horror, Thriller]</td>\n",
       "    </tr>\n",
       "    <tr>\n",
       "      <th>2925</th>\n",
       "      <td>Sep 29, 2015</td>\n",
       "      <td>A Plague So Pleasant</td>\n",
       "      <td>1400</td>\n",
       "      <td>0</td>\n",
       "      <td>0</td>\n",
       "      <td>-1400</td>\n",
       "      <td>tt2107644</td>\n",
       "      <td>A Plague So Pleasant</td>\n",
       "      <td>Drama,Horror,Thriller</td>\n",
       "      <td>5.4</td>\n",
       "      <td>nm5792320</td>\n",
       "      <td>Jordan Reyes</td>\n",
       "      <td>director,cinematographer,composer</td>\n",
       "      <td>[Drama, Horror, Thriller]</td>\n",
       "    </tr>\n",
       "  </tbody>\n",
       "</table>\n",
       "<p>2926 rows × 14 columns</p>\n",
       "</div>"
      ],
      "text/plain": [
       "      release_date                                        movie  \\\n",
       "0     May 20, 2011  Pirates of the Caribbean: On Stranger Tides   \n",
       "1      Jun 7, 2019                                 Dark Phoenix   \n",
       "2      May 1, 2015                      Avengers: Age of Ultron   \n",
       "3     Apr 27, 2018                       Avengers: Infinity War   \n",
       "4     Apr 27, 2018                       Avengers: Infinity War   \n",
       "...            ...                                          ...   \n",
       "2921   Jul 6, 2001                                         Cure   \n",
       "2922  Jan 13, 2012                                    Newlyweds   \n",
       "2923  Dec 31, 2018                                       Red 11   \n",
       "2924  Sep 29, 2015                         A Plague So Pleasant   \n",
       "2925  Sep 29, 2015                         A Plague So Pleasant   \n",
       "\n",
       "      production_budget  domestic_gross  worldwide_gross  net_profit  \\\n",
       "0             410600000       241063875       1045663875   635063875   \n",
       "1             350000000        42762350        149762350  -200237650   \n",
       "2             330600000       459005868       1403013963  1072413963   \n",
       "3             300000000       678815482       2048134200  1748134200   \n",
       "4             300000000       678815482       2048134200  1748134200   \n",
       "...                 ...             ...              ...         ...   \n",
       "2921              10000           94596            94596       84596   \n",
       "2922               9000            4584             4584       -4416   \n",
       "2923               7000               0                0       -7000   \n",
       "2924               1400               0                0       -1400   \n",
       "2925               1400               0                0       -1400   \n",
       "\n",
       "       movie_id                                primary_title  \\\n",
       "0     tt1298650  Pirates of the Caribbean: On Stranger Tides   \n",
       "1     tt6565702                                 Dark Phoenix   \n",
       "2     tt2395427                      Avengers: Age of Ultron   \n",
       "3     tt4154756                       Avengers: Infinity War   \n",
       "4     tt4154756                       Avengers: Infinity War   \n",
       "...         ...                                          ...   \n",
       "2921  tt1872026                                         Cure   \n",
       "2922  tt1880418                                    Newlyweds   \n",
       "2923  tt7837402                                       Red 11   \n",
       "2924  tt2107644                         A Plague So Pleasant   \n",
       "2925  tt2107644                         A Plague So Pleasant   \n",
       "\n",
       "                        genres  averagerating  person_id      primary_name  \\\n",
       "0     Action,Adventure,Fantasy            6.6  nm0551128      Rob Marshall   \n",
       "1      Action,Adventure,Sci-Fi            6.0  nm1334526     Simon Kinberg   \n",
       "2      Action,Adventure,Sci-Fi            7.3  nm0923736       Joss Whedon   \n",
       "3      Action,Adventure,Sci-Fi            8.5  nm0751577     Anthony Russo   \n",
       "4      Action,Adventure,Sci-Fi            8.5  nm0751648         Joe Russo   \n",
       "...                        ...            ...        ...               ...   \n",
       "2921                     Drama            4.9  nm0948107          Bill Yip   \n",
       "2922              Comedy,Drama            6.4  nm0122653      Edward Burns   \n",
       "2923    Horror,Sci-Fi,Thriller            5.6  nm0001675  Robert Rodriguez   \n",
       "2924     Drama,Horror,Thriller            5.4  nm4766951  Benjamin Roberds   \n",
       "2925     Drama,Horror,Thriller            5.4  nm5792320      Jordan Reyes   \n",
       "\n",
       "                     primary_profession                    genre_list  \n",
       "0       director,miscellaneous,producer  [Action, Adventure, Fantasy]  \n",
       "1              producer,writer,director   [Action, Adventure, Sci-Fi]  \n",
       "2              writer,producer,director   [Action, Adventure, Sci-Fi]  \n",
       "3              producer,director,writer   [Action, Adventure, Sci-Fi]  \n",
       "4              producer,director,writer   [Action, Adventure, Sci-Fi]  \n",
       "...                                 ...                           ...  \n",
       "2921  assistant_director,producer,actor                       [Drama]  \n",
       "2922              actor,writer,producer               [Comedy, Drama]  \n",
       "2923           producer,writer,director    [Horror, Sci-Fi, Thriller]  \n",
       "2924  camera_department,director,writer     [Drama, Horror, Thriller]  \n",
       "2925  director,cinematographer,composer     [Drama, Horror, Thriller]  \n",
       "\n",
       "[2926 rows x 14 columns]"
      ]
     },
     "execution_count": 623,
     "metadata": {},
     "output_type": "execute_result"
    }
   ],
   "source": [
    "# This line of code will create a new column with genres in a list, split by the commas in between them\n",
    "all_df[['genre_list']] = all_df.genres.str.split(',')\n",
    "all_df"
   ]
  },
  {
   "cell_type": "code",
   "execution_count": 624,
   "metadata": {},
   "outputs": [
    {
     "data": {
      "text/html": [
       "<div>\n",
       "<style scoped>\n",
       "    .dataframe tbody tr th:only-of-type {\n",
       "        vertical-align: middle;\n",
       "    }\n",
       "\n",
       "    .dataframe tbody tr th {\n",
       "        vertical-align: top;\n",
       "    }\n",
       "\n",
       "    .dataframe thead th {\n",
       "        text-align: right;\n",
       "    }\n",
       "</style>\n",
       "<table border=\"1\" class=\"dataframe\">\n",
       "  <thead>\n",
       "    <tr style=\"text-align: right;\">\n",
       "      <th></th>\n",
       "      <th>release_date</th>\n",
       "      <th>movie</th>\n",
       "      <th>production_budget</th>\n",
       "      <th>domestic_gross</th>\n",
       "      <th>worldwide_gross</th>\n",
       "      <th>net_profit</th>\n",
       "      <th>movie_id</th>\n",
       "      <th>primary_title</th>\n",
       "      <th>genres</th>\n",
       "      <th>averagerating</th>\n",
       "      <th>person_id</th>\n",
       "      <th>primary_name</th>\n",
       "      <th>primary_profession</th>\n",
       "      <th>genre_list</th>\n",
       "    </tr>\n",
       "  </thead>\n",
       "  <tbody>\n",
       "    <tr>\n",
       "      <th>0</th>\n",
       "      <td>May 20, 2011</td>\n",
       "      <td>Pirates of the Caribbean: On Stranger Tides</td>\n",
       "      <td>410600000</td>\n",
       "      <td>241063875</td>\n",
       "      <td>1045663875</td>\n",
       "      <td>635063875</td>\n",
       "      <td>tt1298650</td>\n",
       "      <td>Pirates of the Caribbean: On Stranger Tides</td>\n",
       "      <td>Action,Adventure,Fantasy</td>\n",
       "      <td>6.6</td>\n",
       "      <td>nm0551128</td>\n",
       "      <td>Rob Marshall</td>\n",
       "      <td>director,miscellaneous,producer</td>\n",
       "      <td>Action</td>\n",
       "    </tr>\n",
       "    <tr>\n",
       "      <th>0</th>\n",
       "      <td>May 20, 2011</td>\n",
       "      <td>Pirates of the Caribbean: On Stranger Tides</td>\n",
       "      <td>410600000</td>\n",
       "      <td>241063875</td>\n",
       "      <td>1045663875</td>\n",
       "      <td>635063875</td>\n",
       "      <td>tt1298650</td>\n",
       "      <td>Pirates of the Caribbean: On Stranger Tides</td>\n",
       "      <td>Action,Adventure,Fantasy</td>\n",
       "      <td>6.6</td>\n",
       "      <td>nm0551128</td>\n",
       "      <td>Rob Marshall</td>\n",
       "      <td>director,miscellaneous,producer</td>\n",
       "      <td>Adventure</td>\n",
       "    </tr>\n",
       "    <tr>\n",
       "      <th>0</th>\n",
       "      <td>May 20, 2011</td>\n",
       "      <td>Pirates of the Caribbean: On Stranger Tides</td>\n",
       "      <td>410600000</td>\n",
       "      <td>241063875</td>\n",
       "      <td>1045663875</td>\n",
       "      <td>635063875</td>\n",
       "      <td>tt1298650</td>\n",
       "      <td>Pirates of the Caribbean: On Stranger Tides</td>\n",
       "      <td>Action,Adventure,Fantasy</td>\n",
       "      <td>6.6</td>\n",
       "      <td>nm0551128</td>\n",
       "      <td>Rob Marshall</td>\n",
       "      <td>director,miscellaneous,producer</td>\n",
       "      <td>Fantasy</td>\n",
       "    </tr>\n",
       "    <tr>\n",
       "      <th>1</th>\n",
       "      <td>Jun 7, 2019</td>\n",
       "      <td>Dark Phoenix</td>\n",
       "      <td>350000000</td>\n",
       "      <td>42762350</td>\n",
       "      <td>149762350</td>\n",
       "      <td>-200237650</td>\n",
       "      <td>tt6565702</td>\n",
       "      <td>Dark Phoenix</td>\n",
       "      <td>Action,Adventure,Sci-Fi</td>\n",
       "      <td>6.0</td>\n",
       "      <td>nm1334526</td>\n",
       "      <td>Simon Kinberg</td>\n",
       "      <td>producer,writer,director</td>\n",
       "      <td>Action</td>\n",
       "    </tr>\n",
       "    <tr>\n",
       "      <th>1</th>\n",
       "      <td>Jun 7, 2019</td>\n",
       "      <td>Dark Phoenix</td>\n",
       "      <td>350000000</td>\n",
       "      <td>42762350</td>\n",
       "      <td>149762350</td>\n",
       "      <td>-200237650</td>\n",
       "      <td>tt6565702</td>\n",
       "      <td>Dark Phoenix</td>\n",
       "      <td>Action,Adventure,Sci-Fi</td>\n",
       "      <td>6.0</td>\n",
       "      <td>nm1334526</td>\n",
       "      <td>Simon Kinberg</td>\n",
       "      <td>producer,writer,director</td>\n",
       "      <td>Adventure</td>\n",
       "    </tr>\n",
       "    <tr>\n",
       "      <th>...</th>\n",
       "      <td>...</td>\n",
       "      <td>...</td>\n",
       "      <td>...</td>\n",
       "      <td>...</td>\n",
       "      <td>...</td>\n",
       "      <td>...</td>\n",
       "      <td>...</td>\n",
       "      <td>...</td>\n",
       "      <td>...</td>\n",
       "      <td>...</td>\n",
       "      <td>...</td>\n",
       "      <td>...</td>\n",
       "      <td>...</td>\n",
       "      <td>...</td>\n",
       "    </tr>\n",
       "    <tr>\n",
       "      <th>2924</th>\n",
       "      <td>Sep 29, 2015</td>\n",
       "      <td>A Plague So Pleasant</td>\n",
       "      <td>1400</td>\n",
       "      <td>0</td>\n",
       "      <td>0</td>\n",
       "      <td>-1400</td>\n",
       "      <td>tt2107644</td>\n",
       "      <td>A Plague So Pleasant</td>\n",
       "      <td>Drama,Horror,Thriller</td>\n",
       "      <td>5.4</td>\n",
       "      <td>nm4766951</td>\n",
       "      <td>Benjamin Roberds</td>\n",
       "      <td>camera_department,director,writer</td>\n",
       "      <td>Horror</td>\n",
       "    </tr>\n",
       "    <tr>\n",
       "      <th>2924</th>\n",
       "      <td>Sep 29, 2015</td>\n",
       "      <td>A Plague So Pleasant</td>\n",
       "      <td>1400</td>\n",
       "      <td>0</td>\n",
       "      <td>0</td>\n",
       "      <td>-1400</td>\n",
       "      <td>tt2107644</td>\n",
       "      <td>A Plague So Pleasant</td>\n",
       "      <td>Drama,Horror,Thriller</td>\n",
       "      <td>5.4</td>\n",
       "      <td>nm4766951</td>\n",
       "      <td>Benjamin Roberds</td>\n",
       "      <td>camera_department,director,writer</td>\n",
       "      <td>Thriller</td>\n",
       "    </tr>\n",
       "    <tr>\n",
       "      <th>2925</th>\n",
       "      <td>Sep 29, 2015</td>\n",
       "      <td>A Plague So Pleasant</td>\n",
       "      <td>1400</td>\n",
       "      <td>0</td>\n",
       "      <td>0</td>\n",
       "      <td>-1400</td>\n",
       "      <td>tt2107644</td>\n",
       "      <td>A Plague So Pleasant</td>\n",
       "      <td>Drama,Horror,Thriller</td>\n",
       "      <td>5.4</td>\n",
       "      <td>nm5792320</td>\n",
       "      <td>Jordan Reyes</td>\n",
       "      <td>director,cinematographer,composer</td>\n",
       "      <td>Drama</td>\n",
       "    </tr>\n",
       "    <tr>\n",
       "      <th>2925</th>\n",
       "      <td>Sep 29, 2015</td>\n",
       "      <td>A Plague So Pleasant</td>\n",
       "      <td>1400</td>\n",
       "      <td>0</td>\n",
       "      <td>0</td>\n",
       "      <td>-1400</td>\n",
       "      <td>tt2107644</td>\n",
       "      <td>A Plague So Pleasant</td>\n",
       "      <td>Drama,Horror,Thriller</td>\n",
       "      <td>5.4</td>\n",
       "      <td>nm5792320</td>\n",
       "      <td>Jordan Reyes</td>\n",
       "      <td>director,cinematographer,composer</td>\n",
       "      <td>Horror</td>\n",
       "    </tr>\n",
       "    <tr>\n",
       "      <th>2925</th>\n",
       "      <td>Sep 29, 2015</td>\n",
       "      <td>A Plague So Pleasant</td>\n",
       "      <td>1400</td>\n",
       "      <td>0</td>\n",
       "      <td>0</td>\n",
       "      <td>-1400</td>\n",
       "      <td>tt2107644</td>\n",
       "      <td>A Plague So Pleasant</td>\n",
       "      <td>Drama,Horror,Thriller</td>\n",
       "      <td>5.4</td>\n",
       "      <td>nm5792320</td>\n",
       "      <td>Jordan Reyes</td>\n",
       "      <td>director,cinematographer,composer</td>\n",
       "      <td>Thriller</td>\n",
       "    </tr>\n",
       "  </tbody>\n",
       "</table>\n",
       "<p>6626 rows × 14 columns</p>\n",
       "</div>"
      ],
      "text/plain": [
       "      release_date                                        movie  \\\n",
       "0     May 20, 2011  Pirates of the Caribbean: On Stranger Tides   \n",
       "0     May 20, 2011  Pirates of the Caribbean: On Stranger Tides   \n",
       "0     May 20, 2011  Pirates of the Caribbean: On Stranger Tides   \n",
       "1      Jun 7, 2019                                 Dark Phoenix   \n",
       "1      Jun 7, 2019                                 Dark Phoenix   \n",
       "...            ...                                          ...   \n",
       "2924  Sep 29, 2015                         A Plague So Pleasant   \n",
       "2924  Sep 29, 2015                         A Plague So Pleasant   \n",
       "2925  Sep 29, 2015                         A Plague So Pleasant   \n",
       "2925  Sep 29, 2015                         A Plague So Pleasant   \n",
       "2925  Sep 29, 2015                         A Plague So Pleasant   \n",
       "\n",
       "      production_budget  domestic_gross  worldwide_gross  net_profit  \\\n",
       "0             410600000       241063875       1045663875   635063875   \n",
       "0             410600000       241063875       1045663875   635063875   \n",
       "0             410600000       241063875       1045663875   635063875   \n",
       "1             350000000        42762350        149762350  -200237650   \n",
       "1             350000000        42762350        149762350  -200237650   \n",
       "...                 ...             ...              ...         ...   \n",
       "2924               1400               0                0       -1400   \n",
       "2924               1400               0                0       -1400   \n",
       "2925               1400               0                0       -1400   \n",
       "2925               1400               0                0       -1400   \n",
       "2925               1400               0                0       -1400   \n",
       "\n",
       "       movie_id                                primary_title  \\\n",
       "0     tt1298650  Pirates of the Caribbean: On Stranger Tides   \n",
       "0     tt1298650  Pirates of the Caribbean: On Stranger Tides   \n",
       "0     tt1298650  Pirates of the Caribbean: On Stranger Tides   \n",
       "1     tt6565702                                 Dark Phoenix   \n",
       "1     tt6565702                                 Dark Phoenix   \n",
       "...         ...                                          ...   \n",
       "2924  tt2107644                         A Plague So Pleasant   \n",
       "2924  tt2107644                         A Plague So Pleasant   \n",
       "2925  tt2107644                         A Plague So Pleasant   \n",
       "2925  tt2107644                         A Plague So Pleasant   \n",
       "2925  tt2107644                         A Plague So Pleasant   \n",
       "\n",
       "                        genres  averagerating  person_id      primary_name  \\\n",
       "0     Action,Adventure,Fantasy            6.6  nm0551128      Rob Marshall   \n",
       "0     Action,Adventure,Fantasy            6.6  nm0551128      Rob Marshall   \n",
       "0     Action,Adventure,Fantasy            6.6  nm0551128      Rob Marshall   \n",
       "1      Action,Adventure,Sci-Fi            6.0  nm1334526     Simon Kinberg   \n",
       "1      Action,Adventure,Sci-Fi            6.0  nm1334526     Simon Kinberg   \n",
       "...                        ...            ...        ...               ...   \n",
       "2924     Drama,Horror,Thriller            5.4  nm4766951  Benjamin Roberds   \n",
       "2924     Drama,Horror,Thriller            5.4  nm4766951  Benjamin Roberds   \n",
       "2925     Drama,Horror,Thriller            5.4  nm5792320      Jordan Reyes   \n",
       "2925     Drama,Horror,Thriller            5.4  nm5792320      Jordan Reyes   \n",
       "2925     Drama,Horror,Thriller            5.4  nm5792320      Jordan Reyes   \n",
       "\n",
       "                     primary_profession genre_list  \n",
       "0       director,miscellaneous,producer     Action  \n",
       "0       director,miscellaneous,producer  Adventure  \n",
       "0       director,miscellaneous,producer    Fantasy  \n",
       "1              producer,writer,director     Action  \n",
       "1              producer,writer,director  Adventure  \n",
       "...                                 ...        ...  \n",
       "2924  camera_department,director,writer     Horror  \n",
       "2924  camera_department,director,writer   Thriller  \n",
       "2925  director,cinematographer,composer      Drama  \n",
       "2925  director,cinematographer,composer     Horror  \n",
       "2925  director,cinematographer,composer   Thriller  \n",
       "\n",
       "[6626 rows x 14 columns]"
      ]
     },
     "execution_count": 624,
     "metadata": {},
     "output_type": "execute_result"
    }
   ],
   "source": [
    "#This code is actually exploding the column\n",
    "genre_df = all_df.explode('genre_list')\n",
    "genre_df"
   ]
  },
  {
   "cell_type": "markdown",
   "metadata": {},
   "source": [
    "Running `genre_df.shape` to look at the size of genre_df after exploding the column. I'm expecting there to be more rows, but not sure how many more rows there will be."
   ]
  },
  {
   "cell_type": "code",
   "execution_count": 625,
   "metadata": {},
   "outputs": [
    {
     "data": {
      "text/plain": [
       "(6626, 14)"
      ]
     },
     "execution_count": 625,
     "metadata": {},
     "output_type": "execute_result"
    }
   ],
   "source": [
    "genre_df.shape"
   ]
  },
  {
   "cell_type": "markdown",
   "metadata": {},
   "source": [
    "Now that I've exploded the column, I'm going to group by the new column I created, genre_list and see how it looks."
   ]
  },
  {
   "cell_type": "code",
   "execution_count": 626,
   "metadata": {},
   "outputs": [
    {
     "data": {
      "text/html": [
       "<div>\n",
       "<style scoped>\n",
       "    .dataframe tbody tr th:only-of-type {\n",
       "        vertical-align: middle;\n",
       "    }\n",
       "\n",
       "    .dataframe tbody tr th {\n",
       "        vertical-align: top;\n",
       "    }\n",
       "\n",
       "    .dataframe thead th {\n",
       "        text-align: right;\n",
       "    }\n",
       "</style>\n",
       "<table border=\"1\" class=\"dataframe\">\n",
       "  <thead>\n",
       "    <tr style=\"text-align: right;\">\n",
       "      <th></th>\n",
       "      <th>production_budget</th>\n",
       "      <th>domestic_gross</th>\n",
       "      <th>worldwide_gross</th>\n",
       "      <th>net_profit</th>\n",
       "      <th>averagerating</th>\n",
       "    </tr>\n",
       "    <tr>\n",
       "      <th>genre_list</th>\n",
       "      <th></th>\n",
       "      <th></th>\n",
       "      <th></th>\n",
       "      <th></th>\n",
       "      <th></th>\n",
       "    </tr>\n",
       "  </thead>\n",
       "  <tbody>\n",
       "    <tr>\n",
       "      <th>Action</th>\n",
       "      <td>6.520784e+07</td>\n",
       "      <td>7.100792e+07</td>\n",
       "      <td>1.914358e+08</td>\n",
       "      <td>1.262279e+08</td>\n",
       "      <td>6.092846</td>\n",
       "    </tr>\n",
       "    <tr>\n",
       "      <th>Adventure</th>\n",
       "      <td>9.149106e+07</td>\n",
       "      <td>1.129002e+08</td>\n",
       "      <td>3.190709e+08</td>\n",
       "      <td>2.275798e+08</td>\n",
       "      <td>6.445279</td>\n",
       "    </tr>\n",
       "    <tr>\n",
       "      <th>Animation</th>\n",
       "      <td>9.021278e+07</td>\n",
       "      <td>1.299202e+08</td>\n",
       "      <td>3.617968e+08</td>\n",
       "      <td>2.715840e+08</td>\n",
       "      <td>6.578075</td>\n",
       "    </tr>\n",
       "    <tr>\n",
       "      <th>Biography</th>\n",
       "      <td>2.516452e+07</td>\n",
       "      <td>3.391904e+07</td>\n",
       "      <td>7.106064e+07</td>\n",
       "      <td>4.589612e+07</td>\n",
       "      <td>6.964532</td>\n",
       "    </tr>\n",
       "    <tr>\n",
       "      <th>Comedy</th>\n",
       "      <td>3.701738e+07</td>\n",
       "      <td>5.390026e+07</td>\n",
       "      <td>1.263488e+08</td>\n",
       "      <td>8.933147e+07</td>\n",
       "      <td>6.222262</td>\n",
       "    </tr>\n",
       "    <tr>\n",
       "      <th>Crime</th>\n",
       "      <td>2.757477e+07</td>\n",
       "      <td>3.090965e+07</td>\n",
       "      <td>6.470325e+07</td>\n",
       "      <td>3.712847e+07</td>\n",
       "      <td>6.272853</td>\n",
       "    </tr>\n",
       "    <tr>\n",
       "      <th>Documentary</th>\n",
       "      <td>2.116034e+07</td>\n",
       "      <td>2.879078e+07</td>\n",
       "      <td>5.583860e+07</td>\n",
       "      <td>3.467826e+07</td>\n",
       "      <td>7.123581</td>\n",
       "    </tr>\n",
       "    <tr>\n",
       "      <th>Drama</th>\n",
       "      <td>2.339591e+07</td>\n",
       "      <td>2.849717e+07</td>\n",
       "      <td>6.158694e+07</td>\n",
       "      <td>3.819103e+07</td>\n",
       "      <td>6.435218</td>\n",
       "    </tr>\n",
       "    <tr>\n",
       "      <th>Family</th>\n",
       "      <td>5.154597e+07</td>\n",
       "      <td>6.800699e+07</td>\n",
       "      <td>1.617423e+08</td>\n",
       "      <td>1.101963e+08</td>\n",
       "      <td>6.230405</td>\n",
       "    </tr>\n",
       "    <tr>\n",
       "      <th>Fantasy</th>\n",
       "      <td>7.022444e+07</td>\n",
       "      <td>7.202718e+07</td>\n",
       "      <td>2.044226e+08</td>\n",
       "      <td>1.341981e+08</td>\n",
       "      <td>6.012281</td>\n",
       "    </tr>\n",
       "    <tr>\n",
       "      <th>History</th>\n",
       "      <td>3.284791e+07</td>\n",
       "      <td>3.574846e+07</td>\n",
       "      <td>7.267551e+07</td>\n",
       "      <td>3.982760e+07</td>\n",
       "      <td>6.725373</td>\n",
       "    </tr>\n",
       "    <tr>\n",
       "      <th>Horror</th>\n",
       "      <td>1.744721e+07</td>\n",
       "      <td>2.618406e+07</td>\n",
       "      <td>5.696093e+07</td>\n",
       "      <td>3.951372e+07</td>\n",
       "      <td>5.370694</td>\n",
       "    </tr>\n",
       "    <tr>\n",
       "      <th>Music</th>\n",
       "      <td>1.464566e+07</td>\n",
       "      <td>2.624963e+07</td>\n",
       "      <td>5.434438e+07</td>\n",
       "      <td>3.969872e+07</td>\n",
       "      <td>6.484211</td>\n",
       "    </tr>\n",
       "    <tr>\n",
       "      <th>Musical</th>\n",
       "      <td>3.524762e+07</td>\n",
       "      <td>8.030784e+07</td>\n",
       "      <td>1.827311e+08</td>\n",
       "      <td>1.474834e+08</td>\n",
       "      <td>6.576190</td>\n",
       "    </tr>\n",
       "    <tr>\n",
       "      <th>Mystery</th>\n",
       "      <td>2.228480e+07</td>\n",
       "      <td>3.166223e+07</td>\n",
       "      <td>7.120497e+07</td>\n",
       "      <td>4.892017e+07</td>\n",
       "      <td>5.964444</td>\n",
       "    </tr>\n",
       "    <tr>\n",
       "      <th>News</th>\n",
       "      <td>2.420000e+07</td>\n",
       "      <td>1.430805e+07</td>\n",
       "      <td>4.204912e+07</td>\n",
       "      <td>1.784912e+07</td>\n",
       "      <td>6.600000</td>\n",
       "    </tr>\n",
       "    <tr>\n",
       "      <th>Romance</th>\n",
       "      <td>1.932001e+07</td>\n",
       "      <td>2.535957e+07</td>\n",
       "      <td>5.363237e+07</td>\n",
       "      <td>3.431236e+07</td>\n",
       "      <td>6.282000</td>\n",
       "    </tr>\n",
       "    <tr>\n",
       "      <th>Sci-Fi</th>\n",
       "      <td>7.220987e+07</td>\n",
       "      <td>9.514502e+07</td>\n",
       "      <td>2.595184e+08</td>\n",
       "      <td>1.873085e+08</td>\n",
       "      <td>6.168293</td>\n",
       "    </tr>\n",
       "    <tr>\n",
       "      <th>Sport</th>\n",
       "      <td>2.532873e+07</td>\n",
       "      <td>4.372116e+07</td>\n",
       "      <td>8.525560e+07</td>\n",
       "      <td>5.992687e+07</td>\n",
       "      <td>6.662687</td>\n",
       "    </tr>\n",
       "    <tr>\n",
       "      <th>Thriller</th>\n",
       "      <td>2.596320e+07</td>\n",
       "      <td>3.137183e+07</td>\n",
       "      <td>7.612061e+07</td>\n",
       "      <td>5.015741e+07</td>\n",
       "      <td>5.803307</td>\n",
       "    </tr>\n",
       "    <tr>\n",
       "      <th>War</th>\n",
       "      <td>2.149697e+07</td>\n",
       "      <td>1.932772e+07</td>\n",
       "      <td>4.365218e+07</td>\n",
       "      <td>2.215521e+07</td>\n",
       "      <td>6.515152</td>\n",
       "    </tr>\n",
       "    <tr>\n",
       "      <th>Western</th>\n",
       "      <td>4.380000e+07</td>\n",
       "      <td>4.302753e+07</td>\n",
       "      <td>8.224096e+07</td>\n",
       "      <td>3.844096e+07</td>\n",
       "      <td>6.500000</td>\n",
       "    </tr>\n",
       "  </tbody>\n",
       "</table>\n",
       "</div>"
      ],
      "text/plain": [
       "             production_budget  domestic_gross  worldwide_gross    net_profit  \\\n",
       "genre_list                                                                      \n",
       "Action            6.520784e+07    7.100792e+07     1.914358e+08  1.262279e+08   \n",
       "Adventure         9.149106e+07    1.129002e+08     3.190709e+08  2.275798e+08   \n",
       "Animation         9.021278e+07    1.299202e+08     3.617968e+08  2.715840e+08   \n",
       "Biography         2.516452e+07    3.391904e+07     7.106064e+07  4.589612e+07   \n",
       "Comedy            3.701738e+07    5.390026e+07     1.263488e+08  8.933147e+07   \n",
       "Crime             2.757477e+07    3.090965e+07     6.470325e+07  3.712847e+07   \n",
       "Documentary       2.116034e+07    2.879078e+07     5.583860e+07  3.467826e+07   \n",
       "Drama             2.339591e+07    2.849717e+07     6.158694e+07  3.819103e+07   \n",
       "Family            5.154597e+07    6.800699e+07     1.617423e+08  1.101963e+08   \n",
       "Fantasy           7.022444e+07    7.202718e+07     2.044226e+08  1.341981e+08   \n",
       "History           3.284791e+07    3.574846e+07     7.267551e+07  3.982760e+07   \n",
       "Horror            1.744721e+07    2.618406e+07     5.696093e+07  3.951372e+07   \n",
       "Music             1.464566e+07    2.624963e+07     5.434438e+07  3.969872e+07   \n",
       "Musical           3.524762e+07    8.030784e+07     1.827311e+08  1.474834e+08   \n",
       "Mystery           2.228480e+07    3.166223e+07     7.120497e+07  4.892017e+07   \n",
       "News              2.420000e+07    1.430805e+07     4.204912e+07  1.784912e+07   \n",
       "Romance           1.932001e+07    2.535957e+07     5.363237e+07  3.431236e+07   \n",
       "Sci-Fi            7.220987e+07    9.514502e+07     2.595184e+08  1.873085e+08   \n",
       "Sport             2.532873e+07    4.372116e+07     8.525560e+07  5.992687e+07   \n",
       "Thriller          2.596320e+07    3.137183e+07     7.612061e+07  5.015741e+07   \n",
       "War               2.149697e+07    1.932772e+07     4.365218e+07  2.215521e+07   \n",
       "Western           4.380000e+07    4.302753e+07     8.224096e+07  3.844096e+07   \n",
       "\n",
       "             averagerating  \n",
       "genre_list                  \n",
       "Action            6.092846  \n",
       "Adventure         6.445279  \n",
       "Animation         6.578075  \n",
       "Biography         6.964532  \n",
       "Comedy            6.222262  \n",
       "Crime             6.272853  \n",
       "Documentary       7.123581  \n",
       "Drama             6.435218  \n",
       "Family            6.230405  \n",
       "Fantasy           6.012281  \n",
       "History           6.725373  \n",
       "Horror            5.370694  \n",
       "Music             6.484211  \n",
       "Musical           6.576190  \n",
       "Mystery           5.964444  \n",
       "News              6.600000  \n",
       "Romance           6.282000  \n",
       "Sci-Fi            6.168293  \n",
       "Sport             6.662687  \n",
       "Thriller          5.803307  \n",
       "War               6.515152  \n",
       "Western           6.500000  "
      ]
     },
     "execution_count": 626,
     "metadata": {},
     "output_type": "execute_result"
    }
   ],
   "source": [
    "genre_df.groupby('genre_list').mean()"
   ]
  },
  {
   "cell_type": "markdown",
   "metadata": {},
   "source": [
    "I'm seeing all of the possible genres, not seeing any duplicates in my group by, and I'm also noticing that most genres have an average rating between 5 and 6."
   ]
  },
  {
   "cell_type": "code",
   "execution_count": 627,
   "metadata": {},
   "outputs": [
    {
     "data": {
      "text/html": [
       "<div>\n",
       "<style scoped>\n",
       "    .dataframe tbody tr th:only-of-type {\n",
       "        vertical-align: middle;\n",
       "    }\n",
       "\n",
       "    .dataframe tbody tr th {\n",
       "        vertical-align: top;\n",
       "    }\n",
       "\n",
       "    .dataframe thead th {\n",
       "        text-align: right;\n",
       "    }\n",
       "</style>\n",
       "<table border=\"1\" class=\"dataframe\">\n",
       "  <thead>\n",
       "    <tr style=\"text-align: right;\">\n",
       "      <th></th>\n",
       "      <th>production_budget</th>\n",
       "      <th>domestic_gross</th>\n",
       "      <th>worldwide_gross</th>\n",
       "      <th>net_profit</th>\n",
       "      <th>averagerating</th>\n",
       "    </tr>\n",
       "    <tr>\n",
       "      <th>genre_list</th>\n",
       "      <th></th>\n",
       "      <th></th>\n",
       "      <th></th>\n",
       "      <th></th>\n",
       "      <th></th>\n",
       "    </tr>\n",
       "  </thead>\n",
       "  <tbody>\n",
       "    <tr>\n",
       "      <th>Action</th>\n",
       "      <td>42841550000</td>\n",
       "      <td>46652204443</td>\n",
       "      <td>125773296714</td>\n",
       "      <td>82931746714</td>\n",
       "      <td>4003.0</td>\n",
       "    </tr>\n",
       "    <tr>\n",
       "      <th>Adventure</th>\n",
       "      <td>47483859106</td>\n",
       "      <td>58595200071</td>\n",
       "      <td>165597787972</td>\n",
       "      <td>118113928866</td>\n",
       "      <td>3345.1</td>\n",
       "    </tr>\n",
       "    <tr>\n",
       "      <th>Animation</th>\n",
       "      <td>16869789247</td>\n",
       "      <td>24295069907</td>\n",
       "      <td>67656001513</td>\n",
       "      <td>50786212266</td>\n",
       "      <td>1230.1</td>\n",
       "    </tr>\n",
       "    <tr>\n",
       "      <th>Biography</th>\n",
       "      <td>5108398479</td>\n",
       "      <td>6885564697</td>\n",
       "      <td>14425309905</td>\n",
       "      <td>9316911426</td>\n",
       "      <td>1413.8</td>\n",
       "    </tr>\n",
       "    <tr>\n",
       "      <th>Comedy</th>\n",
       "      <td>30761442173</td>\n",
       "      <td>44791115183</td>\n",
       "      <td>104995890592</td>\n",
       "      <td>74234448419</td>\n",
       "      <td>5170.7</td>\n",
       "    </tr>\n",
       "    <tr>\n",
       "      <th>Crime</th>\n",
       "      <td>9954493373</td>\n",
       "      <td>11158382593</td>\n",
       "      <td>23357871468</td>\n",
       "      <td>13403378095</td>\n",
       "      <td>2264.5</td>\n",
       "    </tr>\n",
       "    <tr>\n",
       "      <th>Documentary</th>\n",
       "      <td>4845718353</td>\n",
       "      <td>6593089242</td>\n",
       "      <td>12787039796</td>\n",
       "      <td>7941321443</td>\n",
       "      <td>1631.3</td>\n",
       "    </tr>\n",
       "    <tr>\n",
       "      <th>Drama</th>\n",
       "      <td>32684091869</td>\n",
       "      <td>39810552347</td>\n",
       "      <td>86036958559</td>\n",
       "      <td>53352866690</td>\n",
       "      <td>8990.0</td>\n",
       "    </tr>\n",
       "    <tr>\n",
       "      <th>Family</th>\n",
       "      <td>7628803494</td>\n",
       "      <td>10065034636</td>\n",
       "      <td>23937861444</td>\n",
       "      <td>16309057950</td>\n",
       "      <td>922.1</td>\n",
       "    </tr>\n",
       "    <tr>\n",
       "      <th>Fantasy</th>\n",
       "      <td>12008378494</td>\n",
       "      <td>12316647500</td>\n",
       "      <td>34956259779</td>\n",
       "      <td>22947881285</td>\n",
       "      <td>1028.1</td>\n",
       "    </tr>\n",
       "    <tr>\n",
       "      <th>History</th>\n",
       "      <td>2200810000</td>\n",
       "      <td>2395147115</td>\n",
       "      <td>4869259411</td>\n",
       "      <td>2668449411</td>\n",
       "      <td>450.6</td>\n",
       "    </tr>\n",
       "    <tr>\n",
       "      <th>Horror</th>\n",
       "      <td>6786963473</td>\n",
       "      <td>10185601034</td>\n",
       "      <td>22157800969</td>\n",
       "      <td>15370837496</td>\n",
       "      <td>2089.2</td>\n",
       "    </tr>\n",
       "    <tr>\n",
       "      <th>Music</th>\n",
       "      <td>1113070000</td>\n",
       "      <td>1994971814</td>\n",
       "      <td>4130172520</td>\n",
       "      <td>3017102520</td>\n",
       "      <td>492.8</td>\n",
       "    </tr>\n",
       "    <tr>\n",
       "      <th>Musical</th>\n",
       "      <td>740200000</td>\n",
       "      <td>1686464614</td>\n",
       "      <td>3837352373</td>\n",
       "      <td>3097152373</td>\n",
       "      <td>138.1</td>\n",
       "    </tr>\n",
       "    <tr>\n",
       "      <th>Mystery</th>\n",
       "      <td>5014080023</td>\n",
       "      <td>7124002067</td>\n",
       "      <td>16021119030</td>\n",
       "      <td>11007039007</td>\n",
       "      <td>1342.0</td>\n",
       "    </tr>\n",
       "    <tr>\n",
       "      <th>News</th>\n",
       "      <td>72600000</td>\n",
       "      <td>42924139</td>\n",
       "      <td>126147368</td>\n",
       "      <td>53547368</td>\n",
       "      <td>19.8</td>\n",
       "    </tr>\n",
       "    <tr>\n",
       "      <th>Romance</th>\n",
       "      <td>5796002000</td>\n",
       "      <td>7607870929</td>\n",
       "      <td>16089710246</td>\n",
       "      <td>10293708246</td>\n",
       "      <td>1884.6</td>\n",
       "    </tr>\n",
       "    <tr>\n",
       "      <th>Sci-Fi</th>\n",
       "      <td>14803024373</td>\n",
       "      <td>19504728124</td>\n",
       "      <td>53201267889</td>\n",
       "      <td>38398243516</td>\n",
       "      <td>1264.5</td>\n",
       "    </tr>\n",
       "    <tr>\n",
       "      <th>Sport</th>\n",
       "      <td>1697025000</td>\n",
       "      <td>2929318019</td>\n",
       "      <td>5712125121</td>\n",
       "      <td>4015100121</td>\n",
       "      <td>446.4</td>\n",
       "    </tr>\n",
       "    <tr>\n",
       "      <th>Thriller</th>\n",
       "      <td>13345084773</td>\n",
       "      <td>16125122827</td>\n",
       "      <td>39125994730</td>\n",
       "      <td>25780909957</td>\n",
       "      <td>2982.9</td>\n",
       "    </tr>\n",
       "    <tr>\n",
       "      <th>War</th>\n",
       "      <td>709400000</td>\n",
       "      <td>637814874</td>\n",
       "      <td>1440521891</td>\n",
       "      <td>731121891</td>\n",
       "      <td>215.0</td>\n",
       "    </tr>\n",
       "    <tr>\n",
       "      <th>Western</th>\n",
       "      <td>788400000</td>\n",
       "      <td>774495565</td>\n",
       "      <td>1480337341</td>\n",
       "      <td>691937341</td>\n",
       "      <td>117.0</td>\n",
       "    </tr>\n",
       "  </tbody>\n",
       "</table>\n",
       "</div>"
      ],
      "text/plain": [
       "             production_budget  domestic_gross  worldwide_gross    net_profit  \\\n",
       "genre_list                                                                      \n",
       "Action             42841550000     46652204443     125773296714   82931746714   \n",
       "Adventure          47483859106     58595200071     165597787972  118113928866   \n",
       "Animation          16869789247     24295069907      67656001513   50786212266   \n",
       "Biography           5108398479      6885564697      14425309905    9316911426   \n",
       "Comedy             30761442173     44791115183     104995890592   74234448419   \n",
       "Crime               9954493373     11158382593      23357871468   13403378095   \n",
       "Documentary         4845718353      6593089242      12787039796    7941321443   \n",
       "Drama              32684091869     39810552347      86036958559   53352866690   \n",
       "Family              7628803494     10065034636      23937861444   16309057950   \n",
       "Fantasy            12008378494     12316647500      34956259779   22947881285   \n",
       "History             2200810000      2395147115       4869259411    2668449411   \n",
       "Horror              6786963473     10185601034      22157800969   15370837496   \n",
       "Music               1113070000      1994971814       4130172520    3017102520   \n",
       "Musical              740200000      1686464614       3837352373    3097152373   \n",
       "Mystery             5014080023      7124002067      16021119030   11007039007   \n",
       "News                  72600000        42924139        126147368      53547368   \n",
       "Romance             5796002000      7607870929      16089710246   10293708246   \n",
       "Sci-Fi             14803024373     19504728124      53201267889   38398243516   \n",
       "Sport               1697025000      2929318019       5712125121    4015100121   \n",
       "Thriller           13345084773     16125122827      39125994730   25780909957   \n",
       "War                  709400000       637814874       1440521891     731121891   \n",
       "Western              788400000       774495565       1480337341     691937341   \n",
       "\n",
       "             averagerating  \n",
       "genre_list                  \n",
       "Action              4003.0  \n",
       "Adventure           3345.1  \n",
       "Animation           1230.1  \n",
       "Biography           1413.8  \n",
       "Comedy              5170.7  \n",
       "Crime               2264.5  \n",
       "Documentary         1631.3  \n",
       "Drama               8990.0  \n",
       "Family               922.1  \n",
       "Fantasy             1028.1  \n",
       "History              450.6  \n",
       "Horror              2089.2  \n",
       "Music                492.8  \n",
       "Musical              138.1  \n",
       "Mystery             1342.0  \n",
       "News                  19.8  \n",
       "Romance             1884.6  \n",
       "Sci-Fi              1264.5  \n",
       "Sport                446.4  \n",
       "Thriller            2982.9  \n",
       "War                  215.0  \n",
       "Western              117.0  "
      ]
     },
     "execution_count": 627,
     "metadata": {},
     "output_type": "execute_result"
    }
   ],
   "source": [
    "genre_df.groupby('genre_list').sum()"
   ]
  },
  {
   "cell_type": "markdown",
   "metadata": {},
   "source": [
    "A sum isn't the most useful calculation to use for genres, especially when you look at the average rating column, but it can be useful to see which genres have cost the most or earned the most over time."
   ]
  },
  {
   "cell_type": "markdown",
   "metadata": {},
   "source": [
    "***"
   ]
  },
  {
   "cell_type": "markdown",
   "metadata": {},
   "source": [
    "## Data Modeling"
   ]
  },
  {
   "cell_type": "markdown",
   "metadata": {},
   "source": [
    "Below I'm creating a function to print the mean, median, and mode of a particular column in the DataFrame. The first column I'm going to look at is production_budget."
   ]
  },
  {
   "cell_type": "code",
   "execution_count": 628,
   "metadata": {},
   "outputs": [
    {
     "name": "stdout",
     "output_type": "stream",
     "text": [
      "Mean:                   35438771.45762133\n",
      "Median:                 17000000.0\n",
      "Standard Deviation:     48804847.08200543\n"
     ]
    }
   ],
   "source": [
    "def print_stats(df, column):\n",
    "    print(\"Mean:                  \", df[column].mean())\n",
    "    print(\"Median:                \", df[column].median())\n",
    "    print(\"Standard Deviation:    \", df[column].std())\n",
    "    \n",
    "print_stats(all_df, 'production_budget')"
   ]
  },
  {
   "cell_type": "markdown",
   "metadata": {},
   "source": [
    "Above shows that the average production_budget is 35.44 million, with a standard deviation of 48.8 million. Given that, the movies in this DataFrame all usually have a production budget of less than 100 million.  "
   ]
  },
  {
   "cell_type": "markdown",
   "metadata": {},
   "source": [
    "I'm also going to take a look at the stats of the worldwide_gross and the net_profit column."
   ]
  },
  {
   "cell_type": "code",
   "execution_count": 629,
   "metadata": {},
   "outputs": [
    {
     "name": "stdout",
     "output_type": "stream",
     "text": [
      "Mean:                   109673685.8417635\n",
      "Median:                 31164747.0\n",
      "Standard Deviation:     211789110.58665237\n"
     ]
    }
   ],
   "source": [
    "print_stats(all_df, 'worldwide_gross')"
   ]
  },
  {
   "cell_type": "markdown",
   "metadata": {},
   "source": [
    "Average worldwide_gross being $107.95 million, while the median worldwide_gross is 31 million means that there are some movies that are outliers and have earned more in worldwide gross which is bringing up the average worldwide gross."
   ]
  },
  {
   "cell_type": "code",
   "execution_count": 630,
   "metadata": {},
   "outputs": [
    {
     "name": "stdout",
     "output_type": "stream",
     "text": [
      "Mean:                   74234914.38414218\n",
      "Median:                 11150716.5\n",
      "Standard Deviation:     176693162.59326306\n"
     ]
    }
   ],
   "source": [
    "print_stats(all_df, 'net_profit')"
   ]
  },
  {
   "cell_type": "markdown",
   "metadata": {},
   "source": [
    "The median of net profit is 11.15 million, which is definitely a lot but not what most top movies make. However, the average is 74.23 million. That means there are only a few movies that are really bringing the average of net profit up, especially considering the standard deviation."
   ]
  },
  {
   "cell_type": "markdown",
   "metadata": {},
   "source": [
    "Now, I want to know what field has the highest correlation to worldwide_gross."
   ]
  },
  {
   "cell_type": "code",
   "execution_count": 631,
   "metadata": {},
   "outputs": [
    {
     "name": "stdout",
     "output_type": "stream",
     "text": [
      "Most Positively Correlated Column: net_profit\n",
      "Maximum Correlation Value: 0.9846320729738934\n"
     ]
    }
   ],
   "source": [
    "correlation_prod = all_df.corr()['worldwide_gross'].sort_values()\n",
    "max_corr_value = correlation_prod.iloc[-2]\n",
    "max_corr_column = correlation_prod.index[-2]\n",
    "print(\"Most Positively Correlated Column:\", max_corr_column)\n",
    "print(\"Maximum Correlation Value:\", max_corr_value)"
   ]
  },
  {
   "cell_type": "markdown",
   "metadata": {},
   "source": [
    "Now that I know what field has the highest correlation, I also want to know what the minimum correlation is."
   ]
  },
  {
   "cell_type": "code",
   "execution_count": 632,
   "metadata": {},
   "outputs": [
    {
     "name": "stdout",
     "output_type": "stream",
     "text": [
      "Most Negatively Correlated Column: averagerating\n",
      "Minimum Correlation Value: 0.18182599237810665\n"
     ]
    }
   ],
   "source": [
    "correlation_prod = all_df.corr()['worldwide_gross'].sort_values()\n",
    "min_corr_value = correlation_prod.iloc[0]\n",
    "min_corr_column = correlation_prod.index[0]\n",
    "print(\"Most Negatively Correlated Column:\", min_corr_column)\n",
    "print(\"Minimum Correlation Value:\", min_corr_value)"
   ]
  },
  {
   "cell_type": "markdown",
   "metadata": {},
   "source": [
    "### Genre Groupby and Plotting"
   ]
  },
  {
   "cell_type": "markdown",
   "metadata": {},
   "source": [
    "To start, I'm going to look at the genre_df DataFrame."
   ]
  },
  {
   "cell_type": "code",
   "execution_count": 633,
   "metadata": {},
   "outputs": [
    {
     "data": {
      "text/html": [
       "<div>\n",
       "<style scoped>\n",
       "    .dataframe tbody tr th:only-of-type {\n",
       "        vertical-align: middle;\n",
       "    }\n",
       "\n",
       "    .dataframe tbody tr th {\n",
       "        vertical-align: top;\n",
       "    }\n",
       "\n",
       "    .dataframe thead th {\n",
       "        text-align: right;\n",
       "    }\n",
       "</style>\n",
       "<table border=\"1\" class=\"dataframe\">\n",
       "  <thead>\n",
       "    <tr style=\"text-align: right;\">\n",
       "      <th></th>\n",
       "      <th>release_date</th>\n",
       "      <th>movie</th>\n",
       "      <th>production_budget</th>\n",
       "      <th>domestic_gross</th>\n",
       "      <th>worldwide_gross</th>\n",
       "      <th>net_profit</th>\n",
       "      <th>movie_id</th>\n",
       "      <th>primary_title</th>\n",
       "      <th>genres</th>\n",
       "      <th>averagerating</th>\n",
       "      <th>person_id</th>\n",
       "      <th>primary_name</th>\n",
       "      <th>primary_profession</th>\n",
       "      <th>genre_list</th>\n",
       "    </tr>\n",
       "  </thead>\n",
       "  <tbody>\n",
       "    <tr>\n",
       "      <th>0</th>\n",
       "      <td>May 20, 2011</td>\n",
       "      <td>Pirates of the Caribbean: On Stranger Tides</td>\n",
       "      <td>410600000</td>\n",
       "      <td>241063875</td>\n",
       "      <td>1045663875</td>\n",
       "      <td>635063875</td>\n",
       "      <td>tt1298650</td>\n",
       "      <td>Pirates of the Caribbean: On Stranger Tides</td>\n",
       "      <td>Action,Adventure,Fantasy</td>\n",
       "      <td>6.6</td>\n",
       "      <td>nm0551128</td>\n",
       "      <td>Rob Marshall</td>\n",
       "      <td>director,miscellaneous,producer</td>\n",
       "      <td>Action</td>\n",
       "    </tr>\n",
       "    <tr>\n",
       "      <th>0</th>\n",
       "      <td>May 20, 2011</td>\n",
       "      <td>Pirates of the Caribbean: On Stranger Tides</td>\n",
       "      <td>410600000</td>\n",
       "      <td>241063875</td>\n",
       "      <td>1045663875</td>\n",
       "      <td>635063875</td>\n",
       "      <td>tt1298650</td>\n",
       "      <td>Pirates of the Caribbean: On Stranger Tides</td>\n",
       "      <td>Action,Adventure,Fantasy</td>\n",
       "      <td>6.6</td>\n",
       "      <td>nm0551128</td>\n",
       "      <td>Rob Marshall</td>\n",
       "      <td>director,miscellaneous,producer</td>\n",
       "      <td>Adventure</td>\n",
       "    </tr>\n",
       "    <tr>\n",
       "      <th>0</th>\n",
       "      <td>May 20, 2011</td>\n",
       "      <td>Pirates of the Caribbean: On Stranger Tides</td>\n",
       "      <td>410600000</td>\n",
       "      <td>241063875</td>\n",
       "      <td>1045663875</td>\n",
       "      <td>635063875</td>\n",
       "      <td>tt1298650</td>\n",
       "      <td>Pirates of the Caribbean: On Stranger Tides</td>\n",
       "      <td>Action,Adventure,Fantasy</td>\n",
       "      <td>6.6</td>\n",
       "      <td>nm0551128</td>\n",
       "      <td>Rob Marshall</td>\n",
       "      <td>director,miscellaneous,producer</td>\n",
       "      <td>Fantasy</td>\n",
       "    </tr>\n",
       "    <tr>\n",
       "      <th>1</th>\n",
       "      <td>Jun 7, 2019</td>\n",
       "      <td>Dark Phoenix</td>\n",
       "      <td>350000000</td>\n",
       "      <td>42762350</td>\n",
       "      <td>149762350</td>\n",
       "      <td>-200237650</td>\n",
       "      <td>tt6565702</td>\n",
       "      <td>Dark Phoenix</td>\n",
       "      <td>Action,Adventure,Sci-Fi</td>\n",
       "      <td>6.0</td>\n",
       "      <td>nm1334526</td>\n",
       "      <td>Simon Kinberg</td>\n",
       "      <td>producer,writer,director</td>\n",
       "      <td>Action</td>\n",
       "    </tr>\n",
       "    <tr>\n",
       "      <th>1</th>\n",
       "      <td>Jun 7, 2019</td>\n",
       "      <td>Dark Phoenix</td>\n",
       "      <td>350000000</td>\n",
       "      <td>42762350</td>\n",
       "      <td>149762350</td>\n",
       "      <td>-200237650</td>\n",
       "      <td>tt6565702</td>\n",
       "      <td>Dark Phoenix</td>\n",
       "      <td>Action,Adventure,Sci-Fi</td>\n",
       "      <td>6.0</td>\n",
       "      <td>nm1334526</td>\n",
       "      <td>Simon Kinberg</td>\n",
       "      <td>producer,writer,director</td>\n",
       "      <td>Adventure</td>\n",
       "    </tr>\n",
       "  </tbody>\n",
       "</table>\n",
       "</div>"
      ],
      "text/plain": [
       "   release_date                                        movie  \\\n",
       "0  May 20, 2011  Pirates of the Caribbean: On Stranger Tides   \n",
       "0  May 20, 2011  Pirates of the Caribbean: On Stranger Tides   \n",
       "0  May 20, 2011  Pirates of the Caribbean: On Stranger Tides   \n",
       "1   Jun 7, 2019                                 Dark Phoenix   \n",
       "1   Jun 7, 2019                                 Dark Phoenix   \n",
       "\n",
       "   production_budget  domestic_gross  worldwide_gross  net_profit   movie_id  \\\n",
       "0          410600000       241063875       1045663875   635063875  tt1298650   \n",
       "0          410600000       241063875       1045663875   635063875  tt1298650   \n",
       "0          410600000       241063875       1045663875   635063875  tt1298650   \n",
       "1          350000000        42762350        149762350  -200237650  tt6565702   \n",
       "1          350000000        42762350        149762350  -200237650  tt6565702   \n",
       "\n",
       "                                 primary_title                    genres  \\\n",
       "0  Pirates of the Caribbean: On Stranger Tides  Action,Adventure,Fantasy   \n",
       "0  Pirates of the Caribbean: On Stranger Tides  Action,Adventure,Fantasy   \n",
       "0  Pirates of the Caribbean: On Stranger Tides  Action,Adventure,Fantasy   \n",
       "1                                 Dark Phoenix   Action,Adventure,Sci-Fi   \n",
       "1                                 Dark Phoenix   Action,Adventure,Sci-Fi   \n",
       "\n",
       "   averagerating  person_id   primary_name               primary_profession  \\\n",
       "0            6.6  nm0551128   Rob Marshall  director,miscellaneous,producer   \n",
       "0            6.6  nm0551128   Rob Marshall  director,miscellaneous,producer   \n",
       "0            6.6  nm0551128   Rob Marshall  director,miscellaneous,producer   \n",
       "1            6.0  nm1334526  Simon Kinberg         producer,writer,director   \n",
       "1            6.0  nm1334526  Simon Kinberg         producer,writer,director   \n",
       "\n",
       "  genre_list  \n",
       "0     Action  \n",
       "0  Adventure  \n",
       "0    Fantasy  \n",
       "1     Action  \n",
       "1  Adventure  "
      ]
     },
     "execution_count": 633,
     "metadata": {},
     "output_type": "execute_result"
    }
   ],
   "source": [
    "genre_df.head()"
   ]
  },
  {
   "cell_type": "code",
   "execution_count": 634,
   "metadata": {},
   "outputs": [
    {
     "data": {
      "text/plain": [
       "(6626, 14)"
      ]
     },
     "execution_count": 634,
     "metadata": {},
     "output_type": "execute_result"
    }
   ],
   "source": [
    "# Finding how big the DataFrame is\n",
    "genre_df.shape"
   ]
  },
  {
   "cell_type": "code",
   "execution_count": 635,
   "metadata": {},
   "outputs": [],
   "source": [
    "# Grouping genre_df by the genre_list column, getting an average, and creating a variable for the groupby\n",
    "genre_gby = genre_df.groupby(['genre_list']).agg('mean')"
   ]
  },
  {
   "cell_type": "code",
   "execution_count": 636,
   "metadata": {},
   "outputs": [],
   "source": [
    "# Making a new variable for genres that are sorted by net_profit\n",
    "genre_np = genre_gby.sort_values(['net_profit'], ascending=False).head(10)"
   ]
  },
  {
   "cell_type": "code",
   "execution_count": 637,
   "metadata": {},
   "outputs": [
    {
     "data": {
      "text/plain": [
       "Index(['Animation', 'Adventure', 'Sci-Fi', 'Musical', 'Fantasy', 'Action',\n",
       "       'Family', 'Comedy', 'Sport', 'Thriller'],\n",
       "      dtype='object', name='genre_list')"
      ]
     },
     "execution_count": 637,
     "metadata": {},
     "output_type": "execute_result"
    }
   ],
   "source": [
    "# Getting the index of genre_np\n",
    "genre_np.index"
   ]
  },
  {
   "cell_type": "code",
   "execution_count": 638,
   "metadata": {},
   "outputs": [
    {
     "data": {
      "text/html": [
       "<div>\n",
       "<style scoped>\n",
       "    .dataframe tbody tr th:only-of-type {\n",
       "        vertical-align: middle;\n",
       "    }\n",
       "\n",
       "    .dataframe tbody tr th {\n",
       "        vertical-align: top;\n",
       "    }\n",
       "\n",
       "    .dataframe thead th {\n",
       "        text-align: right;\n",
       "    }\n",
       "</style>\n",
       "<table border=\"1\" class=\"dataframe\">\n",
       "  <thead>\n",
       "    <tr style=\"text-align: right;\">\n",
       "      <th></th>\n",
       "      <th>production_budget</th>\n",
       "      <th>domestic_gross</th>\n",
       "      <th>worldwide_gross</th>\n",
       "      <th>net_profit</th>\n",
       "      <th>averagerating</th>\n",
       "    </tr>\n",
       "    <tr>\n",
       "      <th>genre_list</th>\n",
       "      <th></th>\n",
       "      <th></th>\n",
       "      <th></th>\n",
       "      <th></th>\n",
       "      <th></th>\n",
       "    </tr>\n",
       "  </thead>\n",
       "  <tbody>\n",
       "    <tr>\n",
       "      <th>Animation</th>\n",
       "      <td>9.021278e+07</td>\n",
       "      <td>1.299202e+08</td>\n",
       "      <td>3.617968e+08</td>\n",
       "      <td>2.715840e+08</td>\n",
       "      <td>6.578075</td>\n",
       "    </tr>\n",
       "    <tr>\n",
       "      <th>Adventure</th>\n",
       "      <td>9.149106e+07</td>\n",
       "      <td>1.129002e+08</td>\n",
       "      <td>3.190709e+08</td>\n",
       "      <td>2.275798e+08</td>\n",
       "      <td>6.445279</td>\n",
       "    </tr>\n",
       "    <tr>\n",
       "      <th>Sci-Fi</th>\n",
       "      <td>7.220987e+07</td>\n",
       "      <td>9.514502e+07</td>\n",
       "      <td>2.595184e+08</td>\n",
       "      <td>1.873085e+08</td>\n",
       "      <td>6.168293</td>\n",
       "    </tr>\n",
       "    <tr>\n",
       "      <th>Musical</th>\n",
       "      <td>3.524762e+07</td>\n",
       "      <td>8.030784e+07</td>\n",
       "      <td>1.827311e+08</td>\n",
       "      <td>1.474834e+08</td>\n",
       "      <td>6.576190</td>\n",
       "    </tr>\n",
       "    <tr>\n",
       "      <th>Fantasy</th>\n",
       "      <td>7.022444e+07</td>\n",
       "      <td>7.202718e+07</td>\n",
       "      <td>2.044226e+08</td>\n",
       "      <td>1.341981e+08</td>\n",
       "      <td>6.012281</td>\n",
       "    </tr>\n",
       "    <tr>\n",
       "      <th>Action</th>\n",
       "      <td>6.520784e+07</td>\n",
       "      <td>7.100792e+07</td>\n",
       "      <td>1.914358e+08</td>\n",
       "      <td>1.262279e+08</td>\n",
       "      <td>6.092846</td>\n",
       "    </tr>\n",
       "    <tr>\n",
       "      <th>Family</th>\n",
       "      <td>5.154597e+07</td>\n",
       "      <td>6.800699e+07</td>\n",
       "      <td>1.617423e+08</td>\n",
       "      <td>1.101963e+08</td>\n",
       "      <td>6.230405</td>\n",
       "    </tr>\n",
       "    <tr>\n",
       "      <th>Comedy</th>\n",
       "      <td>3.701738e+07</td>\n",
       "      <td>5.390026e+07</td>\n",
       "      <td>1.263488e+08</td>\n",
       "      <td>8.933147e+07</td>\n",
       "      <td>6.222262</td>\n",
       "    </tr>\n",
       "    <tr>\n",
       "      <th>Sport</th>\n",
       "      <td>2.532873e+07</td>\n",
       "      <td>4.372116e+07</td>\n",
       "      <td>8.525560e+07</td>\n",
       "      <td>5.992687e+07</td>\n",
       "      <td>6.662687</td>\n",
       "    </tr>\n",
       "    <tr>\n",
       "      <th>Thriller</th>\n",
       "      <td>2.596320e+07</td>\n",
       "      <td>3.137183e+07</td>\n",
       "      <td>7.612061e+07</td>\n",
       "      <td>5.015741e+07</td>\n",
       "      <td>5.803307</td>\n",
       "    </tr>\n",
       "  </tbody>\n",
       "</table>\n",
       "</div>"
      ],
      "text/plain": [
       "            production_budget  domestic_gross  worldwide_gross    net_profit  \\\n",
       "genre_list                                                                     \n",
       "Animation        9.021278e+07    1.299202e+08     3.617968e+08  2.715840e+08   \n",
       "Adventure        9.149106e+07    1.129002e+08     3.190709e+08  2.275798e+08   \n",
       "Sci-Fi           7.220987e+07    9.514502e+07     2.595184e+08  1.873085e+08   \n",
       "Musical          3.524762e+07    8.030784e+07     1.827311e+08  1.474834e+08   \n",
       "Fantasy          7.022444e+07    7.202718e+07     2.044226e+08  1.341981e+08   \n",
       "Action           6.520784e+07    7.100792e+07     1.914358e+08  1.262279e+08   \n",
       "Family           5.154597e+07    6.800699e+07     1.617423e+08  1.101963e+08   \n",
       "Comedy           3.701738e+07    5.390026e+07     1.263488e+08  8.933147e+07   \n",
       "Sport            2.532873e+07    4.372116e+07     8.525560e+07  5.992687e+07   \n",
       "Thriller         2.596320e+07    3.137183e+07     7.612061e+07  5.015741e+07   \n",
       "\n",
       "            averagerating  \n",
       "genre_list                 \n",
       "Animation        6.578075  \n",
       "Adventure        6.445279  \n",
       "Sci-Fi           6.168293  \n",
       "Musical          6.576190  \n",
       "Fantasy          6.012281  \n",
       "Action           6.092846  \n",
       "Family           6.230405  \n",
       "Comedy           6.222262  \n",
       "Sport            6.662687  \n",
       "Thriller         5.803307  "
      ]
     },
     "execution_count": 638,
     "metadata": {},
     "output_type": "execute_result"
    }
   ],
   "source": [
    "# Seeing what genre_np visually looks like\n",
    "genre_np"
   ]
  },
  {
   "cell_type": "markdown",
   "metadata": {},
   "source": [
    "Now that I've grouped my genres and sorted them by net profit, I want to plot them in a bar chart because it will be easiest to interpret."
   ]
  },
  {
   "cell_type": "code",
   "execution_count": 654,
   "metadata": {},
   "outputs": [
    {
     "data": {
      "text/plain": [
       "([<matplotlib.axis.XTick at 0x7fd548684e20>,\n",
       "  <matplotlib.axis.XTick at 0x7fd548684370>,\n",
       "  <matplotlib.axis.XTick at 0x7fd53eb1b730>,\n",
       "  <matplotlib.axis.XTick at 0x7fd548565d90>,\n",
       "  <matplotlib.axis.XTick at 0x7fd54856c2e0>,\n",
       "  <matplotlib.axis.XTick at 0x7fd54856c7f0>,\n",
       "  <matplotlib.axis.XTick at 0x7fd54856c940>,\n",
       "  <matplotlib.axis.XTick at 0x7fd54856cd00>,\n",
       "  <matplotlib.axis.XTick at 0x7fd54856d250>,\n",
       "  <matplotlib.axis.XTick at 0x7fd54856d760>],\n",
       " [Text(0, 0, 'Animation'),\n",
       "  Text(1, 0, 'Adventure'),\n",
       "  Text(2, 0, 'Sci-Fi'),\n",
       "  Text(3, 0, 'Musical'),\n",
       "  Text(4, 0, 'Fantasy'),\n",
       "  Text(5, 0, 'Action'),\n",
       "  Text(6, 0, 'Family'),\n",
       "  Text(7, 0, 'Comedy'),\n",
       "  Text(8, 0, 'Sport'),\n",
       "  Text(9, 0, 'Thriller')])"
      ]
     },
     "execution_count": 654,
     "metadata": {},
     "output_type": "execute_result"
    },
    {
     "data": {
      "image/png": "[encoded data removed]",
      "text/plain": [
       "<Figure size 864x720 with 1 Axes>"
      ]
     },
     "metadata": {
      "needs_background": "light"
     },
     "output_type": "display_data"
    }
   ],
   "source": [
    "# plotting genres by net_profit\n",
    "\n",
    "plt.figure(figsize=(12,10))\n",
    "\n",
    "genres = genre_np.index\n",
    "net_profit = genre_np.net_profit\n",
    "\n",
    "plt.bar(range(len(genres)), net_profit, color=['palevioletred', 'palevioletred', 'palevioletred', 'plum', 'plum', 'plum', 'plum', 'plum', 'plum', 'plum'])\n",
    "plt.title('Top 10 Genres by Net Profit', fontsize=26)\n",
    "plt.ylabel('Net Profit (in 100 Millions)', fontsize=20)\n",
    "plt.xlabel('Genres', fontsize=20)\n",
    "plt.xticks(range(len(genres)), genres, fontsize=14, rotation=15)"
   ]
  },
  {
   "cell_type": "code",
   "execution_count": 640,
   "metadata": {},
   "outputs": [],
   "source": [
    "# Creating a new variable and sorting by worldwide_gross\n",
    "genre_ww = genre_gby.sort_values(['worldwide_gross'], ascending=False).head(10)"
   ]
  },
  {
   "cell_type": "code",
   "execution_count": 641,
   "metadata": {},
   "outputs": [
    {
     "data": {
      "text/html": [
       "<div>\n",
       "<style scoped>\n",
       "    .dataframe tbody tr th:only-of-type {\n",
       "        vertical-align: middle;\n",
       "    }\n",
       "\n",
       "    .dataframe tbody tr th {\n",
       "        vertical-align: top;\n",
       "    }\n",
       "\n",
       "    .dataframe thead th {\n",
       "        text-align: right;\n",
       "    }\n",
       "</style>\n",
       "<table border=\"1\" class=\"dataframe\">\n",
       "  <thead>\n",
       "    <tr style=\"text-align: right;\">\n",
       "      <th></th>\n",
       "      <th>production_budget</th>\n",
       "      <th>domestic_gross</th>\n",
       "      <th>worldwide_gross</th>\n",
       "      <th>net_profit</th>\n",
       "      <th>averagerating</th>\n",
       "    </tr>\n",
       "    <tr>\n",
       "      <th>genre_list</th>\n",
       "      <th></th>\n",
       "      <th></th>\n",
       "      <th></th>\n",
       "      <th></th>\n",
       "      <th></th>\n",
       "    </tr>\n",
       "  </thead>\n",
       "  <tbody>\n",
       "    <tr>\n",
       "      <th>Animation</th>\n",
       "      <td>9.021278e+07</td>\n",
       "      <td>1.299202e+08</td>\n",
       "      <td>3.617968e+08</td>\n",
       "      <td>2.715840e+08</td>\n",
       "      <td>6.578075</td>\n",
       "    </tr>\n",
       "    <tr>\n",
       "      <th>Adventure</th>\n",
       "      <td>9.149106e+07</td>\n",
       "      <td>1.129002e+08</td>\n",
       "      <td>3.190709e+08</td>\n",
       "      <td>2.275798e+08</td>\n",
       "      <td>6.445279</td>\n",
       "    </tr>\n",
       "    <tr>\n",
       "      <th>Sci-Fi</th>\n",
       "      <td>7.220987e+07</td>\n",
       "      <td>9.514502e+07</td>\n",
       "      <td>2.595184e+08</td>\n",
       "      <td>1.873085e+08</td>\n",
       "      <td>6.168293</td>\n",
       "    </tr>\n",
       "    <tr>\n",
       "      <th>Fantasy</th>\n",
       "      <td>7.022444e+07</td>\n",
       "      <td>7.202718e+07</td>\n",
       "      <td>2.044226e+08</td>\n",
       "      <td>1.341981e+08</td>\n",
       "      <td>6.012281</td>\n",
       "    </tr>\n",
       "    <tr>\n",
       "      <th>Action</th>\n",
       "      <td>6.520784e+07</td>\n",
       "      <td>7.100792e+07</td>\n",
       "      <td>1.914358e+08</td>\n",
       "      <td>1.262279e+08</td>\n",
       "      <td>6.092846</td>\n",
       "    </tr>\n",
       "    <tr>\n",
       "      <th>Musical</th>\n",
       "      <td>3.524762e+07</td>\n",
       "      <td>8.030784e+07</td>\n",
       "      <td>1.827311e+08</td>\n",
       "      <td>1.474834e+08</td>\n",
       "      <td>6.576190</td>\n",
       "    </tr>\n",
       "    <tr>\n",
       "      <th>Family</th>\n",
       "      <td>5.154597e+07</td>\n",
       "      <td>6.800699e+07</td>\n",
       "      <td>1.617423e+08</td>\n",
       "      <td>1.101963e+08</td>\n",
       "      <td>6.230405</td>\n",
       "    </tr>\n",
       "    <tr>\n",
       "      <th>Comedy</th>\n",
       "      <td>3.701738e+07</td>\n",
       "      <td>5.390026e+07</td>\n",
       "      <td>1.263488e+08</td>\n",
       "      <td>8.933147e+07</td>\n",
       "      <td>6.222262</td>\n",
       "    </tr>\n",
       "    <tr>\n",
       "      <th>Sport</th>\n",
       "      <td>2.532873e+07</td>\n",
       "      <td>4.372116e+07</td>\n",
       "      <td>8.525560e+07</td>\n",
       "      <td>5.992687e+07</td>\n",
       "      <td>6.662687</td>\n",
       "    </tr>\n",
       "    <tr>\n",
       "      <th>Western</th>\n",
       "      <td>4.380000e+07</td>\n",
       "      <td>4.302753e+07</td>\n",
       "      <td>8.224096e+07</td>\n",
       "      <td>3.844096e+07</td>\n",
       "      <td>6.500000</td>\n",
       "    </tr>\n",
       "  </tbody>\n",
       "</table>\n",
       "</div>"
      ],
      "text/plain": [
       "            production_budget  domestic_gross  worldwide_gross    net_profit  \\\n",
       "genre_list                                                                     \n",
       "Animation        9.021278e+07    1.299202e+08     3.617968e+08  2.715840e+08   \n",
       "Adventure        9.149106e+07    1.129002e+08     3.190709e+08  2.275798e+08   \n",
       "Sci-Fi           7.220987e+07    9.514502e+07     2.595184e+08  1.873085e+08   \n",
       "Fantasy          7.022444e+07    7.202718e+07     2.044226e+08  1.341981e+08   \n",
       "Action           6.520784e+07    7.100792e+07     1.914358e+08  1.262279e+08   \n",
       "Musical          3.524762e+07    8.030784e+07     1.827311e+08  1.474834e+08   \n",
       "Family           5.154597e+07    6.800699e+07     1.617423e+08  1.101963e+08   \n",
       "Comedy           3.701738e+07    5.390026e+07     1.263488e+08  8.933147e+07   \n",
       "Sport            2.532873e+07    4.372116e+07     8.525560e+07  5.992687e+07   \n",
       "Western          4.380000e+07    4.302753e+07     8.224096e+07  3.844096e+07   \n",
       "\n",
       "            averagerating  \n",
       "genre_list                 \n",
       "Animation        6.578075  \n",
       "Adventure        6.445279  \n",
       "Sci-Fi           6.168293  \n",
       "Fantasy          6.012281  \n",
       "Action           6.092846  \n",
       "Musical          6.576190  \n",
       "Family           6.230405  \n",
       "Comedy           6.222262  \n",
       "Sport            6.662687  \n",
       "Western          6.500000  "
      ]
     },
     "execution_count": 641,
     "metadata": {},
     "output_type": "execute_result"
    }
   ],
   "source": [
    "# Checking to see if this DataFrame looks the same as genre_np\n",
    "genre_ww"
   ]
  },
  {
   "cell_type": "code",
   "execution_count": 655,
   "metadata": {},
   "outputs": [
    {
     "data": {
      "text/plain": [
       "([<matplotlib.axis.XTick at 0x7fd548583cd0>,\n",
       "  <matplotlib.axis.XTick at 0x7fd548583610>,\n",
       "  <matplotlib.axis.XTick at 0x7fd5485834f0>,\n",
       "  <matplotlib.axis.XTick at 0x7fd54859bb80>,\n",
       "  <matplotlib.axis.XTick at 0x7fd5485a20d0>,\n",
       "  <matplotlib.axis.XTick at 0x7fd5485a2280>,\n",
       "  <matplotlib.axis.XTick at 0x7fd5485a2790>,\n",
       "  <matplotlib.axis.XTick at 0x7fd5485a2ca0>,\n",
       "  <matplotlib.axis.XTick at 0x7fd5486241f0>,\n",
       "  <matplotlib.axis.XTick at 0x7fd548624700>],\n",
       " [Text(0, 0, 'Animation'),\n",
       "  Text(1, 0, 'Adventure'),\n",
       "  Text(2, 0, 'Sci-Fi'),\n",
       "  Text(3, 0, 'Fantasy'),\n",
       "  Text(4, 0, 'Action'),\n",
       "  Text(5, 0, 'Musical'),\n",
       "  Text(6, 0, 'Family'),\n",
       "  Text(7, 0, 'Comedy'),\n",
       "  Text(8, 0, 'Sport'),\n",
       "  Text(9, 0, 'Western')])"
      ]
     },
     "execution_count": 655,
     "metadata": {},
     "output_type": "execute_result"
    },
    {
     "data": {
      "image/png": "[encoded data removed]",
      "text/plain": [
       "<Figure size 864x720 with 1 Axes>"
      ]
     },
     "metadata": {
      "needs_background": "light"
     },
     "output_type": "display_data"
    }
   ],
   "source": [
    "# plotting genres by worldwide_gross\n",
    "\n",
    "plt.figure(figsize=(12,10))\n",
    "\n",
    "genres2 = genre_ww.index\n",
    "worldwide_gross = genre_ww.worldwide_gross\n",
    "plt.bar(range(len(genres2)), worldwide_gross, color=['palevioletred', 'palevioletred', 'palevioletred', 'plum', 'plum', 'plum', 'plum', 'plum', 'plum', 'plum'])\n",
    "plt.title('Top 10 Genres by Worldwide Gross', fontsize=26)\n",
    "plt.ylabel('Gross Revenue (in 100 Millions)', fontsize=20)\n",
    "plt.xlabel('Genres', fontsize=20)\n",
    "plt.xticks(range(len(genres2)), genres2, fontsize=14, rotation=15)"
   ]
  },
  {
   "cell_type": "markdown",
   "metadata": {},
   "source": [
    "Below, I'm going to go through some similar steps but look at directors instead. First, I'm going to group by a director's name, and then use a sum aggregation."
   ]
  },
  {
   "cell_type": "code",
   "execution_count": 643,
   "metadata": {},
   "outputs": [],
   "source": [
    "director_gby = all_df.groupby(['primary_name']).mean()"
   ]
  },
  {
   "cell_type": "markdown",
   "metadata": {},
   "source": [
    "Now, I'm going to sort the directors by averagerating."
   ]
  },
  {
   "cell_type": "code",
   "execution_count": 644,
   "metadata": {},
   "outputs": [],
   "source": [
    "director_sv = director_gby.sort_values(['averagerating'], ascending=False).head(18)"
   ]
  },
  {
   "cell_type": "markdown",
   "metadata": {},
   "source": [
    "After playing around with the aggregation and sorting values, I realized that when I was sorting directors by averagerating, I was also getting directors who produced unprofitable movies. Even though averagerating still has a positive correlation to worldwide_gross, it isn't as strong of a correlation as production budget. That being said, I'm going to filter the director_sv DataFrame by those with an average net_profit greater than 0."
   ]
  },
  {
   "cell_type": "code",
   "execution_count": 645,
   "metadata": {},
   "outputs": [],
   "source": [
    "director_sv_filt = director_sv.loc[director_sv['net_profit'] > 0]"
   ]
  },
  {
   "cell_type": "markdown",
   "metadata": {},
   "source": [
    "Now that I've grouped by, sorted, and filtered, I'm going to compare my director_sv DataFrame to the results filtered with a net_profit > 0."
   ]
  },
  {
   "cell_type": "code",
   "execution_count": 646,
   "metadata": {},
   "outputs": [
    {
     "data": {
      "text/html": [
       "<div>\n",
       "<style scoped>\n",
       "    .dataframe tbody tr th:only-of-type {\n",
       "        vertical-align: middle;\n",
       "    }\n",
       "\n",
       "    .dataframe tbody tr th {\n",
       "        vertical-align: top;\n",
       "    }\n",
       "\n",
       "    .dataframe thead th {\n",
       "        text-align: right;\n",
       "    }\n",
       "</style>\n",
       "<table border=\"1\" class=\"dataframe\">\n",
       "  <thead>\n",
       "    <tr style=\"text-align: right;\">\n",
       "      <th></th>\n",
       "      <th>production_budget</th>\n",
       "      <th>domestic_gross</th>\n",
       "      <th>worldwide_gross</th>\n",
       "      <th>net_profit</th>\n",
       "      <th>averagerating</th>\n",
       "    </tr>\n",
       "    <tr>\n",
       "      <th>primary_name</th>\n",
       "      <th></th>\n",
       "      <th></th>\n",
       "      <th></th>\n",
       "      <th></th>\n",
       "      <th></th>\n",
       "    </tr>\n",
       "  </thead>\n",
       "  <tbody>\n",
       "    <tr>\n",
       "      <th>Ron Yassen</th>\n",
       "      <td>6250000.0</td>\n",
       "      <td>18594333.5</td>\n",
       "      <td>28500000.0</td>\n",
       "      <td>22250000.0</td>\n",
       "      <td>9.3</td>\n",
       "    </tr>\n",
       "    <tr>\n",
       "      <th>Ricardo Martinez</th>\n",
       "      <td>3000000.0</td>\n",
       "      <td>1803064.0</td>\n",
       "      <td>4495262.0</td>\n",
       "      <td>1495262.0</td>\n",
       "      <td>9.2</td>\n",
       "    </tr>\n",
       "    <tr>\n",
       "      <th>Pete Middleton</th>\n",
       "      <td>48000000.0</td>\n",
       "      <td>124107476.0</td>\n",
       "      <td>208300000.0</td>\n",
       "      <td>160300000.0</td>\n",
       "      <td>9.2</td>\n",
       "    </tr>\n",
       "    <tr>\n",
       "      <th>Angel Manuel Soto</th>\n",
       "      <td>11000000.0</td>\n",
       "      <td>13110448.0</td>\n",
       "      <td>19947280.0</td>\n",
       "      <td>8947280.0</td>\n",
       "      <td>9.0</td>\n",
       "    </tr>\n",
       "    <tr>\n",
       "      <th>Suman Upreti</th>\n",
       "      <td>14000000.0</td>\n",
       "      <td>11242801.0</td>\n",
       "      <td>20597806.0</td>\n",
       "      <td>6597806.0</td>\n",
       "      <td>8.9</td>\n",
       "    </tr>\n",
       "    <tr>\n",
       "      <th>Giriraj Ghimire</th>\n",
       "      <td>14000000.0</td>\n",
       "      <td>11242801.0</td>\n",
       "      <td>20597806.0</td>\n",
       "      <td>6597806.0</td>\n",
       "      <td>8.9</td>\n",
       "    </tr>\n",
       "    <tr>\n",
       "      <th>Milan Chams</th>\n",
       "      <td>14000000.0</td>\n",
       "      <td>11242801.0</td>\n",
       "      <td>20597806.0</td>\n",
       "      <td>6597806.0</td>\n",
       "      <td>8.9</td>\n",
       "    </tr>\n",
       "    <tr>\n",
       "      <th>Indra Gunawan</th>\n",
       "      <td>28000000.0</td>\n",
       "      <td>50255310.0</td>\n",
       "      <td>77477297.0</td>\n",
       "      <td>49477297.0</td>\n",
       "      <td>8.8</td>\n",
       "    </tr>\n",
       "    <tr>\n",
       "      <th>Mike Erickson</th>\n",
       "      <td>3000000.0</td>\n",
       "      <td>11977130.0</td>\n",
       "      <td>16553285.0</td>\n",
       "      <td>13553285.0</td>\n",
       "      <td>8.8</td>\n",
       "    </tr>\n",
       "    <tr>\n",
       "      <th>Rhonda Parker</th>\n",
       "      <td>30000000.0</td>\n",
       "      <td>52880016.0</td>\n",
       "      <td>52880016.0</td>\n",
       "      <td>22880016.0</td>\n",
       "      <td>8.8</td>\n",
       "    </tr>\n",
       "  </tbody>\n",
       "</table>\n",
       "</div>"
      ],
      "text/plain": [
       "                   production_budget  domestic_gross  worldwide_gross  \\\n",
       "primary_name                                                            \n",
       "Ron Yassen                 6250000.0      18594333.5       28500000.0   \n",
       "Ricardo Martinez           3000000.0       1803064.0        4495262.0   \n",
       "Pete Middleton            48000000.0     124107476.0      208300000.0   \n",
       "Angel Manuel Soto         11000000.0      13110448.0       19947280.0   \n",
       "Suman Upreti              14000000.0      11242801.0       20597806.0   \n",
       "Giriraj Ghimire           14000000.0      11242801.0       20597806.0   \n",
       "Milan Chams               14000000.0      11242801.0       20597806.0   \n",
       "Indra Gunawan             28000000.0      50255310.0       77477297.0   \n",
       "Mike Erickson              3000000.0      11977130.0       16553285.0   \n",
       "Rhonda Parker             30000000.0      52880016.0       52880016.0   \n",
       "\n",
       "                    net_profit  averagerating  \n",
       "primary_name                                   \n",
       "Ron Yassen          22250000.0            9.3  \n",
       "Ricardo Martinez     1495262.0            9.2  \n",
       "Pete Middleton     160300000.0            9.2  \n",
       "Angel Manuel Soto    8947280.0            9.0  \n",
       "Suman Upreti         6597806.0            8.9  \n",
       "Giriraj Ghimire      6597806.0            8.9  \n",
       "Milan Chams          6597806.0            8.9  \n",
       "Indra Gunawan       49477297.0            8.8  \n",
       "Mike Erickson       13553285.0            8.8  \n",
       "Rhonda Parker       22880016.0            8.8  "
      ]
     },
     "execution_count": 646,
     "metadata": {},
     "output_type": "execute_result"
    }
   ],
   "source": [
    "director_sv_filt.head(10)"
   ]
  },
  {
   "cell_type": "code",
   "execution_count": 647,
   "metadata": {},
   "outputs": [
    {
     "data": {
      "text/html": [
       "<div>\n",
       "<style scoped>\n",
       "    .dataframe tbody tr th:only-of-type {\n",
       "        vertical-align: middle;\n",
       "    }\n",
       "\n",
       "    .dataframe tbody tr th {\n",
       "        vertical-align: top;\n",
       "    }\n",
       "\n",
       "    .dataframe thead th {\n",
       "        text-align: right;\n",
       "    }\n",
       "</style>\n",
       "<table border=\"1\" class=\"dataframe\">\n",
       "  <thead>\n",
       "    <tr style=\"text-align: right;\">\n",
       "      <th></th>\n",
       "      <th>production_budget</th>\n",
       "      <th>domestic_gross</th>\n",
       "      <th>worldwide_gross</th>\n",
       "      <th>net_profit</th>\n",
       "      <th>averagerating</th>\n",
       "    </tr>\n",
       "    <tr>\n",
       "      <th>primary_name</th>\n",
       "      <th></th>\n",
       "      <th></th>\n",
       "      <th></th>\n",
       "      <th></th>\n",
       "      <th></th>\n",
       "    </tr>\n",
       "  </thead>\n",
       "  <tbody>\n",
       "    <tr>\n",
       "      <th>Ron Yassen</th>\n",
       "      <td>6250000.0</td>\n",
       "      <td>18594333.5</td>\n",
       "      <td>28500000.0</td>\n",
       "      <td>22250000.0</td>\n",
       "      <td>9.3</td>\n",
       "    </tr>\n",
       "    <tr>\n",
       "      <th>Ricardo Martinez</th>\n",
       "      <td>3000000.0</td>\n",
       "      <td>1803064.0</td>\n",
       "      <td>4495262.0</td>\n",
       "      <td>1495262.0</td>\n",
       "      <td>9.2</td>\n",
       "    </tr>\n",
       "    <tr>\n",
       "      <th>Pete Middleton</th>\n",
       "      <td>48000000.0</td>\n",
       "      <td>124107476.0</td>\n",
       "      <td>208300000.0</td>\n",
       "      <td>160300000.0</td>\n",
       "      <td>9.2</td>\n",
       "    </tr>\n",
       "    <tr>\n",
       "      <th>Angel Manuel Soto</th>\n",
       "      <td>11000000.0</td>\n",
       "      <td>13110448.0</td>\n",
       "      <td>19947280.0</td>\n",
       "      <td>8947280.0</td>\n",
       "      <td>9.0</td>\n",
       "    </tr>\n",
       "    <tr>\n",
       "      <th>Suman Upreti</th>\n",
       "      <td>14000000.0</td>\n",
       "      <td>11242801.0</td>\n",
       "      <td>20597806.0</td>\n",
       "      <td>6597806.0</td>\n",
       "      <td>8.9</td>\n",
       "    </tr>\n",
       "    <tr>\n",
       "      <th>Giriraj Ghimire</th>\n",
       "      <td>14000000.0</td>\n",
       "      <td>11242801.0</td>\n",
       "      <td>20597806.0</td>\n",
       "      <td>6597806.0</td>\n",
       "      <td>8.9</td>\n",
       "    </tr>\n",
       "    <tr>\n",
       "      <th>Milan Chams</th>\n",
       "      <td>14000000.0</td>\n",
       "      <td>11242801.0</td>\n",
       "      <td>20597806.0</td>\n",
       "      <td>6597806.0</td>\n",
       "      <td>8.9</td>\n",
       "    </tr>\n",
       "    <tr>\n",
       "      <th>Indra Gunawan</th>\n",
       "      <td>28000000.0</td>\n",
       "      <td>50255310.0</td>\n",
       "      <td>77477297.0</td>\n",
       "      <td>49477297.0</td>\n",
       "      <td>8.8</td>\n",
       "    </tr>\n",
       "    <tr>\n",
       "      <th>Mike Erickson</th>\n",
       "      <td>3000000.0</td>\n",
       "      <td>11977130.0</td>\n",
       "      <td>16553285.0</td>\n",
       "      <td>13553285.0</td>\n",
       "      <td>8.8</td>\n",
       "    </tr>\n",
       "    <tr>\n",
       "      <th>Rhonda Parker</th>\n",
       "      <td>30000000.0</td>\n",
       "      <td>52880016.0</td>\n",
       "      <td>52880016.0</td>\n",
       "      <td>22880016.0</td>\n",
       "      <td>8.8</td>\n",
       "    </tr>\n",
       "  </tbody>\n",
       "</table>\n",
       "</div>"
      ],
      "text/plain": [
       "                   production_budget  domestic_gross  worldwide_gross  \\\n",
       "primary_name                                                            \n",
       "Ron Yassen                 6250000.0      18594333.5       28500000.0   \n",
       "Ricardo Martinez           3000000.0       1803064.0        4495262.0   \n",
       "Pete Middleton            48000000.0     124107476.0      208300000.0   \n",
       "Angel Manuel Soto         11000000.0      13110448.0       19947280.0   \n",
       "Suman Upreti              14000000.0      11242801.0       20597806.0   \n",
       "Giriraj Ghimire           14000000.0      11242801.0       20597806.0   \n",
       "Milan Chams               14000000.0      11242801.0       20597806.0   \n",
       "Indra Gunawan             28000000.0      50255310.0       77477297.0   \n",
       "Mike Erickson              3000000.0      11977130.0       16553285.0   \n",
       "Rhonda Parker             30000000.0      52880016.0       52880016.0   \n",
       "\n",
       "                    net_profit  averagerating  \n",
       "primary_name                                   \n",
       "Ron Yassen          22250000.0            9.3  \n",
       "Ricardo Martinez     1495262.0            9.2  \n",
       "Pete Middleton     160300000.0            9.2  \n",
       "Angel Manuel Soto    8947280.0            9.0  \n",
       "Suman Upreti         6597806.0            8.9  \n",
       "Giriraj Ghimire      6597806.0            8.9  \n",
       "Milan Chams          6597806.0            8.9  \n",
       "Indra Gunawan       49477297.0            8.8  \n",
       "Mike Erickson       13553285.0            8.8  \n",
       "Rhonda Parker       22880016.0            8.8  "
      ]
     },
     "execution_count": 647,
     "metadata": {},
     "output_type": "execute_result"
    }
   ],
   "source": [
    "# Taking a look at the new DataFrame\n",
    "director_sv_filt.head(10)"
   ]
  },
  {
   "cell_type": "markdown",
   "metadata": {},
   "source": [
    "Now I can see some more directors who have had profitable movies without really having to sacrifice anything in averagerating."
   ]
  },
  {
   "cell_type": "markdown",
   "metadata": {},
   "source": [
    "Now that I've created the variable, I also want to plot this into a bar graph."
   ]
  },
  {
   "cell_type": "code",
   "execution_count": 656,
   "metadata": {},
   "outputs": [
    {
     "data": {
      "text/plain": [
       "(array([ 0.,  2.,  4.,  6.,  8., 10.]),\n",
       " [Text(0, 0, ''),\n",
       "  Text(0, 0, ''),\n",
       "  Text(0, 0, ''),\n",
       "  Text(0, 0, ''),\n",
       "  Text(0, 0, ''),\n",
       "  Text(0, 0, '')])"
      ]
     },
     "execution_count": 656,
     "metadata": {},
     "output_type": "execute_result"
    },
    {
     "data": {
      "image/png": "[encoded data removed]",
      "text/plain": [
       "<Figure size 1800x720 with 1 Axes>"
      ]
     },
     "metadata": {
      "needs_background": "light"
     },
     "output_type": "display_data"
    }
   ],
   "source": [
    "plt.figure(figsize=(25, 10))\n",
    "\n",
    "directors = director_sv_filt.index\n",
    "rating = director_sv_filt.averagerating\n",
    "plt.bar(range(len(directors)), rating, color=['palevioletred', 'palevioletred', 'palevioletred', 'plum', 'plum', 'plum', 'plum', 'plum', 'plum', 'plum'])\n",
    "\n",
    "plt.title('Top 10 Profitable Directors by Average Rating', fontsize=40)\n",
    "plt.ylabel('Average Rating', fontsize=35)\n",
    "plt.xlabel('Directors', fontsize=35)\n",
    "plt.xticks(range(len(directors)), directors, fontsize=25, rotation=20)\n",
    "plt.yticks()"
   ]
  },
  {
   "cell_type": "markdown",
   "metadata": {},
   "source": [
    "After looking at directors by averagerating, I want to sort them by net profit as well to see how much things change."
   ]
  },
  {
   "cell_type": "code",
   "execution_count": 649,
   "metadata": {},
   "outputs": [],
   "source": [
    "# Sorting directors by net_profit\n",
    "directors_np = director_gby.sort_values('net_profit', ascending=False).head(10)"
   ]
  },
  {
   "cell_type": "code",
   "execution_count": 650,
   "metadata": {},
   "outputs": [
    {
     "data": {
      "text/html": [
       "<div>\n",
       "<style scoped>\n",
       "    .dataframe tbody tr th:only-of-type {\n",
       "        vertical-align: middle;\n",
       "    }\n",
       "\n",
       "    .dataframe tbody tr th {\n",
       "        vertical-align: top;\n",
       "    }\n",
       "\n",
       "    .dataframe thead th {\n",
       "        text-align: right;\n",
       "    }\n",
       "</style>\n",
       "<table border=\"1\" class=\"dataframe\">\n",
       "  <thead>\n",
       "    <tr style=\"text-align: right;\">\n",
       "      <th></th>\n",
       "      <th>production_budget</th>\n",
       "      <th>domestic_gross</th>\n",
       "      <th>worldwide_gross</th>\n",
       "      <th>net_profit</th>\n",
       "      <th>averagerating</th>\n",
       "    </tr>\n",
       "    <tr>\n",
       "      <th>primary_name</th>\n",
       "      <th></th>\n",
       "      <th></th>\n",
       "      <th></th>\n",
       "      <th></th>\n",
       "      <th></th>\n",
       "    </tr>\n",
       "  </thead>\n",
       "  <tbody>\n",
       "    <tr>\n",
       "      <th>Pete Meads</th>\n",
       "      <td>200000000.0</td>\n",
       "      <td>659363944.0</td>\n",
       "      <td>2.208208e+09</td>\n",
       "      <td>2.008208e+09</td>\n",
       "      <td>6.200000</td>\n",
       "    </tr>\n",
       "    <tr>\n",
       "      <th>Kevin Lincoln</th>\n",
       "      <td>200000000.0</td>\n",
       "      <td>659363944.0</td>\n",
       "      <td>2.208208e+09</td>\n",
       "      <td>2.008208e+09</td>\n",
       "      <td>6.200000</td>\n",
       "    </tr>\n",
       "    <tr>\n",
       "      <th>Jennifer Lee</th>\n",
       "      <td>150000000.0</td>\n",
       "      <td>400738009.0</td>\n",
       "      <td>1.272470e+09</td>\n",
       "      <td>1.122470e+09</td>\n",
       "      <td>7.500000</td>\n",
       "    </tr>\n",
       "    <tr>\n",
       "      <th>Adam Green</th>\n",
       "      <td>150000000.0</td>\n",
       "      <td>400738009.0</td>\n",
       "      <td>1.272470e+09</td>\n",
       "      <td>1.122470e+09</td>\n",
       "      <td>6.200000</td>\n",
       "    </tr>\n",
       "    <tr>\n",
       "      <th>Chris Buck</th>\n",
       "      <td>150000000.0</td>\n",
       "      <td>400738009.0</td>\n",
       "      <td>1.272470e+09</td>\n",
       "      <td>1.122470e+09</td>\n",
       "      <td>7.500000</td>\n",
       "    </tr>\n",
       "    <tr>\n",
       "      <th>Joe Russo</th>\n",
       "      <td>240000000.0</td>\n",
       "      <td>448882263.0</td>\n",
       "      <td>1.300869e+09</td>\n",
       "      <td>1.060869e+09</td>\n",
       "      <td>8.033333</td>\n",
       "    </tr>\n",
       "    <tr>\n",
       "      <th>Anthony Russo</th>\n",
       "      <td>240000000.0</td>\n",
       "      <td>448882263.0</td>\n",
       "      <td>1.300869e+09</td>\n",
       "      <td>1.060869e+09</td>\n",
       "      <td>8.033333</td>\n",
       "    </tr>\n",
       "    <tr>\n",
       "      <th>Kyle Balda</th>\n",
       "      <td>74500000.0</td>\n",
       "      <td>300335035.0</td>\n",
       "      <td>1.097532e+09</td>\n",
       "      <td>1.023032e+09</td>\n",
       "      <td>6.350000</td>\n",
       "    </tr>\n",
       "    <tr>\n",
       "      <th>Eric Guillon</th>\n",
       "      <td>75000000.0</td>\n",
       "      <td>264624300.0</td>\n",
       "      <td>1.034728e+09</td>\n",
       "      <td>9.597278e+08</td>\n",
       "      <td>6.300000</td>\n",
       "    </tr>\n",
       "    <tr>\n",
       "      <th>Jared Bush</th>\n",
       "      <td>150000000.0</td>\n",
       "      <td>341268248.0</td>\n",
       "      <td>1.019430e+09</td>\n",
       "      <td>8.694296e+08</td>\n",
       "      <td>8.000000</td>\n",
       "    </tr>\n",
       "  </tbody>\n",
       "</table>\n",
       "</div>"
      ],
      "text/plain": [
       "               production_budget  domestic_gross  worldwide_gross  \\\n",
       "primary_name                                                        \n",
       "Pete Meads           200000000.0     659363944.0     2.208208e+09   \n",
       "Kevin Lincoln        200000000.0     659363944.0     2.208208e+09   \n",
       "Jennifer Lee         150000000.0     400738009.0     1.272470e+09   \n",
       "Adam Green           150000000.0     400738009.0     1.272470e+09   \n",
       "Chris Buck           150000000.0     400738009.0     1.272470e+09   \n",
       "Joe Russo            240000000.0     448882263.0     1.300869e+09   \n",
       "Anthony Russo        240000000.0     448882263.0     1.300869e+09   \n",
       "Kyle Balda            74500000.0     300335035.0     1.097532e+09   \n",
       "Eric Guillon          75000000.0     264624300.0     1.034728e+09   \n",
       "Jared Bush           150000000.0     341268248.0     1.019430e+09   \n",
       "\n",
       "                 net_profit  averagerating  \n",
       "primary_name                                \n",
       "Pete Meads     2.008208e+09       6.200000  \n",
       "Kevin Lincoln  2.008208e+09       6.200000  \n",
       "Jennifer Lee   1.122470e+09       7.500000  \n",
       "Adam Green     1.122470e+09       6.200000  \n",
       "Chris Buck     1.122470e+09       7.500000  \n",
       "Joe Russo      1.060869e+09       8.033333  \n",
       "Anthony Russo  1.060869e+09       8.033333  \n",
       "Kyle Balda     1.023032e+09       6.350000  \n",
       "Eric Guillon   9.597278e+08       6.300000  \n",
       "Jared Bush     8.694296e+08       8.000000  "
      ]
     },
     "execution_count": 650,
     "metadata": {},
     "output_type": "execute_result"
    }
   ],
   "source": [
    "# Looking at the new DataFrame\n",
    "directors_np.head(10)"
   ]
  },
  {
   "cell_type": "code",
   "execution_count": 658,
   "metadata": {},
   "outputs": [
    {
     "data": {
      "text/plain": [
       "(array([0.00e+00, 2.50e+08, 5.00e+08, 7.50e+08, 1.00e+09, 1.25e+09,\n",
       "        1.50e+09, 1.75e+09, 2.00e+09, 2.25e+09]),\n",
       " [Text(0, 0, ''),\n",
       "  Text(0, 0, ''),\n",
       "  Text(0, 0, ''),\n",
       "  Text(0, 0, ''),\n",
       "  Text(0, 0, ''),\n",
       "  Text(0, 0, ''),\n",
       "  Text(0, 0, ''),\n",
       "  Text(0, 0, ''),\n",
       "  Text(0, 0, ''),\n",
       "  Text(0, 0, '')])"
      ]
     },
     "execution_count": 658,
     "metadata": {},
     "output_type": "execute_result"
    },
    {
     "data": {
      "image/png": "[encoded data removed]",
      "text/plain": [
       "<Figure size 1800x720 with 1 Axes>"
      ]
     },
     "metadata": {
      "needs_background": "light"
     },
     "output_type": "display_data"
    }
   ],
   "source": [
    "# Plotting directors by net profit\n",
    "plt.figure(figsize=(25, 10))\n",
    "\n",
    "directors = directors_np.index\n",
    "net_profit = directors_np.net_profit\n",
    "plt.bar(range(len(directors)), net_profit, color=['palevioletred', 'palevioletred', 'plum', 'plum', 'plum', 'plum', 'plum', 'plum', 'plum', 'plum'])\n",
    "\n",
    "plt.title('Top 10 Most Profitable Directors', fontsize=40)\n",
    "plt.ylabel('Net Profit ($ in Billions)', fontsize=35)\n",
    "plt.xlabel('Directors', fontsize=35)\n",
    "plt.xticks(range(len(directors)), directors, fontsize=25, rotation=20)\n",
    "plt.yticks()"
   ]
  },
  {
   "cell_type": "markdown",
   "metadata": {},
   "source": [
    "At first, it seems surprising that these Directors have the exact same net profit, but it's actually because these directors have worked on successful movies together."
   ]
  },
  {
   "cell_type": "markdown",
   "metadata": {},
   "source": [
    "One of the major things I'm comparing as well is how net profit is impacted by production budget. I'm going to use a scatter plot for this because there are so many data points."
   ]
  },
  {
   "cell_type": "code",
   "execution_count": 652,
   "metadata": {},
   "outputs": [
    {
     "data": {
      "text/plain": [
       "Text(0, 0.5, 'Net Profit(in Billions)')"
      ]
     },
     "execution_count": 652,
     "metadata": {},
     "output_type": "execute_result"
    },
    {
     "data": {
      "image/png": "[encoded data removed]",
      "text/plain": [
       "<Figure size 1080x360 with 1 Axes>"
      ]
     },
     "metadata": {
      "needs_background": "light"
     },
     "output_type": "display_data"
    }
   ],
   "source": [
    "#Set up plot\n",
    "fig, ax = plt.subplots(figsize=(15,5))\n",
    "                       \n",
    "#Plot Net Profit vs Production Budget\n",
    "ax.scatter(all_df['production_budget'], all_df['net_profit'], alpha=1.0, color='pink')\n",
    "ax.set_title('Production Budget vs Net Profit', fontsize=20)\n",
    "ax.set_xlabel('Production Budget (in 100 Millions)', fontsize=14)\n",
    "ax.set_ylabel('Net Profit(in Billions)', fontsize=14)"
   ]
  },
  {
   "cell_type": "markdown",
   "metadata": {},
   "source": [
    "***"
   ]
  },
  {
   "cell_type": "markdown",
   "metadata": {},
   "source": [
    "# Evaluation\n",
    "\n",
    "Based on these visuals, I am cofident that this could be applied to a larger dataset and generalize that as well. If I were to do this analysis again, I would do my best to get more current data and make sure I got data on all of the best movies possible. Because of the way some of the DataFrames had to be joined, some movies had to be excluded (i.e. Avatar). This analysis could also be made more efficiently by using functions, and be a more thorough evaluation by going through more aspects like actors, run time, release date, and screenwriters. In the future I would go further into analysis by grouping production budget into buckets, along with gross or net profit."
   ]
  },
  {
   "cell_type": "markdown",
   "metadata": {},
   "source": [
    "***"
   ]
  },
  {
   "cell_type": "markdown",
   "metadata": {},
   "source": [
    "# Conclusions\n",
    "## *Recommendations*\n",
    "\n",
    "### Genre\n",
    "\n",
    "- *Animation*\n",
    "- *Adventure*\n",
    "- *Sci-fi*\n",
    "\n",
    "There are many types of animation that Microsoft could pursue, but it would definitely limit Microsoft to a demographic who likes to watch animated movies. Adventure and Sci-fi are very similar in that sense, where most people don't like certain genres. However, these three genres are very popular and they're also the most profitable. Since Microsoft doesn't have the first mover advantage in the film industry, the biggest challenge will be creating original ideas.\n",
    "\n",
    "### Directors\n",
    "\n",
    "- *Ron Yassen* \n",
    "- *Ricardo Martinez*\n",
    "- *Pete Middleton*\n",
    "\n",
    "Ron Yassen, Ricardo Martinez, and Pete Middleton are all great directors with top ratings and profitable movies. Average rating does have a positive correlation to net profit, but it isn't as strong of a correlation as production budget. That being said, I also wanted to take a look at directors with the highest Net Profit to remain consistent with the genre analysis. \n",
    "\n",
    "- *Pete Meads*\n",
    "- *Kevin Lincoln*\n",
    "\n",
    "Pete Meads and Kevin Lincoln are two of the best directors when considering net profit. Although their ratings aren't as high as other directors, that is likely because their main genre is Animation, and like I said before, Animation is not for everyone. \n",
    "\n",
    "This analysis of Directors provides Microsoft with some options. If Microsoft's priority is net profit, then they should consider creating an animated film with animation directors. However, if that isn't Microsoft's concern for their first movie, and the company would rather leave a lasting impression with a high rating, then Microsoft should consider another top genre like Adventure or Sci-Fi and have it be directed by Ron Yassen, Ricardo Martinez, or Pete Middleton. \n",
    "\n",
    "### Production Budget\n",
    "\n",
    "- Production Budget > $100 Million\n",
    "\n",
    "Microsoft should expect to allocate at least 100 million dollars into the film's production budget. As seen in the scatter plot, there are many profitable movies that have spent 100 million dollars on production and have easily doubled their net profit.\n"
   ]
  },
  {
   "cell_type": "markdown",
   "metadata": {},
   "source": [
    "## *Limitations and Lessons Learned*"
   ]
  },
  {
   "cell_type": "markdown",
   "metadata": {},
   "source": [
    "**Limitations**"
   ]
  },
  {
   "cell_type": "markdown",
   "metadata": {},
   "source": [
    "This data is not the newest data. At the time of this analysis, it's Fall 2022, but a lot of this data is as old as 2019. A lot of major movies such as Avatar have been excluded from this analysis because there wasn't enough data to perform the analysis. In the future, I would perform webscraping to get more recent, accurate data that is more well-rounded of the current film industry environment. I would also apply certain filters to directors to make sure they are in the genre that I recommended Microsoft create."
   ]
  },
  {
   "cell_type": "markdown",
   "metadata": {},
   "source": [
    "**Lessons Learned**"
   ]
  },
  {
   "cell_type": "markdown",
   "metadata": {},
   "source": [
    "In the future, I would create more functions throughout the analysis to reduce repition and increase ease of reproduction. I would also be sure to look at all of the files before deciding how I wanted to conduct my analysis. Not only that, but I would look at which DataFrames have primary keys, so I didn't have to join on something other than a primary key. In the future, if I don't know that much about the data, I would confirm that it makes sense. For example, if I had a person in my DataFrame and I was recommending them as a director, I would verify that they have in fact directed movies before."
   ]
  },
  {
   "cell_type": "markdown",
   "metadata": {},
   "source": [
    "***"
   ]
  }
 ],
 "metadata": {
  "kernelspec": {
   "display_name": "Python 3",
   "language": "python",
   "name": "python3"
  },
  "language_info": {
   "codemirror_mode": {
    "name": "ipython",
    "version": 3
   },
   "file_extension": ".py",
   "mimetype": "text/x-python",
   "name": "python",
   "nbconvert_exporter": "python",
   "pygments_lexer": "ipython3",
   "version": "3.8.5"
  }
 },
 "nbformat": 4,
 "nbformat_minor": 4
}
